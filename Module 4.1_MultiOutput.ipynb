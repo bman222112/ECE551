{
 "cells": [
  {
   "cell_type": "markdown",
   "id": "d4e16a31-5414-4be2-bfe3-13da8b3a6798",
   "metadata": {},
   "source": [
    "<p style=\"font-size:28px;font-weight:bold;\">Module 4 - Multi-class/Multi-output</p>\n",
    "One relevant feature of our given dataset is the independence of two different potential outputs:\n",
    "<ul>\n",
    "    <li>Pump Type</li>\n",
    "    <li>Pump State</li>\n",
    "</ul>\n",
    "\n",
    "Because of this, a multi-class/multi-output classifier may be more relevant. Before we do that, we'll need to produce a second set of labels. As long as no changes have been made to the directory structure since the data was processed, this can be run without needing to reimport the data."
   ]
  },
  {
   "cell_type": "code",
   "execution_count": 2,
   "id": "7f9ffec7-efd5-4e0b-b235-59a992dfaf90",
   "metadata": {},
   "outputs": [],
   "source": [
    "import numpy as np\n",
    "import os"
   ]
  },
  {
   "cell_type": "code",
   "execution_count": 3,
   "id": "6ff84b63-22f3-434b-a160-f2cced09d23b",
   "metadata": {},
   "outputs": [
    {
     "name": "stdout",
     "output_type": "stream",
     "text": [
      "(918, 2)\n"
     ]
    }
   ],
   "source": [
    "## For labels, pumps 1-4 = labels 0-3\n",
    "## start = 0, run = 1, stop = 2\n",
    "\n",
    "samples = 0;\n",
    "for root,dirs,files in os.walk(\".\\\\Dataset\", topdown=True):\n",
    "    for name in files:\n",
    "        if(\".wav\" in name):\n",
    "            samples += 1;\n",
    "paths = [];\n",
    "labels= np.zeros((samples,2));\n",
    "i=0;\n",
    "for root,dirs,files in os.walk(\".\\\\Dataset\", topdown=True):\n",
    "    for name in files:\n",
    "        if(\"Pump 1\" in root):\n",
    "            paths.append(os.path.join(root,name));\n",
    "            labels[i][0] = 0;\n",
    "            if(\"run\" in root):\n",
    "                labels[i][1] = 1;\n",
    "            elif(\"start\" in root):\n",
    "                labels[i][1] = 0;\n",
    "            elif(\"stop\" in root):\n",
    "                labels[i][1] = 2;\n",
    "        if(\"Pump 2\" in root):\n",
    "            paths.append(os.path.join(root,name));\n",
    "            labels[i][0] = 1;\n",
    "            if(\"run\" in root):\n",
    "                labels[i][1] = 1;\n",
    "            elif(\"start\" in root):\n",
    "                labels[i][1] = 0;\n",
    "            elif(\"stop\" in root):\n",
    "                labels[i][1] = 2;\n",
    "        if(\"Pump 3\" in root):\n",
    "            paths.append(os.path.join(root,name));\n",
    "            labels[i][0] = 2;\n",
    "            if(\"run\" in root):\n",
    "                labels[i][1] = 1;\n",
    "            elif(\"start\" in root):\n",
    "                labels[i][1] = 0;\n",
    "            elif(\"stop\" in root):\n",
    "                labels[i][1] = 2;\n",
    "        if(\"Pump 4\" in root):\n",
    "            paths.append(os.path.join(root,name));\n",
    "            labels[i][0] = 3;\n",
    "            if(\"run\" in root):\n",
    "                labels[i][1] = 1;\n",
    "            elif(\"start\" in root):\n",
    "                labels[i][1] = 0;\n",
    "            elif(\"stop\" in root):\n",
    "                labels[i][1] = 2;\n",
    "        else:\n",
    "            print(\"Bad File \" + str(i));\n",
    "            print(os.path.join(root,name));\n",
    "            i += -1;\n",
    "        i += 1;"
   ]
  },
  {
   "cell_type": "code",
   "execution_count": 4,
   "id": "26459932-5ed5-44b4-b7e1-a17765d01710",
   "metadata": {},
   "outputs": [],
   "source": [
    "np.save(\"Labels_MCMO.npy\", labels);"
   ]
  },
  {
   "cell_type": "code",
   "execution_count": null,
   "id": "2e880148-eae4-46f7-b2f9-a855f9a09cb3",
   "metadata": {},
   "outputs": [],
   "source": []
  }
 ],
 "metadata": {
  "kernelspec": {
   "display_name": "Python 3 (ipykernel)",
   "language": "python",
   "name": "python3"
  },
  "language_info": {
   "codemirror_mode": {
    "name": "ipython",
    "version": 3
   },
   "file_extension": ".py",
   "mimetype": "text/x-python",
   "name": "python",
   "nbconvert_exporter": "python",
   "pygments_lexer": "ipython3",
   "version": "3.12.11"
  }
 },
 "nbformat": 4,
 "nbformat_minor": 5
}
