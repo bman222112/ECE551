{
<<<<<<< HEAD
 "cells": [
  {
   "cell_type": "markdown",
   "id": "644b437e-ea2d-4fae-abf9-be74c5a4add3",
   "metadata": {},
   "source": [
    "<p style=\"font-size:28px;font-weight:bold;\">Module 6.1 - Convolutional Neural Networks</p>\n",
    "<p>This module introduces the concept of Convolutional Neural Networks, and how to handle processing the feature extracted audio dataset.</p>\n",
    "<p>The first thing, below, is a class, <span style=\"color:green;font-weight:bold;\">class</span> <span style=\"color:blue;font-weight:bold\">CCDataset</span>, that defines how one of the previously feature extracted datasets will be read in. This class loads the Numpy file and labels, along with the ordered indicies from which to return the data. This allows us to create separate datasets for both the training and the test from the same parent data.</p>\n",
    "<p>Please note: No formal hyperparameter validation has been done for this example. All of the hyperparameter values were chosen using a rough manual search. An expanded effort to include a more formal process would be beneficial to improve overall performance</p>"
   ]
  },
  {
   "cell_type": "code",
   "execution_count": 2,
   "id": "a2b789ff-1794-43e6-b57f-99872ec8805c",
   "metadata": {},
   "outputs": [],
   "source": [
    "import os\n",
    "import pandas as pd\n",
    "import numpy as np\n",
    "from torch.utils.data import Dataset\n",
    "import torch\n",
    "\n",
    "class CCDataset(Dataset):\n",
    "    def __init__(self, labels, datafile, inds, transform=None, target_transform=None):\n",
    "        self.labels = np.load(labels).astype(\"int\");\n",
    "        self.data = np.load(datafile).astype(np.float32);\n",
    "        self.transform = transform\n",
    "        self.target_transform = target_transform\n",
    "        self.indices = inds;\n",
    "\n",
    "    def __len__(self):\n",
    "        return len(self.indices);\n",
    "\n",
    "    def __getitem__(self, idx):\n",
    "        dat = self.data[self.indices[idx]][:][:];\n",
    "        if self.transform:\n",
    "            dat = self.transform(dat);\n",
    "        if self.target_transform:\n",
    "            dat = self.target_transform(dat);\n",
    "        return dat, self.labels[self.indices[idx]];"
   ]
  },
  {
   "cell_type": "markdown",
   "id": "8ebb5594-8ecd-46b9-be34-8e3b5b359be1",
   "metadata": {},
   "source": [
    "Because we don't know how many total samples there are yet, to generate the random indicies, we can read in the labels definition and use it's length to generate the ranges"
   ]
  },
  {
   "cell_type": "code",
   "execution_count": 3,
   "id": "4fad871f-e82e-4f4d-b642-843e01dead26",
   "metadata": {},
   "outputs": [],
   "source": [
    "labels = np.load(\"Labels_aug.npy\");"
   ]
  },
  {
   "cell_type": "code",
   "execution_count": 4,
   "id": "bb101dfc-82c9-421d-8de9-cccc37098953",
   "metadata": {},
   "outputs": [],
   "source": [
    "import random\n",
    "random.seed(10)\n",
    "trainInds = random.sample(range(len(labels)),round(len(labels)*0.9));\n",
    "testInds = [item for item in random.sample(range(len(labels)),round(len(labels))) if item not in trainInds];\n"
   ]
  },
  {
   "cell_type": "markdown",
   "id": "70479191-535a-4c16-85c5-7cca3be1333a",
   "metadata": {},
   "source": [
    "With the ranges for training and test specified, we can read in the data using our <span style=\"color:blue;font-weight:bold;\">CCDataset</span> class. Notice we are only reading in the MFCC and LFCC data. Because the LPC dataset is not 2-Dimensional, the same Neural Network model cannot be used with LPC data. Module 7 will provide the same basic model modified for 2D data."
   ]
  },
  {
   "cell_type": "code",
   "execution_count": 5,
   "id": "c9c22089-a930-4812-98c6-8d1982150768",
   "metadata": {},
   "outputs": [],
   "source": [
    "from torchvision.transforms import ToTensor\n",
    "MFCC_train_data = CCDataset(\"Labels_aug.npy\",\"3D_MFCC_aug.npy\",trainInds, transform=ToTensor());\n",
    "MFCC_test_data = CCDataset(\"Labels_aug.npy\",\"3D_MFCC_aug.npy\",testInds, transform=ToTensor());\n",
    "LFCC_train_data = CCDataset(\"Labels_aug.npy\",\"3D_LFCC_aug.npy\",trainInds, transform=ToTensor());\n",
    "LFCC_test_data = CCDataset(\"Labels_aug.npy\",\"3D_LFCC_aug.npy\",testInds, transform=ToTensor());"
   ]
  },
  {
   "cell_type": "markdown",
   "id": "aa60414d-7fa6-423c-a902-61fd0a584ecb",
   "metadata": {},
   "source": [
    "Now that we have read in our data, we need a DataLoader object to use with training. Based on empirical testing, a batch size of 3 appeared to work the best for this dataset. Increasing the batch size will dramatically reduce model training times, but may negatively impact performance."
   ]
  },
  {
   "cell_type": "code",
   "execution_count": 6,
   "id": "20183bab-5051-4568-a073-fe5720ba51f2",
   "metadata": {},
   "outputs": [
    {
     "name": "stdout",
     "output_type": "stream",
     "text": [
      "Shape of X [N, C, M, T]: torch.Size([3, 1, 13, 181]) torch.float32\n",
      "N = batch size. This is the number of images to process at a time.\n",
      "C = number of channels. Only 1 for Cepstrum Coefficient Data\n",
      "M = number of Cepstrum Coefficients\n",
      "T = time in blocks\n",
      " \n",
      "Shape of y: torch.Size([3]) torch.int64\n",
      "y is of size N, the ground truth labels\n",
      "tensor([10,  1,  8])\n",
      "Percentage of training dataset = 90.01 percent with 2479 samples.\n",
      "Percentage of test dataset     = 9.99 percent with 275 samples.\n"
     ]
    }
   ],
   "source": [
    "from torch.utils.data import DataLoader\n",
    "batch_size = 3\n",
    "\n",
    "# Create data loaders.\n",
    "MFCC_train_dataloader = DataLoader(MFCC_train_data, batch_size=batch_size)\n",
    "MFCC_test_dataloader = DataLoader(MFCC_test_data, batch_size=batch_size)\n",
    "LFCC_train_dataloader = DataLoader(LFCC_train_data, batch_size=batch_size)\n",
    "LFCC_test_dataloader = DataLoader(LFCC_test_data, batch_size=batch_size)\n",
    "\n",
    "for X, y in MFCC_train_dataloader:\n",
    "    print(f\"Shape of X [N, C, M, T]: {X.shape} {X.dtype}\")\n",
    "    print(\"N = batch size. This is the number of images to process at a time.\")\n",
    "    print(\"C = number of channels. Only 1 for Cepstrum Coefficient Data\")\n",
    "    print(\"M = number of Cepstrum Coefficients\")\n",
    "    print(\"T = time in blocks\")\n",
    "    print(\" \")\n",
    "    print(f\"Shape of y: {y.shape} {y.dtype}\")\n",
    "    print(\"y is of size N, the ground truth labels\")\n",
    "    print(y)\n",
    "    break\n",
    "\n",
    "train_size = len(MFCC_train_dataloader.dataset)\n",
    "test_size  = len(MFCC_test_dataloader.dataset)\n",
    "train_pct  = 100*train_size/(train_size+test_size)\n",
    "test_pct   = 100*test_size/(train_size+test_size)\n",
    "print(f\"Percentage of training dataset = {train_pct:.2f} percent with {train_size} samples.\")\n",
    "print(f\"Percentage of test dataset     = {test_pct:.2f} percent with {test_size} samples.\")"
   ]
  },
  {
   "cell_type": "markdown",
   "id": "652e4b39-09ee-4807-b72c-65523123be86",
   "metadata": {},
   "source": [
    "As can be seen, the resulting output for the MFCC_train_dataloader shows an output for training of <b>[batch, 1, MFCCs, Time]</b>, matching our MFCC data and the batch size.</br></br>\n",
    "Next, we'll define our class names, along with a quick test to see what the first item out of our dataset is, and verify it is labeled correctly"
   ]
  },
  {
   "cell_type": "code",
   "execution_count": 7,
   "id": "79c5d6ca-c188-49f8-80d1-0fa7bda97f63",
   "metadata": {},
   "outputs": [],
   "source": [
    "classes = [\"Pump 1 Start\", \"Pump 1 Run\", \"Pump 1 Stop\", \"Pump 2 Start\", \"Pump 2 Run\", \"Pump 2 Stop\", \"Pump 3 Start\", \"Pump 3 Run\", \"Pump 3 Stop\", \"Pump 4 Start\", \"Pump 4 Run\", \"Pump 4 Stop\"];"
   ]
  },
  {
   "cell_type": "code",
   "execution_count": 8,
   "id": "7c600f9e-9200-47b6-98c0-156c7bf4a280",
   "metadata": {},
   "outputs": [
    {
     "name": "stdout",
     "output_type": "stream",
     "text": [
      "Expected: \tPump 1 Run\n",
      "From Dataset: \tPump 1 Run\n"
     ]
    }
   ],
   "source": [
    "print(f\"Expected: \\t{classes[labels[trainInds[1]].astype('int')]}\\nFrom Dataset: \\t{classes[MFCC_train_data.__getitem__(1)[1]]}\");"
   ]
  },
  {
   "cell_type": "markdown",
   "id": "e8b2b9b1-2915-4d94-bae9-b5d5e456dd9e",
   "metadata": {},
   "source": [
    "<p>Next, let's plot the data from the last batch determined from the dataloader above. This will show what the data looks like, and verify the labels for the samples in the batch</p>"
   ]
  },
  {
   "cell_type": "code",
   "execution_count": 9,
   "id": "187d7904-bc48-4346-88ae-a256c4432d22",
   "metadata": {},
   "outputs": [
    {
     "data": {
      "image/png": "iVBORw0KGgoAAAANSUhEUgAAAk4AAAC+CAYAAADDVIDFAAAAOnRFWHRTb2Z0d2FyZQBNYXRwbG90bGliIHZlcnNpb24zLjEwLjAsIGh0dHBzOi8vbWF0cGxvdGxpYi5vcmcvlHJYcgAAAAlwSFlzAAAPYQAAD2EBqD+naQAANe5JREFUeJztnXvsZFlV79d5VdWvu6cZZmBmvBcEB3nJK6DiRXMBRQX9Q4xGE+IDxmCMZgwRUcGIMnp9xCeoGUGNAvEVNWIMGnONAlciPnFmJKKCEuVeR4gww8z071dV53Xz/e61Tu36Tc/M6elWp7u/n+TXVXXO3muvtfbap/avftXnW4zjOJoQQgghhHhAygduIoQQQgghgDZOQgghhBAz0cZJCCGEEGIm2jgJIYQQQsxEGychhBBCiJlo4ySEEEIIMRNtnIQQQgghZqKNkxBCCCHETLRxEkIIIYSYiTZOQgghhBAzuaw2Ti972cusKAr+NE1j119/vb3qVa+yM2fO2EMZqOJ80Rd9Ef3+7d/+7dkx1nVtn/zJn2zf+I3faHfcccd/mr/ioc/FthZ+9md/1p7//Ofb6dOn6fOdd975gH20FsSltAa+4Ru+wR73uMfZwcGBPfKRj7QXv/jF9nd/93f32+ejH/0o+6H2l8ulXXfddfbCF77Q3vOe90xt5ryviH1qu8x40YteZL/4i79obdvaH//xH9vLX/5yLpSf+ZmfsYcqr3/961nc5xpj13X2t3/7t/Z1X/d1fKP51V/91f9QP8XFxcW0Fg4PD+kvfl7zmtfM7qe1IC6VNfDpn/7p9lVf9VXcBH384x+3173udfaFX/iF9qEPfciqqjprny//8i9nbG95y1u4MfzIRz5if/iHf8j+4jwYLyNe+tKXji9+8Yv3jr385S8fr7vuuvs8/4pXvGJ83vOeN73G8xtvvJHHr7zyyvGaa64Z3/SmN4333HPP+LKXvWw8derUeP3114+/93u/N/V5xzveASHl8e1vf/v49Kc/fVwul+Ozn/3s8bbbbntAn2+55ZbxUY961Hj77bfTxtve9rZzjvGVr3zleNVVV+3FAP9z0Ad9g8c85jHj93//94833HADY3r0ox/NOMWlwcW4FvL+d9xxx4OKUWtBXOxrILj11ltp54Mf/OBZz2ON4Pw73/nO+7SB2kab+MHr4Oabb6bvTdOMT3jCE8a3vvWte33NjG1e9KIXjavVanzsYx87/vqv//p4OXBZ/anubOBjT+zIzwXs3h/xiEfYn//5n9s3f/M38+P/r/iKr7DP/uzPtve+9738KPRrvuZr+Ftyzrd927fZj/7oj9pf/MVf2DXXXGNf8iVfcr9jo/9LXvIS++mf/ml+xPpg+Kd/+if7/d//fX4Ufa782I/9mH3GZ3yG/fVf/7V90zd9E+N8oI+GxcXLQ3ktXAi0FsSlsgbwqRg+KfuUT/kUe/SjH33WNqdOneIP/gy32WzO2gZjA9i6/fbbp9dve9vb7BWveIV967d+q73vfe/jn/tuuOEGe8c73rHX/7WvfS0/1br11lvtq7/6q/l+9f73v98udS7rjRMK/Vd+5VfsBS94wTn1e8YznmHf9V3fZY9//OP5ZwMsNiycr//6r+ex7/7u77aPfexjdtttt+31+57v+R77gi/4Anva057GxYaPTVGg98W3fMu3cPHhb9nnwtvf/nYuGPiFv4njTxTf8R3fYefKF3/xF/NN4lM/9VPZHzG+853vPGc74qHPQ30tPFi0FsSltAZuvvnmaUOEXwL+4A/+wBaLxVnb4nt9b37zm2n7yiuvtM/5nM+x7/zO79zzA9+VAjiPX87jNTZ0+A4Yav4JT3iCvfKVr7Qv+7Iv4/EcbBDx5020+b7v+z7+cvFTP/VTdqlz2W2c4kK6Wq3sOc95jj33uc8954l++tOfPj3H35avvvpqFn9w7bXXTl/My8F4wVVXXWVPfOIT73N3/ju/8zv2R3/0R/x+07nyuZ/7uXbLLbfYn/3Zn/E3IPzGg8dzJY8T37HCwjoek7h4uVjWwvmgtSAupTWA7zjhU893vetd3JR95Vd+pa3X6/tsj0+D/vVf/5XvJ6h9bPaf9axncUN1f8APbLRy8Pq4f8/JYojX+sTpEiQupH//93/Pgvut3/otfkwKyrLk/2DLOdtHp8c/6o//lZG/BsMwPKA/9/Wlb2ya/vEf/5G/CeA3B/zEQsD/Lro/Tp48yd+MsaB/8id/kh/T3nTTTdP584lzTkzi4uBiWQvng9aCuJTWwMMe9jBumLDB+83f/E3+ufiBPqXCphCfbOGTrz/5kz/hJ0n4tOtcfUEu5qzR4j9gHT/UuOw2TnEhfcxjHnOvgsfHlPg7bw4W1YXiT//0T6fn+C/R//AP/2BPetKTztr21a9+NT9SxfjxA37iJ36Cf48+F7BI8BErfvM4W5x93/Pv2OLy4mJZCxcSrQVxKa0BbGbu6/tL98Wnfdqn7d1yAXGj7nOe/OQn27vf/e69Y9h04fh9xRCv/zPW8X81l93G6f74vM/7PPvLv/xLe+tb32of+MAHeJG9kBfR7/3e7+V/BYVN7Prxd/Av/dIvPWtb/CngqU996t4PwH9FxRcCzwV8QvWUpzzFfuAHfmCK83d/93f5g99Y8HfsOffFEZcPD6W1AP7t3/6Nb1of/OAH+fpv/uZv+Ppc/1u11oK4GNcA/mPDD/7gD9pf/dVf2b/8y7/wPkz4Mx2+T4Xv350NfK8KMfzSL/0SfwnHbQt+4zd+w374h39473uzj33sY+kH1ljc4wxfXMef8974xjcy9h//8R/np3G4z1UO7P3CL/wCN33ID74nduONN9qljjZOGfgbMP6XwLd/+7fbZ37mZ9rdd99tX/u1X3vB7P/QD/0Q/6cC7seB32Twd+f7+mLfhQZf7vu5n/s5+/CHP8x72bz0pS9lbM973vO4EcNH1kI8VNcCLuDPfOYz+YVbgD9V4DX6nStaC+JiWwP4cxvuM4VNEj4hw6YJn5bhU6D40+Jx8N2tz/qsz+JfKbBe8Ms34sEawv/Uzv/HKL5kjv+dhzUFsIF7wxveYD/yIz/CXzTe9KY38S8dx78mctNNN9mv/dqv8U/h+BL6L//yL/MTrUudAvck+K924lIHX8jDxRi7eXxnSYjLFa0FcblzqayBoij4/ar7+6T4UkWfOAkhhBBCzEQbJyGEEEKImehPdUIIIYQQM9EnTkIIIYQQM9HGSQghhBBiJto4CSGEEELMRBsnIYQQQoiZJAG0GZz5+ddCvCfp0JQlbuIAfYKkX+M6ajaONsat2/s+HUefqkrHh8EK3Na+KG3cbnZto43rAKU2hY3brRW4IRjHaMzGwcbQ+8F32vG8qlL7YaRNvGZ7PPo4e/bRHhpEeB5xuC3YgU9j+O7+4fgAIcWIFbaD+G696/OMXZde1vXuOX3J8pX1px+wAb8it1Of0sa+o794zvjhU2gBRQ48h3hO3xFH5DJuqIa2RZFidxu0y0bJNnxgv7AB2zFHnrdoP2zWqR3sew7RF34XqxXnLnwIYl6jPuL/JTCn2XxOz4/NTz63UQfhU8wn6gQ5m/yOvITOEmz0vZ244XX2YOFaQLzuQ7lY7OU86o1+5fWaazhF/B4n8xZ9WH8eB2shrS/UcrFYprnCekCMeO51MrX1OpnWV4yBmtxuUw593tieeR126xJ1m/k1zUFWM3tz6+sJOcjnZuqDMcpU/1NO8jXatVO8rM/sPJ7H+g4bPFbVbD9uNnxdHhxM6xp5xZzgOGKhr8NoxXKxuxbFGsvyM5FrinkNxloul6tdvtjW139Tm7WpDeIJG/Td1xVssH92HZty47Z4veK6Xfr4njes0SDm3+eM9o8O77WmmCO3d6/4PHb4d/CSV9uD5WO3vdsKz8XoPhbDTr6jHDvOZV+vUi3EOcyvDew79RuH6XxfLXk+2fV1b8P0fGSdj1YOqQ5HfAZQFHw9FHUaF6HiOY5V6ToY7eNcGji7nsJGv7WyR5+Gfnf10up+a1V7ZEPZcOyqW+/5jeO0329318Oysu3iFNs13doK1LcNVnVb6+rVFD9ind4/ipJjF2M/2cUxPq8aPtKPamFtc2B1t2HfvmxsKGtruiP6hvHZt6xSTlHD8Nd9w7HIZ18trGLMW/YZ6kWaC/cXuc3zXQz9FG/4XdOnevKX7SK2APPv16m9a6HHHXMPn3O/2/qA+UCsUWuR36gfPpZeJ1FjiBnHpvlGrI1VfZviHVr2Ze2g5uqlPfKp/2NW3esTJyGEEEKImWjjJIQQQggxE22chBBCCCFmoo2TEEIIIcRMtHESQgghhJiJNk5CCCGEEDPRxkkIIYQQYibaOAkhhBBCzEQbJyGEEEKImWjjJIQQQggxE22chBBCCCEutFZdeeXDd5pp7Fmn56GlBH2Y0IWBjgy0zEKnarm0AppOfet9KivwPDSYQv8NelBuY1wfUvOsaFyby8eaFG7CD5xrFjaWtZXtZk9zaKwbK6EbFX3bbdKWahZJz8b78phrtRXwAX7hOI65reqka+yEdlfEm+m8sR/GwHOci2N5biYdnXLSGqP2FnIL/akpvoJt6DPsuHZekY879DYiFsQYWmjQ5qLGkJuBNhZSslmnuYjYj2kFRWzTPIW2YGiZRXv0HUarTp3a6XShBkIHyf1j69AC2/i8QFML40dO8Ii+sBN6hzheQZvsmI9Raz5mPn/URkKeYA8xRL3g0Y9N/kWdnQdJO23Y5dj1yPYyinEQa8QUunHT+doM8wZNMfSPGKkz1qR6DU0zxE2tQM9zvaSWGdeY55C6a6F5hrrB8dA9i3WLdq4Fh7U16b/hEX1QK2gDncFcT87rmNpvXqvh81S7me4d8x+1H/kP36GBBZ28THuO89LUjI+ad+EvNACRI6zFrPYMGmbsm/JMrUDXfEPuGDvsIXY8d9260MmcNOri2pDrzoUPaBtzBpuuF0hNOvTpPMbCrx0x5z5Pkw3MJTXa0G7XNp+TKRf8yeo05jOrDeZ826W8ZG2olYilGNp3kWuvTRJzgfHyOTkP2uZEGn/sk46cjdR1w/qExlvotDHd1cL6xcKa9ijF4Rpj7G9j0jaj1hlqP70uh27SYquGdjpfDr2V1lOzDcfCDjTgyhF1l/ICHbauOGAf+Ad71GFjtsz6Mumr5Xp70DCrvB18pp5ZUVrfHPA1fSu6pIM26cTBds83VPgA3Tgc68qFLbqjqT/8MLy1uC+5XymPoUlXpT54X6M2XJpDPO+Xp2kf5zuUI3XpqkmPbWxOUO8u4h+a1DYIjbYYjzlC3qgvN075Leoy2XOdu6QLB904aOz5ddi14mAjn0P4h9dQGMQj4kCfyjXm4jXz4YT+XcxFWfhcUbdvTLGUsWVB32rv/FQ3ZfIpckslQ9SL6/9FXqD1l2zs+s9FnzgJIYQQQsxEGychhBBCiJlo4ySEEEIIMRNtnIQQQgghZqKNkxBCCCHETLRxEkIIIYSYiTZOQgghhBAz0cZJCCGEEGIm2jgJIYQQQsxEGychhBBCiAstuTLceUeSA8At0SGdEZIcuNU/JBq63srV0kbejj5JB0B2gLINkFjA7c9DzsTPh52QQKBMgT8fjo6SPEJd0TblFFzqgtIFx2QEMObgt4EPH2kH9o/7A3kPxAJbQdjDrdfRLmQMXDYiYpjOu/+wMWy3Sfahafic9l2ugtIVkKvwOJGfyZ7HPOUVOXL7IWOBfrCN3DHHJw6SHy4HAemNAfILHgvGp334Pgypr48Z/ufxhq/hX8xJzCnbLBfJjo/Jtn57etrmwC7v4M9ZB5ATqWobjg6TbZd/GNbryVbkPElBDLt5Qx7dn0mGwv2c5s3zFmPyfEiAwGzX03fayG+nf1z+5FxBrSHPcMHnkfUa68HzU2T5mrrG2snn3nMY9cmacT9pr+tS/kMGxVY2bja7vC6SLFGcn8akXEtJcYlpvijz4/Iffn7KZ9fSB65TkK2xsDe2fs5lXvg6pFxsk+rpWMxmaytXq1RXsB9rPmSCQr4BvvhYrB9IxiC+OBY28XyzSfnyupnWrNfLeHgm1T+kZfJ1GzIymLP1enftObZG8mtV0WR1v83ymF3DplzSsM8D22yncxhvqoOm8fxl+fD4ue4hU+RyMlEP8InXiK6zIV/bPibmooDUTMxb+BO5y66VlD9ye+fDYntPkh4JuZJuS+kOyGdAWiXkPSB1UbVH1i5OWdWnNtGH7lcLK/st28AepTEoJZKuKcvtGR/wJI9X/caGAnojBWU8KMHExEIupLWy77gmqnJNe3gNWZHCBsqRTO05dhoDshxowzkfe6vatdVlNcWHPkXVWTl2Vq/vsaFeWN+srOjTMcY59LZ0iZmIG2NDYgx2xipJxtDmONKXGH+Sn3FpHtiPN+hqe0TbOIb3xbCRx8Hcd1sbmtUkUdSU91iPPp6baI8xEV9I7lCuJLMVPsQY8Dukz4aqTuNkeUtGdlIsIX8SxyPuyMsCc4A5wrW0XkyyMRiv6rZWdFsbXeaI7dx/nMe4UReUx4ncLA6mGPakXNxP2M3ztiezco7SQ/rESQghhBBiJto4CSGEEELMRBsnIYQQQoiZaOMkhBBCCDETbZyEEEIIIWaijZMQQgghxEy0cRJCCCGEmIk2TkIIIYQQM9HGSQghhBBiJto4CSGEEELMRBsnIYQQQogLrVVXXftJ+3oufdIa4jHX2JnOu16VDdDDcu2lurESmmrQgIJO0mLFfmWbtNV2WnHDvXd0x3VkYKdZ0GZBnbadDpOFpk7oYGU2Rug0oT2GyfvGGNQPSno8e5TQt3HdHO8zNkkzqBg6K0NDq6qsGsZke0jaRSXshT4Y7JeFGXSo4D+0qKhnVaRcMWdom2nowRfkE3lCG+9XRD9vQ52jYUzjeY7PGkscQ244Nx63+0Df83nBcYzZLHkc8YcGE8dhfqAX5jpfGBfHcR76RJj3LG/US7riyn3fMBbbVxyLJnEMYGyMxxz6vObj4RF5if6RR2p/VRw/8lnEOOeoS3QcaMNVoQPGmqsYY+jkhQ7h1B7joR1igJZY6LvBt2xO+DrmYbtJGmbQ90OcOF/5WoP2U9cmvTOM5TEyR+gL7awTJ3djem1wTD9Pv1w7cNIywxiLZdLHcx04aA2yresuRmyTHmDjcwp9OI+fj2Hf85JqbrDy4ITPa20GvT/W367+qbsHPyd9Rx9/meqSvsY4mX5k0iP0/KCGQwdzuUrrB3Xj+oIcG2vlwOcFuYy5ABgDx0KfEfFVdbKF3LumZkEdvFSb4ybpL9IPaDRmuU3rtrYK/sZ1Cr76tYiad3HNRN/FkvOfXjdWeH6SfmXyOfJbZLWO6wr7RQ1GnaM2Yo24TeY48n8eQNttKGvqjJVDZ8042LY5SHM2DtZDg25M1z9qteE6XFa2aQ6sGjq2wbGugqZk0izDMdjty3pqY3bKFtszNhQVtddgF+OajdRKK8ueNpgO6L8toXeH6yE0yQYbyp6aZakN9OygL9cblB971zLj1LsGWgG7S/RNmmYpPtd5g9bZ8nTyoais7jc8h9fU4Ru9XVHxOR6pkVaU9I3jesycfryfZOfDH8Q3jXniEfQ5jnMau82U42QH7zm797zIJezC52QPbZIWYFUf8HhXLXd6gpOGYPI55XO7rytY1pPOG/KHOUq5q9P8pqq0GpqF3gctWS8l5niwpl8zVuahxntLOt/CFyusHnytYvzMp65s0pzaaH2RxoM9jJVyvhsPeZ/0/2DVx4CfNWMap1jQD21Oz6x7feIkhBBCCDETbZyEEEIIIWaijZMQQgghxEy0cRJCCCGEmIk2TkIIIYQQM9HGSQghhBBiJto4CSGEEELMRBsnIYQQQoiZaOMkhBBCCDETbZyEEEIIIS605Moko5FJJIR0A6A0wphkGmx9tH8rf9zef536U8Kg99vowwZkByAJMEJaoqRNSguEBAJlP3aSEewDyYUONpI0xSQxguMufxKyDCFRYLhNe0izUIKgT7ISQ0+5hdFv2R6vDZIwIccyJgkI2mq3yceQFwk5FcTBUCBLsUwyDWOWM7QPGRHG7v5wzJ3UDONrXW4Bt/ZHXkPSBWzXSdYhjxNtQrYC8jCYl8ij7SQqdpOVyS8Y7HjsLkuC/rg5feqTJFSQ71QHSW6CY2/WyUfESwmWHvfUn2yN7aFLTzT0e29OYnxKY3QuneLSEJ6jSbqDtlqvMRzfJJmNXCbD5VYid4Ut0+Om3dWOy3Vwvs6HkHdh+ryOYg0EUS+QewipD9aty4GsXdIE0iFsu/OLch6Q04CkB/vtckKbIe0Rawy1FzUC6QDkOKRWvD9z3CVpkhHziXpEu7Cd20deEVPf2+DzTkkQH4OSLMhjdNtubXTZEMaCcy69wpiGgXZKyIBgHopsXfr1ZFyfsRESGZA1gU2XOuH1gfnspvzCf9Yn17VLK0UuorYoUeMOoj2uE8gbarVNrzEe44KNkJjBea4vr/dhSO2QK0hdDOX+euP6cV8Qb8SOeg0pm/A/aj/qJnIVdRnSKz7/rCtIHGV5ZBuXk5nkWzJZF8qLbLd+HfTzmdwK/cKTkNCBjM950LRnIE5iBS9iZlW3tQrXBF7TXWajObByQBzwfWFVt+ZPcmi0EjIkzQm/Zvp1jfIjSb6E7xWUD+mt6jZWd0fepqIdSLjg/GK4izIgvK5CZsTrpWo3VnSQl4F0VmVjBUksXx8uAYN+JdukfhwfrzEO5Eqq2krMYbed/OHxJsmVIIaYW8iYRC7QfqwXbFu26z0pMPgR644+IG+ZBBh9gnxSu7ahWU0SKIW/fxaQlqmXtI/n8J+5iHXp9gYfH5Tx3gI7eA9kPmo+5w/iQGz1YvJx8gvnXcKlcJ85f90m5S3GwXnEDvshmcR8J7sxR9XmDG32J670tYb3epd6ifjdzmQjYqOEml9vI6eZHBfmY/KTskjtJKnGmHzOcByvmV/m6Bmz6l6fOAkhhBBCzEQbJyGEEEKImWjjJIQQQggxE22chBBCCCFmoo2TEEIIIcRMtHESQgghhJiJNk5CCCGEEDPRxkkIIYQQYibaOAkhhBBCzEQbJyGEEEKImWjjJIQQQghxobXqxsMzSdsHelMBNJCghQQ9JeiwhW4S9KUmLSpotPXUh5r0vaBNddTt24fuWehWhW5Z6HhRr65ImnKh0QbNNNd8i/PWQ5Orp2ZTapPGpF5N2Inzk/6T6+W53hOej8XayoelWKDDVSBm1yFKml/QynLdIfSDvlT4Qe2ybdL7cv2c0BUb14fevjFDvDju2jpJR2enY5QGy3Tr8py7zh9jptRRaN7tNNl4PNOpompU6AyGnlH4zEoI3bfezLXVxuUy6VpB7y7mNDTQYJtzOlLLa8otwLlMy23KMR7d51xbzYNwza4sFvgdtnE+6iF0DkNbLfIRdvBgG7O168VlOn5TDOcBtdlCLw5aZpHvcZP0v6AzB10s1kJW55M+oGuxoY5Qn8faFnU1acNhLB5jDaKesmPQhgsNs0zjjvaZ750eYGijQatsWKeaKpeLPRt7drF2Qs8O/XC8KJLuXmjvRSxtZ0WsKerfubYY4mIN+9xnfkzabtRvS3bTeu/Mtr0NR0cp5myM8uSJpFO39mtFna4v1G4bRxvW66QHF7aZt1RXsMdrQWhLhl6Ya/GF3mDp+mrMFevQdclcu29anx10Mrc2dj39gn5daDaiLf0MP0IbMXId2nZRB5HDukpj3nP3lH++xvjUldtpG6Z5THpvkw5lpmE5nYtx8vnAuchBc366jYNrzw1FTb26IdOpg75bXy2TZhmuf9C06zsbyp3+GbXpht7q9tA140or0d5/p4fGHfOQaZ/iHI4XuC55H/z09Sq9J2Q6bThO3xYHU9/QxKOuH3xxLdHSNezQF7aoRVem63hbH7BP3W04NnTooKUWGnBD1VjfHEwaaBy3WlhZJ408+FB5HPTNNdTQpscY1F8rGHs5+NqD3aKyvmqs7pNG3hRTWVPLj7URenBYOxirapIOG64VhrwkPT2WSJPsMMaysR4+Di3jgu1y3M1P1EjHNn0az3Xicu24PU08SzHGPPA8cuIahIgHVJjXg6RR1zZpbhAjNf/w9oC8VFj/457uIexEbPATecAq4fgl6q2Z2uMxz2VbrxgHz3ufmIeuTtqmp20e+sRJCCGEEGIm2jgJIYQQQsxEGychhBBCiJlo4ySEEEIIMRNtnIQQQgghZqKNkxBCCCHETLRxEkIIIYSYiTZOQgghhBAz0cZJCCGEEGIm2jgJIYQQQsxEGychhBBCiAutVWfX/rf0GLpLVWMGHZjQOwtNsFx7DHo3Zb1rB3JtsdAtyzXYFqtJu22ANhM0t1wHb8SY0LLBI3SGamgLjXvHJt03jINxy9oG6NxFu/ALmkGwD9vh7wClHWjwdDZCu8115Diu22WfsIW44ddilfyMY9TRqlPsroWTxtrs8ud9qaMD29kYtBMadiB0g+L5dp00dpCrmJPQBjqu3RbgWMSUzxHGgA/Ua4KOUmHFdp36L1ZJDw4/rvtHECvA+eP5yOeUSkOWzYfrzIVeHNoi7mDy3X2KuDwWxhtaVDFutM/1EWOOI2fH4ztPrTpqhh0cTHNUhA5jrlkIvSY8rjK9OBxz3UNqEELzzX1mW0g2ufZjrvVI/blmkXTKoFl2kLQf6QNsQfcwiD5ZTVDjcbO2wue9PHlyp8HoeRy3G/pdnDy504QMHUbMvesTVidP7tZqzBn8jdrIdQ+pP1eYuZ/FiZOuVef6fZGrYUx2w//F0irEHHXqWoOM17UCpzqC/z5esfQ8xLqainC0arXav+a4liRzC59CO9LjYStcXxYL6sIx9zEvtDmkcVFPy9WudhlX0hRDfUxzFo8RN+JxLb5JfxHtq5q1wXrItOcIagB6eNSqS/O1t5Zdc4/ade7bVLOhxxZxhGZmnqcHAbTHxuYEr0d9UVEbDLFDHy3p1o1WlOkaCJ0xtqPGGHTgap6HVtrofdGGNr2GizHprKE9S4FabV7frnmG89CSS3bKpHnWJY046KA13dqsh3ZgTb0ys9CqSzbgB/XYxt6W23t2sbmOHPXRhs77mhXjwraLU1Z5rKH9hvOV69RRB69Kmm8pnpR/zlGmuxc6ddRygzSc2+uqne5e0l6L9xFo/hXUZEu6bdukfwiNujrVU1/WbEM9tkwzDjksR1xrBuraVdC5c3086gFCW3BMeWb9en7q7DX0CAvMEfOV1nFvFceedOjgU8wX33N32pClpddJ1zDFjvkJ3ULqEI4d5zJ05mIOmIe+Y19oBZZFSy1EjI1zdXdkVbdJY6NGetRTN81HrqmY5mEX63JzF23NRZ84CSGEEELMRBsnIYQQQoiZaOMkhBBCCDETbZyEEEIIIWaijZMQQgghxEy0cRJCCCGEmIk2TkIIIYQQM9HGSQghhBBiJto4CSGEEELMRBsnIYQQQogLLbkyfvhD6dbuLgUA2QlIBRS4VTskGXjX/yQtQKmAARICvi8bhiQr4HIVPI7zDm3BNvpDAiE7N+C28OtMSiHGbxor6npnt2lsgBSDj0u/KOuRnsMO28Vt7+F7VVlPWQj32W2NXUidFJO/IWWAMenTZmtFDbkHSKskOYUhbLmv9K/r0phhB3IJlNrYt81x286qK07x9V6+AsqJjOk8xlqtUmywF1IgyJ9LL0ySIxn0KeYRfiGmmC+qU4xpbD83zX9IOfg8U54D48MeDiIu3ErfbSUZiZFtS5f2YJ1EXWCus9jgd9gN//g6ZDIgUdHsyhV9Y045XuSAUh273O4KaZj8G85TcoXzDN8Q33bLeqFvGC/zO2oM/jMHmGtIm4RsSA5iiXyEf16rw9HRvWqUzyGjgvrDmMjtsbinGkDu8dxzOdXImTOTtMrQdmxTYazFIs1HjJXli+MdI1//aa7bvdykfpXZ4Zmp7na5KXe1Cz/RB77G3GX5LI4OdzIlXkuMBRIxXWuDXyfi2oCc5deE49cc5jZqzeeQMWMs+Jtd56Y2seZ9rdAWxvW1HdeXKTc+bowzXS98zU/t+t7K1YoSGHvrJMs/15rbQxvmJSPJwty7thmL+7V3rY3YzoMTd/5fSlucTeZokhnJ5WjiOdpBwooySJWNkM3osK481r51mY+Bklf42cmO1DxHKSyX4YAYStmltcX+yE9V2bJKcwXbGG8Vclvhm8uBUBKmb61cn5lkbNAffvG5t4cd+gP5EsiJ8CQkV2pbhfxTzCl8pmyI1zj6QoKlgVRVnWRhKCuzi4vHIAHikiWW5QO+YBzGmcmYUFLEfaG/4b/bCMkRxtiupznB+aZZpTwP/ZQ/+u35Z9yUP0vXVfQp4HP3iTQmJFuWJ/ekf8o27NRJIsUladLBcZc7l03K/Ys+oBk/MfnPceFju97Vy9Bb09+R5uO4pI1LrlA+DdJnMdfuV5LESjEyNlxSy139PBD6xEkIIYQQYibaOAkhhBBCzEQbJyGEEEKImWjjJIQQQggxE22chBBCCCFmoo2TEEIIIcRMtHESQgghhJiJNk5CCCGEEDPRxkkIIYQQYibaOAkhhBBCzEQbJyGEEEKIC61VVyyWBiUYaELlukdF3SSduPV60tOiDpRrQeWaa9SQwvHCNbtCpwr6U9BuCq04aOGEVhqOuy32dRuTHWhI5XpLoUkVum2u5wR7iAH6ONSvQruytPLgIOlQZRpgpeu5Ue/OH+Ej9aFcIwr6T+iL59Qdy2MBrmUWcRSumWSF+wbNKteFm/wMnbjIueuuTa9dDyv8Dn2+yGvkgjpd2Rzk+lF8CH0m+OeaXqH3xRahrQdC78810XZ6bK5LF/p0iA/94UfoAmXahWkM11XzmNk219tC/JO9pMsWcxDaXjEPnOolFKq8Jl0Xj2PlGnxuZ3Ddtnur95075RWnWfcjtJBOjLt5hz4dfIkchiZgzN+ks9ZaeeqKnb4TtPio4eYaU9T+cruu35Y05lL9ejGk57XXSLvdzRk06QBed657mOly7WkOIpdlYRW0pDyvHIt2d/pTHIf6gz6+r7+k4bbTXWPOvW2aF28P+6HjFdpd3nZsoFOG64prVkGDD2s1fPd8cg35fEaO6CfmHLWHenAdObRFm9LHCG26SSPQ6545QF5cN2say2uLPmNeN9CjQ135dcXj2elOYj273iN14Hy9T+Nu2J5zWBapH2KmXl+1i8V1Gae6oOahzwsNeTvkyeeVY0W/OJ7FE9fKaS7zuVsf2vnwiUc+nteTwTXH6h75TfprQ9nYtlrZsju0cuhsKGsbysr6orahqKwceyt8ReI13cORorRFf8Q+PAetMb9u4dqCtmjXlWk91cPWmj7pjHXVgsdxHrabfr3TL0Nb+uf6Z0VBX6batdEW7S4f2+aEteWS9uFrNXTWl7X1ZUP70Qfn8MMpg/ZZWdGHrmysHAerhrQ+0I95gf9FQXsRf4C2+TG0RZ91fYp+xDHkB23HomLuMV41pnzhOfrgcbDS6rFlX9iN42En8o6+iAH5wM9iWDPGiA2+o21XJF23yeY4WFut6EPMD+YCbZG7ZX845TvGSnM5WDNs0njMk7/3+5ihX5f7zLhssHpop5wivynm5BfaR33hB3HBTxyLvOI54uDcWc9/4Qu4Ymbd6xMnIYQQQoiZaOMkhBBCCDETbZyEEEIIIWaijZMQQgghxEy0cRJCCCGEmIk2TkIIIYQQM9HGSQghhBBiJto4CSGEEELMRBsnIYQQQoiZaOMkhBBCCDETbZyEEEIIIS60Vh2AZlKupQb9sKJMWk1j21G/LY6nJ64fhj7Qk4LOGLTduqS5Q00x6iWtd3pkrrcETbqwS+0s19dKOmlD0naD1lTX2bBxe9SnSyFRjy6Dml9HhzvdNuriGDXYOHbEBbtNQ1+i5dQjtPS63my54BjMAbSfqE8FDagi6dlttpPNcgkds6QhRZ0218ji641rzdVVsmspnynf0MlyLS3XbPPE0SecH9YbxkxNN9f7oy4Tchaafq7fx/6etylW2Oi61D90+EInDjnDsbZNmn651hc0sUL/LfS40A5zjGOYk9Ap41CZJl1WP5GP0BjjscgpXocGIB5hF3pqiAXnoB8WcVCzq0p5h8YR5jCOZfM7afGdB9t//mcb2s66o6TPiJyVGM9zVmI+ytL6zdb6o7UN3WDVqrFqudjpo0UOuj75BxuhNRfnMr1EnEd/aARGzKiZ0CiccsTab23oe6sPVvQh/CugkUbts1hD4053MTufbPmaO6aVCM0/tCnZp7ahgw6ga6l5jcFPjAs/4poA+nVrZV1audhpx02xeu4w7nQsixV9MFZoT8Y4OBbxp/XjvmI9eVu04/wMw3StQH6Qb+YWNiKfrnHIXIQ9xI1+7hv6JfuuNRm6mhFHtlaRo+NzjOfMDfUyd+PAz/qKkxwLtRWadTHP8Am5jvEwF8O2s/pgma4x45jme/J752/EGT6F/7CRVvaD46oPvCfp3YUOIbT8XPsyOZ80EqHVx+PNYl/jD9d5zB/ah+Yh9AsPz/D6UaxOmC2XKRcYA/qF0CU8OJn09qDRGFqPcc2A1iHswY5fI6gtCT9jrFRg6RFaidQLHT2WpDmJ9ytoFsLXyf/Q/AvgW9RcXFcnPcV+Nw6eI/bQlMy1G3mdv7e+JLUtXZfQsMYy/UH6s1ol/7iW+9QGuYh4Yl0c0y6kr5PWa2e22ezVy6SDGXqGrpUYuqOWn5/0UD1G5PnoMLVdHZitj3btok/oJeYx5/sKvE+H1qi/lzF3WFM+n7GvYJyuVznl0jUlQ2dyqiusg9A8hZalH+c1FO85q5XZ4588q+71iZMQQgghxEy0cRJCCCGEmIk2TkIIIYQQM9HGSQghhBBiJto4CSGEEELMRBsnIYQQQoiZaOMkhBBCCDETbZyEEEIIIWaijZMQQgghxEy0cRJCCCGEuNCSK8UVp63Ibmsft4XnbfPjVvps6Hsx3FY9bnket1qPNn27e45b0LsEBG6Dzq643X1+W3y/PTtu/c42kOcIGZLN2sq4df0wptvU41by7YaPvJ162IZMiMswTLfHxziQBYCUR9xy3sdiO/SDLALlZdIt9+mH36I/ycP47eBdXoC5OT5O5AVjwH67STHGbeXjtviUCqjTaxzfrqfb1DMOStF4e5iLOBcLK92fuAU/bsc/3dbe8zrNVxyDTUh7xC34PfeMMY/X8zBJG0Q8ftv66bb/kFxADq6w/dwfu61+zOt0C3z4Oo5W+i3+pz6sF+8XNuBH3Lrf5ytqjPMGCRnUgcs75HIMk2TPebB4ytPMlicmqZkCc1Cm+oq55rmoe9QF/Miecy2hHaRNMMeMDzUVsab6jzFoy2UEish5s0yyFKg31vG+/RHSC5SoQW3XNqKu3H7h626qOYyXSeTA1oD8xZioK9QZ+mfSCQVq2dcjY3Kf6eM0P14X23WSA4o1l80hYhkxFsfeya6U202qadjEWL5GY1zGh+sJ+sIeYo1cl5XnpXAZIp8T+up1l60P9o11zFyWu2Ow5T7QX8wb15O3y3yc4uac1Xs+5/aiTmjH54VzFu3i2GK1P/dc/y5PhfrwWpnoW9YkY+drlxkJv2qXCcEY58mdj3u2DciNFQYhqL6obSgqq4ctX3flgs/pRlFbOfY8jvblONiAHBSlLdrD1KbCday1saisrZZWD611ZUOb1dixP56HPTxf9Ed8va0OeL4ZNhwXNP2GdtpyOfnEuUDtun/MsRW0hf4xTtjHYz22PDaluKg5TrSBvBPigR08Z+2OA88D+Ijxwm6MS19spG8RW7JR8jnz459voA18Qyzog3O41uZ5SXlNzzHGYKWVhliHPZ96gwxPYWUxWGXdnq+0YT2PVUNaJ5Hz5FM12Uvt0Tqdx1jpsbfednlDPOEXbIZ/0Q/xRF0shrX1JXysaQ/H2nHBMavC3/cQGe0WbNeNqdarItV0P9bWFFv6wfcjvFUVDW1V5hJHY0df+rLhObS9fmbd6xMnIYQQQoiZaOMkhBBCCDETbZyEEEIIIWaijZMQQgghxEy0cRJCCCGEmIk2TkIIIYQQM9HGSQghhBBiJto4CSGEEELMRBsnIYQQQoiZaOMkhBBCCDETbZyEEEIIIWZSjKMLuTwA/+cpz7QzH15bdVDa4qraurt664+gnVbY9mOdHTxqYc3JpHUzDIOVZbn3iLZlXbA9+uIRtnAcj2M7Wnt3z8c4h/ZDl2mt+TmM057pJpv16Yrj9Jue7bcf76w/HKw6UdJO3j/sNVdUfI7+aAO7+RiwDT/jHI5jnLARdnO/cR79jrcF0Z5xlaWt/z3pN2H8aTKaYnodvoXtGBN+Y4x4jXMgxo7cAszT5iOttXf1VjYp9/l4cTx8i36wg74A9mA7CP+R65jLqIPwJfc/jwvH0AY2ENfxeGIu8nZ4jvMH1y5t7Ec7un0zxZuPl/se+Y/6wuvFlQ19xrgY5/P/3/vswfK/r30KH1ePWEw2IzdRP1Hrzaq2oixse5g0n+APfvK5R72ib8xh5Cpqm21L6C4Wtr2rndYMzq8/2qb4rqptefXCusOOx2L+8/qI8dEXdRHPcW718IVt727T2vH5R84wZthE26iViCHaxjrI5zRywnx4zUT8iG91TbNXyyDmLq4bqC/4tLx2p8eGtjgeOYL9xenGqqa0bt3vzXOMH+PCt/A7agbgmoI1iWtZ47WT1zRyy7m6K+U7bObr6Xjt4nysX+SI18qPd+yDeKI2Y71gbNo5kXIYtR/PA/SJuYs1GHMcNZjPLcaMegs7eW09//23Pui1cMsLn2uH/35om09sbXFFY2VT8tq8PN3Y9kwad3Xl0tZ3buzoIxt7+BNPW1kW1m06K5vKhra3ozs3trxiYUM72PqOrR1cvbRqkeZy9bCl9d1g7ZnWDq5aWbfpbX3Hxg6uXlm9rG39ibVVi4prDG3GYbTmZGP9trey8mtpP7LN5q4tryFx7UKNrR6+5HG0rVcVferWXWrXDnxEbWzu3qa5OFmzLuOanNcd4o73wLyuYCPWP8ZEbP3WtUyrYuq/vTOtScwLcoBzsInxkB/WdtvzOfxF3jC3qBtcx09df8C2UWMxv/E+FjWfvyeGP+16p1tYNRV9xth57QR1dm2NOkMecJ2Y3qdWNW1G/3yNhH95LebrCe9Li6tr1n1+3clzDxux1oZ2nNZsxIi+aANbnAfk9JNSXR19dLP33nXw3xdWLSvm+3/e9t5Zda9PnIQQQgghZqKNkxBCCCHETLRxEkIIIYSYiTZOQgghhBAz0cZJCCGEEGIm2jgJIYQQQsxEGychhBBCiJlo4ySEEEIIMRNtnIQQQgghZqKNkxBCCCHETPbvD38/vOb619t1n/8oG/rBurazZtHwEbe6r6qKzwEUXMqqZDtQFHHb+96GYbS6qa2q063gcft0tBsHb1uWPB99wuZxMGZIMuAW+9EOdtEf41dVaV3bW9/3e/Iv4Vvf9WwfNmATj+jfbnHr/sEWqyXjYZzuE14ffw47eMzPYVyMg9ewGbniubazqqmtWTZWFoX1fcpDnpOww0lq0jTBLxxHv4ghV8xBbDFW2FgcLDg/iGfI2xYF8w0/EXfYi/nEWCDmOfKOtmebj8kupEFoe9c2zu/i79Nt/YfR2k17r/7IAXyIHEctRDzhL+JlXjbJ1xgT84H2iLlZLtgP8URtbdcb+3x78Nz07Jvt9CMeTh8WB8vpeIf5KTOJH0gNtZ21m61VizTXmHe0gexEgHWBdpgL5DvFUlq32fIRfbh+up7j4RhsxmvmtOttc7jma9Qt2qf5LCc/whbixzj1omEbjIPaQL+o5VRD/VTXzB182rZTrR6vgTLmbBimPGDcrk3zg7kp64pjY14QQ/iXrht+XfCajPmFT/AzgM16uWAOkTu0h7/9tmWeY95hL/KGuMNO5D/6ni3GmIOIB+fDJxxHP9iPcxFf1DKex3Ut5iyuOZwPjyfin659kA7ZpOsP58vbT/Po/kee4ENcD+B3XIOifayTdK0bGTf6IF+oA+Tm+eexFm5c/i+77rmP4nNeO+l7umbCr7gGYN3iXH5NP3HFCduutzx2cOogxeTxxXWBsXW9tdtuqoeoP9QP8oH8xntQXCuxlrZHm71rMmoC5+OaHusmchzXkch3Gj/VabwX5O8LlDc52qRrbeQ1q2nUOnyHLzE+8oHXcU2OcdCOsfkYUT84j/hgG3W/PVrTTg7GiWscxketc91UFc9FrvA6fIm1mMdLW7Cz2TK+uFZNtVhVPNb7NS2Iaw3fe3Ht9XnB9SXa07avx5gPtE3XqmHPXloXqU3d4P0n1VTMR8wdfEW+cD1B7JszRyluj4vXM147B1vfc2Z6D1k+6YB2w7fN4RHXDvq9a2bd6xMnIYQQQoiZaOMkhBBCCDETbZyEEEIIIWaijZMQQgghxEy0cRJCCCGEmIk2TkIIIYQQM9HGSQghhBBiJto4CSGEEELMRBsnIYQQQoiZaOMkhBBCCDETbZyEEEIIIWZSjLnYmRBCCCGEuE/0iZMQQgghxEy0cRJCCCGEmIk2TkIIIYQQM9HGSQghhBBiJto4CSGEEELMRBsnIYQQQoiZaOMkhBBCCDETbZyEEEIIIWaijZMQQgghhM3j/wN5a713gALZWQAAAABJRU5ErkJggg==",
      "text/plain": [
       "<Figure size 600x200 with 3 Axes>"
      ]
     },
     "metadata": {},
     "output_type": "display_data"
    }
   ],
   "source": [
    "import matplotlib.pyplot as plt\n",
    "import math\n",
    "def show_images(batch_tensor, n=3, titles=None):\n",
    "    \"\"\"\n",
    "    Display all Cepstrum Coefficients from a batch [B, 1, H, W]\n",
    "\n",
    "    Parameters:\n",
    "    - batch_tensor: torch.Tensor of shape [B, 1, H, W]\n",
    "    - n: number of plots to show\n",
    "    - titles: list of titles or labels for each image (length n)\n",
    "    \"\"\"\n",
    "    n = min(n, batch_tensor.size(0))\n",
    "    if titles is None:\n",
    "        titles = [f\"Image {i}\" for i in range(n)]\n",
    "    else:\n",
    "        assert len(titles) >= n, \"Not enough titles for the number of images.\"\n",
    "\n",
    "    # Determine grid size\n",
    "    cols = n\n",
    "    rows = 1;\n",
    "\n",
    "    plt.figure(figsize=(cols * 2, rows * 2))\n",
    "    for i in range(n):\n",
    "        img = batch_tensor[i, 0].cpu().numpy()\n",
    "        plt.subplot(rows, cols, i + 1)\n",
    "        plt.imshow(img, cmap='coolwarm', aspect=\"auto\", interpolation=\"none\")\n",
    "        plt.gca().invert_yaxis();\n",
    "        plt.title(classes[y[i]], fontsize=10)\n",
    "        plt.axis('off')\n",
    "    plt.tight_layout()\n",
    "    plt.show()\n",
    "\n",
    "show_images(batch_tensor=X, n=3, titles=y)"
   ]
  },
  {
   "cell_type": "markdown",
   "id": "9e8d8688-466d-4b8b-a0e6-69c50e228e08",
   "metadata": {},
   "source": [
    "<p>Next, we are ready for our CNN Model. This model is built up of:\n",
    "    <ul>\n",
    "        <li>2 convolutional layers</li>\n",
    "        <li>A 2x2 pooling layer applied multiple times</li>\n",
    "        <li>A dropout layer with 25% probability applied multiple times</li>\n",
    "        <li>A linear stack comprised of\n",
    "        <ul style=\"list-style-type:square;\">\n",
    "            <li>A linear layer outputting 512 elements</li>\n",
    "            <li>A second linear layer with the same number of inputs and outputs</li>\n",
    "        </ul>\n",
    "    </ul>  "
   ]
  },
  {
   "cell_type": "code",
   "execution_count": 10,
   "id": "ccd37174-b646-4bbf-81a7-8e83b45db21f",
   "metadata": {},
   "outputs": [],
   "source": [
    "from torch import nn\n",
    "import torch.nn.functional as F\n",
    "class Test_CNN(nn.Module):\n",
    "    def __init__(self, num_of_rows = 13, num_of_cols = 181,\n",
    "                 n_filters1=4, n_filters2=8, out_categories=12):\n",
    "        super().__init__()\n",
    "\n",
    "        self.conv1 = nn.Conv2d(\n",
    "                in_channels=1,            # 1 for grayscale\n",
    "                out_channels=n_filters1,   # Number of filters\n",
    "                kernel_size=3,            # 3x3 convolution\n",
    "                stride=1,\n",
    "                padding=1          # Keep output size same as input\n",
    "                )\n",
    "        self.pool = nn.MaxPool2d(2, 2)  # halves size\n",
    "\n",
    "        self.conv2 = nn.Conv2d(\n",
    "                in_channels=n_filters1,    # NOTE: Use n_filters1 from conv1\n",
    "                out_channels=n_filters2,   # New number of filters\n",
    "                kernel_size=3,            # 3x3 convolution\n",
    "                stride=1,\n",
    "                padding=1          # Keep output size same as input\n",
    "                )\n",
    "\n",
    "        self.drop = nn.Dropout2d(p=0.25); # Drops samples to 0 with a 25% probability\n",
    "\n",
    "        # out_categories should match the number of output categories.\n",
    "        # Match the dimensions to the input.\n",
    "        # Divide by 2 for each maxpooling (carefull for non-even numbers ...)\n",
    "        num_of_points = math.floor(num_of_rows/(2*2)) * math.floor(num_of_cols/(2*2))\n",
    "\n",
    "        # Linear layer stack\n",
    "        # Accepts the outputs from previous layer, outputs 512\n",
    "        self.linear_relu_stack = nn.Sequential(\n",
    "            nn.Linear(num_of_points*n_filters2, 512),\n",
    "            nn.ReLU(),\n",
    "            nn.Linear(512, 512)\n",
    "        )\n",
    "\n",
    "        # Final layer collects the pixels from all of the inputs:\n",
    "        self.fc1 = nn.Linear(512, out_categories)\n",
    "        \n",
    "\n",
    "    def forward(self, x):\n",
    "        x = self.pool(F.relu(self.conv1(x)))  # -> [batch, 4, rows/2, cols/2]\n",
    "        x = self.drop(x);                     # -> Apply dropout\n",
    "        x = self.pool(F.relu(self.conv2(x)))  # -> [batch, 8, rows/4, cols/4]\n",
    "        x = self.drop(x);                     # -> Apply dropout a second time\n",
    "        x = x.view(x.size(0), -1)             # -> flatten to [batch, 8*(rows/4)*(cols/4)]\n",
    "        x = self.linear_relu_stack(x);        # -> Pass through linear stack\n",
    "        logits = F.relu(self.fc1(x))          # -> Determine logits\n",
    "        return logits # Note: SoftMax is applied to logits by cross-entropy loss function.\n",
    "\n",
    "device = torch.accelerator.current_accelerator().type if torch.accelerator.is_available() else \"cpu\"\n",
    "torch.cuda.empty_cache()\n",
    "model = Test_CNN(n_filters1=4, n_filters2=8).to(device)"
   ]
  },
  {
   "cell_type": "markdown",
   "id": "a108d730-9520-4462-86c4-b731092253cd",
   "metadata": {},
   "source": [
    "<p>Looking at the full model, we can print the model and the full list of parameters for each layer. Shown below, the number of parameters in this CNN model are substantially greater than those from the KNN or RF classifiers used in previous modules.</p>"
   ]
  },
  {
   "cell_type": "code",
   "execution_count": 11,
   "id": "b5190ece-2d20-411c-a67f-a4abd2d40d68",
   "metadata": {},
   "outputs": [
    {
     "name": "stdout",
     "output_type": "stream",
     "text": [
      "Test_CNN(\n",
      "  (conv1): Conv2d(1, 4, kernel_size=(3, 3), stride=(1, 1), padding=(1, 1))\n",
      "  (pool): MaxPool2d(kernel_size=2, stride=2, padding=0, dilation=1, ceil_mode=False)\n",
      "  (conv2): Conv2d(4, 8, kernel_size=(3, 3), stride=(1, 1), padding=(1, 1))\n",
      "  (drop): Dropout2d(p=0.25, inplace=False)\n",
      "  (linear_relu_stack): Sequential(\n",
      "    (0): Linear(in_features=1080, out_features=512, bias=True)\n",
      "    (1): ReLU()\n",
      "    (2): Linear(in_features=512, out_features=512, bias=True)\n",
      "  )\n",
      "  (fc1): Linear(in_features=512, out_features=12, bias=True)\n",
      ")\n",
      " \n",
      "Layer                                        # Params  Trainable\n",
      "-----------------------------------------------------------------\n",
      "conv1.weight                                       36       True\n",
      "conv1.bias                                          4       True\n",
      "conv2.weight                                      288       True\n",
      "conv2.bias                                          8       True\n",
      "linear_relu_stack.0.weight                    552,960       True\n",
      "linear_relu_stack.0.bias                          512       True\n",
      "linear_relu_stack.2.weight                    262,144       True\n",
      "linear_relu_stack.2.bias                          512       True\n",
      "fc1.weight                                      6,144       True\n",
      "fc1.bias                                           12       True\n",
      "-----------------------------------------------------------------\n",
      "Total                                         822,620           \n",
      "Trainable                                     822,620\n"
     ]
    }
   ],
   "source": [
    "def parameter_report(model):\n",
    "    print(f\"{'Layer':<40} {'# Params':>12} {'Trainable':>10}\")\n",
    "    print(\"-\" * 65)\n",
    "    total, trainable = 0, 0\n",
    "    for name, param in model.named_parameters():\n",
    "        num_params = param.numel()\n",
    "        is_trainable = param.requires_grad\n",
    "        print(f\"{name:<40} {num_params:>12,} {str(is_trainable):>10}\")\n",
    "        total += num_params\n",
    "        if is_trainable:\n",
    "            trainable += num_params\n",
    "    print(\"-\" * 65)\n",
    "    print(f\"{'Total':<40} {total:>12,} {'':>10}\")\n",
    "    print(f\"{'Trainable':<40} {trainable:>12,}\")\n",
    "\n",
    "\n",
    "print(model)\n",
    "print(\" \")\n",
    "\n",
    "parameter_report(model)"
   ]
  },
  {
   "cell_type": "markdown",
   "id": "f5130a09-a6aa-469e-968f-932a5ea69887",
   "metadata": {},
   "source": [
    "<p>To train the model, we need to specify a loss function and an optimizer. Based on our output of raw, un-normalized logits in the model, we are limited to CrossEntropyLoss or BCEWithLogitsLoss from the PyTorch library. Here we will select CrossEntropy, and use Stochastic Gradient Decent as the optimizer.</p>"
   ]
  },
  {
   "cell_type": "code",
   "execution_count": 12,
   "id": "352ab89a-6447-4628-8ac9-8660237679ec",
   "metadata": {},
   "outputs": [],
   "source": [
    "loss_fn = nn.CrossEntropyLoss()\n",
    "optimizer = torch.optim.SGD(model.parameters(), lr=1e-3)"
   ]
  },
  {
   "cell_type": "markdown",
   "id": "4fb21658-3c8c-4d73-ace7-d8de45c33824",
   "metadata": {},
   "source": [
    "<p>The training function, defined below, runs through a given number of epochs, or until the model demonstrates small enough changes to the average training loss. For each epoch, the function runs through all of the batches within the dataloader and tests the model accuracy. After each epoch, a learning rate scheduler is update, with the goal of tailoring the learning rate to the current optimization state. Both an Exponential learning rate and a MultiStep learning rate scheduler are used to try and improve the speed at which the average loss converges.</p>\n",
    "\n",
    "<p>In addition, a progress bar is printed to monitor training progress. If interested in the progression of the training, there is a commented print statement that will produce the average loss rate for each epoch</p>"
   ]
  },
  {
   "cell_type": "code",
   "execution_count": 13,
   "id": "99a9fb57-bc1d-46f4-840b-5689c0cd50fc",
   "metadata": {},
   "outputs": [],
   "source": [
    "from torch.optim.lr_scheduler import LRScheduler\n",
    "from torch.optim.lr_scheduler import MultiStepLR\n",
    "from torch.optim.lr_scheduler import ExponentialLR\n",
    "import gc\n",
    "\n",
    "def train(dataloader, model, loss_fn, optimizer, epochs):\n",
    "    size = len(dataloader.dataset)\n",
    "    model.train() # Put the model in training mode.\n",
    "    scheduler1 = ExponentialLR(optimizer, gamma=0.9)\n",
    "    scheduler2 = MultiStepLR(optimizer, milestones=[30,80], gamma=0.1)\n",
    "    print(f\"  0%[{20*\" \"}]\\r\",end=\"\");\n",
    "    loss_last = 0;\n",
    "    twice = False;\n",
    "    for ep in range(epochs):\n",
    "        test_loss, num = 0, 0\n",
    "        for batch, (X, y) in enumerate(dataloader):\n",
    "            # Place the model and predictions on the same device.\n",
    "            X, y = X.to(device), y.to(device)\n",
    "            # Compute prediction error\n",
    "            pred = model(X)\n",
    "            loss = loss_fn(pred, y)\n",
    "            test_loss += loss.item();\n",
    "            num+=1;\n",
    "    \n",
    "            # Backpropagation\n",
    "            # This step updates the parameter values inside your network.\n",
    "            loss.backward()\n",
    "            optimizer.step()\n",
    "            optimizer.zero_grad()\n",
    "            del X, y, pred;\n",
    "            torch.cuda.empty_cache()\n",
    "        if (loss_last - (test_loss/num)  < 0.005 and loss_last - (test_loss/num) > 0):\n",
    "            if twice:\n",
    "                break;\n",
    "            else:\n",
    "                twice = True;\n",
    "        else:\n",
    "            loss_last = test_loss/num;\n",
    "        \n",
    "        #print(f\"loss: {test_loss/num:>7f}\")\n",
    "        print(f\"{100*(ep/epochs):3.0f}%[{int(20 * ep/epochs)*\"■\"}{(20-int(20 * ep/epochs))*\" \"}]\\r\",end=\"\");   # Print a progress bar. A number of blocks are printed based on the percentage through the count of epochs\n",
    "        # Step the learning rate schedulers based on the current status\n",
    "        scheduler1.step();\n",
    "        scheduler2.step();\n",
    "    print(f\"100%[{20*\"■\"}]\\r\");        # We need to make sure to jump the progress bar to 100% at the end, especially if we broke early due to small enough change in loss"
   ]
  },
  {
   "cell_type": "markdown",
   "id": "92accbb7-34c9-4322-96fe-18cd8832d81c",
   "metadata": {},
   "source": [
    "<p>To test the model, we have the following function, which will calculate the accuracy of the model on another (the test) dataloader</p>"
   ]
  },
  {
   "cell_type": "code",
   "execution_count": 14,
   "id": "57b1f8f6-40a7-4da2-860b-65cac275f795",
   "metadata": {},
   "outputs": [],
   "source": [
    "def test(dataloader, model, loss_fn):\n",
    "    size = len(dataloader.dataset)\n",
    "    num_batches = len(dataloader)\n",
    "    model.eval() # Put the model in testing mode.\n",
    "    test_loss, correct = 0, 0\n",
    "    with torch.no_grad():\n",
    "        for X, y in dataloader:\n",
    "            X, y = X.to(device), y.to(device)\n",
    "            pred = model(X)\n",
    "            test_loss += loss_fn(pred, y).item()\n",
    "            correct += (pred.argmax(1) == y).type(torch.float).sum().item()\n",
    "    test_loss /= num_batches\n",
    "    correct /= size\n",
    "    #print(f\"Test Error: \\n Accuracy: {(100*correct):>0.1f}%, Avg loss: {test_loss:>8f} \\n\")\n",
    "    return correct, test_loss;"
   ]
  },
  {
   "cell_type": "markdown",
   "id": "66491e71-7004-4a4b-ba75-bc991c475a9c",
   "metadata": {},
   "source": [
    "<p>Finally it is time to train the model. The following two functions will run through the training, and then print the accuracy and average loss for the test dataset. Be aware, even when run on a CUDA accelerated GPU for processing, this step can be slow. The small batch size forces many steps to push the data to the GPU, and takes time to process.</p>\n",
    "\n",
    "<p>It has been observed through testing that when using CUDA, occasionally the model training will fail and loss will remain in excess of 2. If this happens, generally, running all cells again should fix the issue.</p>"
   ]
  },
  {
   "cell_type": "code",
   "execution_count": 49,
   "id": "2fe99e3e-a4e5-4fcd-a979-b27233cfe26f",
   "metadata": {},
   "outputs": [
    {
     "name": "stdout",
     "output_type": "stream",
     "text": [
      "Test Error: \n",
      " Accuracy: 91.3%, Avg loss: 0.255706 \n",
      "\n"
     ]
    }
   ],
   "source": [
    "train(MFCC_train_dataloader, model, loss_fn, optimizer, 100);\n",
    "acc, loss = test(MFCC_test_dataloader, model, loss_fn)\n",
    "print(f\"Test Error: \\n Accuracy: {(100*acc):>0.1f}%, Avg loss: {loss:>8f} \\n\")"
   ]
  },
  {
   "cell_type": "code",
   "execution_count": 50,
   "id": "d85c62af-cdfc-464a-b26e-686200e9b794",
   "metadata": {},
   "outputs": [
    {
     "name": "stdout",
     "output_type": "stream",
     "text": [
      "Test Error: \n",
      " Accuracy: 96.6%, Avg loss: 0.158410 \n",
      "\n"
     ]
    }
   ],
   "source": [
    "acc, loss = test(MFCC_train_dataloader,model,loss_fn)\n",
    "print(f\"Train Error: \\n Accuracy: {(100*acc):>0.1f}%, Avg loss: {loss:>8f} \\n\")"
   ]
  },
  {
   "cell_type": "markdown",
   "id": "0838384b-11f9-454f-b15a-ebaa3ba6de5f",
   "metadata": {},
   "source": [
    "<p>We can save the model weights to use later if desired.</p>"
   ]
  },
  {
   "cell_type": "code",
   "execution_count": 16,
   "id": "fc325547-26f3-403c-81c3-74cca8c14546",
   "metadata": {},
   "outputs": [],
   "source": [
    "torch.save(model.state_dict(), \"MFCC.pth\")"
   ]
  },
  {
   "cell_type": "markdown",
   "id": "a7dc0441-de88-4fbf-93f5-1cf46c4b50dd",
   "metadata": {},
   "source": [
    "<p>We can also quickly grab a random test index and plot it to see if the predicted and actual labels match</p>"
   ]
  },
  {
   "cell_type": "code",
   "execution_count": 17,
   "id": "f4262916-4878-4645-8450-de2b8d7b41a0",
   "metadata": {},
   "outputs": [
    {
     "name": "stdout",
     "output_type": "stream",
     "text": [
      "Outputs for all categories:\n",
      "tensor([[22.7254,  3.8914,  0.0000, 26.4643,  0.0000,  0.0000, 43.3496,  9.1740,\n",
      "          0.0000,  1.9726,  1.2672,  0.0000]], device='cuda:0')\n",
      "Predicted: \"Pump 3 Start\", Actual: \"Pump 3 Start\"\n"
     ]
=======
  "cells": [
    {
      "cell_type": "markdown",
      "metadata": {
        "id": "view-in-github",
        "colab_type": "text"
      },
      "source": [
        "<a href=\"https://colab.research.google.com/github/bman222112/ECE551/blob/main/Module%206.1_CNN.ipynb\" target=\"_parent\"><img src=\"https://colab.research.google.com/assets/colab-badge.svg\" alt=\"Open In Colab\"/></a>"
      ]
>>>>>>> 07871b15282f56ed2932612bdb57415ae608e491
    },
    {
      "cell_type": "markdown",
      "id": "644b437e-ea2d-4fae-abf9-be74c5a4add3",
      "metadata": {
        "id": "644b437e-ea2d-4fae-abf9-be74c5a4add3"
      },
      "source": [
        "<p style=\"font-size:28px;font-weight:bold;\">Module 6.1 - Convolutional Neural Networks</p>\n",
        "This module introduces the concept of Convolutional Neural Networks, and how to handle processing the feature extracted audio dataset.</br></br>\n",
        "The first thing, below, is a class, <span style=\"color:green;font-weight:bold;\">class</span> <span style=\"color:blue;font-weight:bold\">CCDataset</span>, that defines how one of the previously feature extracted datasets will be read in. This class loads the Numpy file and labels, along with the ordered indicies from which to return the data. This allows us to create separate datasets for both the training and the test from the same parent data."
      ]
    },
    {
      "cell_type": "code",
      "source": [
        "!curl -s https://packagecloud.io/install/repositories/github/git-lfs/script.deb.sh | sudo bash"
      ],
      "metadata": {
        "id": "AYWNoStDLf0J",
        "outputId": "bea2e2dc-d161-437c-9cb8-c0b1c9b6a280",
        "colab": {
          "base_uri": "https://localhost:8080/"
        }
      },
      "id": "AYWNoStDLf0J",
      "execution_count": 1,
      "outputs": [
        {
          "output_type": "stream",
          "name": "stdout",
          "text": [
            "Detected operating system as Ubuntu/jammy.\n",
            "Checking for curl...\n",
            "Detected curl...\n",
            "Checking for gpg...\n",
            "Detected gpg...\n",
            "Detected apt version as 2.4.14\n",
            "Running apt-get update... done.\n",
            "Installing apt-transport-https... done.\n",
            "Installing /etc/apt/sources.list.d/github_git-lfs.list...done.\n",
            "Importing packagecloud gpg key... Packagecloud gpg key imported to /etc/apt/keyrings/github_git-lfs-archive-keyring.gpg\n",
            "done.\n",
            "Running apt-get update... done.\n",
            "\n",
            "The repository is setup! You can now install packages.\n"
          ]
        }
      ]
    },
    {
      "cell_type": "code",
      "source": [
        "!sudo apt-get install git-lfs"
      ],
      "metadata": {
        "id": "9PvNLhVgLhBt",
        "outputId": "383ff9bf-061e-4be1-b55f-a68c4afd51ec",
        "colab": {
          "base_uri": "https://localhost:8080/"
        }
      },
      "id": "9PvNLhVgLhBt",
      "execution_count": 2,
      "outputs": [
        {
          "output_type": "stream",
          "name": "stdout",
          "text": [
            "Reading package lists... Done\n",
            "Building dependency tree... Done\n",
            "Reading state information... Done\n",
            "The following packages will be upgraded:\n",
            "  git-lfs\n",
            "1 upgraded, 0 newly installed, 0 to remove and 35 not upgraded.\n",
            "Need to get 8,917 kB of archives.\n",
            "After this operation, 8,712 kB of additional disk space will be used.\n",
            "Get:1 https://packagecloud.io/github/git-lfs/ubuntu jammy/main amd64 git-lfs amd64 3.7.0 [8,917 kB]\n",
            "Fetched 8,917 kB in 1s (12.8 MB/s)\n",
            "debconf: unable to initialize frontend: Dialog\n",
            "debconf: (No usable dialog-like program is installed, so the dialog based frontend cannot be used. at /usr/share/perl5/Debconf/FrontEnd/Dialog.pm line 78, <> line 1.)\n",
            "debconf: falling back to frontend: Readline\n",
            "debconf: unable to initialize frontend: Readline\n",
            "debconf: (This frontend requires a controlling tty.)\n",
            "debconf: falling back to frontend: Teletype\n",
            "dpkg-preconfigure: unable to re-open stdin: \n",
            "(Reading database ... 126288 files and directories currently installed.)\n",
            "Preparing to unpack .../git-lfs_3.7.0_amd64.deb ...\n",
            "Unpacking git-lfs (3.7.0) over (3.0.2-1ubuntu0.3) ...\n",
            "Setting up git-lfs (3.7.0) ...\n",
            "Git LFS initialized.\n",
            "Processing triggers for man-db (2.10.2-1) ...\n"
          ]
        }
      ]
<<<<<<< HEAD
     },
     "metadata": {},
     "output_type": "display_data"
    }
   ],
   "source": [
    "model2.eval()\n",
    "pred = 0;\n",
    "for i in range(len(testInds)):\n",
    "    # Grab a test index\n",
    "    x, y_inst = LFCC_test_data[i]\n",
    "    with torch.no_grad():\n",
    "        x = x.to(device)\n",
    "        if type(pred)==int:\n",
    "            pred = model2(x.unsqueeze(0))\n",
    "            y = y_inst;\n",
    "        else:\n",
    "            pred = torch.cat((pred,model2(x.unsqueeze(0))),dim=0);\n",
    "            y = np.append(y, y_inst);\n",
    "y = torch.as_tensor(y).to(device);\n",
    "\n",
    "roc_metric = ROC(task=\"multiclass\", num_classes=12)\n",
    "roc_metric.update(pred, y)\n",
    "fpr, tpr, thresholds = roc_metric.compute()\n",
    "\n",
    "AUC = AUROC(task=\"multiclass\", num_classes=12, average=None)\n",
    "AUC.update(pred, y)\n",
    "AUCs = AUC.compute()\n",
    "#print(f\"Aggregate ROC AUC: {AUCs[0].cpu().numpy():.4f}\")\n",
    "\n",
    "\n",
    "plt.figure()\n",
    "for i in range(12):\n",
    "    plt.plot(fpr[i].cpu(), tpr[i].cpu(), label=f\"{classes[i]} (AUC={AUCs[i].cpu().numpy():.2f})\")\n",
    "plt.plot([0, 1], [0, 1], 'k--', label=\"Chance Level\") # dashed diagonal\n",
    "plt.xlabel(\"False Positive Rate\")\n",
    "plt.ylabel(\"True Positive Rate\")\n",
    "plt.title(\"LFCC Receiver Operating Characteristic (ROC) Curves\")\n",
    "plt.legend(loc=\"lower right\")\n",
    "plt.grid()\n",
    "plt.show()"
   ]
  },
  {
   "cell_type": "markdown",
   "id": "a16d887c-7c2e-4114-9233-5e1609001e7d",
   "metadata": {},
   "source": [
    "<p style=\"font-size:20px;font-weight:bold;\">Repeat Testing</p>\n",
    "<p>Due to the unpredictability of the training success, we can run the training many times to see what the average performance is. The below code will train a separate model a given number of times and calculate the average accuracy across all sets.</p>\n",
    "<p>The first thing we will do is build a function to calculate the ROC curve for each cycle, so we can find the statistically relevant range for the ROC. This function calculates the ROC curve as above, but uses interpolation to re-index it over a set of 200 points. This is done so that all of the ROC curves returned use the same False-Positive Rate indexing and can be averaged.</p>\n",
    "<p>The next thing we do is run the training and test cycle over 10 \"folds,\" or iterations. The Accuracy and Loss values are summed, and a list of the True Positive Rate curves are built. After we've finished the full cycle, the mean and standard deviations of the ROC curve are calculated and used to plot the true mean value along with a 95% confidence interval (1.96 × σ)</p>\n",
    "<p>Please be aware, this can potentially take a <b>long</b> time</p>"
   ]
  },
  {
   "cell_type": "code",
   "execution_count": 42,
   "id": "9c3b2088-4a3f-4737-af61-c57d0311cd9b",
   "metadata": {},
   "outputs": [],
   "source": [
    "from torchmetrics.classification import ROC\n",
    "from torchmetrics.classification import AUROC\n",
    "def calcROCAvg(mod, test_data, device):\n",
    "    mod.eval()\n",
    "    pred = 0;\n",
    "    for i in range(len(testInds)):\n",
    "        # Grab a test index\n",
    "        x, y_inst = test_data[i]\n",
    "        with torch.no_grad():\n",
    "            x = x.to(device)\n",
    "            if type(pred)==int:\n",
    "                pred = mod(x.unsqueeze(0))\n",
    "                y = y_inst;\n",
    "            else:\n",
    "                pred = torch.cat((pred,mod(x.unsqueeze(0))),dim=0);\n",
    "                y = np.append(y, y_inst);\n",
    "    y = torch.as_tensor(y).to(device);\n",
    "    \n",
    "    roc_metric = ROC(task=\"multiclass\", num_classes=12, average=\"macro\")\n",
    "    roc_metric.update(pred, y)\n",
    "    fpr, tpr, thresholds = roc_metric.compute()\n",
    "    mean_fpr = np.linspace(0,1,200);\n",
    "    tpr = np.interp(mean_fpr, fpr.cpu().numpy(), tpr.cpu().numpy());\n",
    "    return mean_fpr, tpr, thresholds;"
   ]
  },
  {
   "cell_type": "code",
   "execution_count": 48,
   "id": "445a997f-5fc7-4595-bcfd-ae25d6910c48",
   "metadata": {},
   "outputs": [
    {
     "name": "stdout",
     "output_type": "stream",
     "text": [
      "MFCC Loop 0\n",
      "100%[■■■■■■■■■■■■■■■■■■■■]\n",
      "MFCC Loop 1\n",
      "100%[■■■■■■■■■■■■■■■■■■■■]\n",
      "MFCC Loop 2\n",
      "100%[■■■■■■■■■■■■■■■■■■■■]\n",
      "MFCC Loop 3\n",
      "100%[■■■■■■■■■■■■■■■■■■■■]\n",
      "MFCC Loop 4\n",
      "100%[■■■■■■■■■■■■■■■■■■■■]\n",
      "MFCC Loop 5\n",
      "100%[■■■■■■■■■■■■■■■■■■■■]\n",
      "MFCC Loop 6\n",
      "100%[■■■■■■■■■■■■■■■■■■■■]\n",
      "MFCC Loop 7\n",
      "100%[■■■■■■■■■■■■■■■■■■■■]\n",
      "MFCC Loop 8\n",
      "100%[■■■■■■■■■■■■■■■■■■■■]\n",
      "MFCC Loop 9\n",
      "100%[■■■■■■■■■■■■■■■■■■■■]\n",
      "MFCC Average Test Error: \n",
      " Accuracy: 45.5%, Avg loss: 1.509357 \n",
      "\n"
     ]
    },
    {
     "data": {
      "image/png": "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",
      "text/plain": [
       "<Figure size 640x480 with 1 Axes>"
      ]
     },
     "metadata": {},
     "output_type": "display_data"
    },
    {
     "name": "stdout",
     "output_type": "stream",
     "text": [
      "LFCC Loop 0\n",
      "100%[■■■■■■■■■■■■■■■■■■■■]\n",
      "LFCC Loop 1\n",
      "100%[■■■■■■■■■■■■■■■■■■■■]\n",
      "LFCC Loop 2\n",
      "100%[■■■■■■■■■■■■■■■■■■■■]\n",
      "LFCC Loop 3\n",
      "100%[■■■■■■■■■■■■■■■■■■■■]\n",
      "LFCC Loop 4\n",
      "100%[■■■■■■■■■■■■■■■■■■■■]\n",
      "LFCC Loop 5\n",
      "100%[■■■■■■■■■■■■■■■■■■■■]\n",
      "LFCC Loop 6\n",
      "100%[■■■■■■■■■■■■■■■■■■■■]\n",
      "LFCC Loop 7\n",
      "100%[■■■■■■■■■■■■■■■■■■■■]\n",
      "LFCC Loop 8\n",
      "100%[■■■■■■■■■■■■■■■■■■■■]\n",
      "LFCC Loop 9\n",
      "100%[■■■■■■■■■■■■■■■■■■■■]\n",
      "MFCC Average Test Error: \n",
      " Accuracy: 49.0%, Avg loss: 1.404998 \n",
      "\n"
     ]
    },
    {
     "data": {
      "image/png": "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",
      "text/plain": [
       "<Figure size 640x480 with 1 Axes>"
      ]
     },
     "metadata": {},
     "output_type": "display_data"
    }
   ],
   "source": [
    "averages = 10;\n",
    "MFCC_avg_acc = 0;\n",
    "MFCC_avg_loss = 0;\n",
    "LFCC_avg_acc = 0;\n",
    "LFCC_avg_loss = 0;\n",
    "tprs = [];\n",
    "\n",
    "for i in range(averages):\n",
    "    print(f\"MFCC Loop {i}\");\n",
    "    torch.cuda.empty_cache()\n",
    "    avg_model = Test_CNN(n_filters1=4, n_filters2=8).to(device)\n",
    "    avg_loss_fn = nn.CrossEntropyLoss()\n",
    "    avg_optimizer = torch.optim.SGD(avg_model.parameters(), lr=1e-3)\n",
    "    train(MFCC_train_dataloader, avg_model, avg_loss_fn, avg_optimizer, 100);\n",
    "    acc, loss = test(MFCC_test_dataloader, avg_model, avg_loss_fn)\n",
    "    MFCC_avg_acc += acc;\n",
    "    MFCC_avg_loss += loss;\n",
    "    fpr, tpr, thres = calcROCAvg(avg_model, MFCC_test_data, device);\n",
    "    tprs.append(tpr);\n",
    "    tprs[-1][0] = 0.0;\n",
    "mean_tpr = np.mean(tprs, axis=0);\n",
    "mean_tpr[-1] = 1.0;\n",
    "std_tpr = np.std(tprs, axis=0);\n",
    "MFCC_avg_acc /= averages;\n",
    "MFCC_avg_loss /= averages;\n",
    "print(f\"MFCC Average Test Error: \\n Accuracy: {(100*MFCC_avg_acc):>0.1f}%, Avg loss: {MFCC_avg_loss:>8f} \\n\")\n",
    "plt.figure();\n",
    "plt.plot(fpr, mean_tpr, label=\"Mean Macro-Avg ROC\");\n",
    "plt.fill_between(fpr, np.maximum(mean_tpr - (1.96 * std_tpr), 0), np.minimum(mean_tpr + (1.96 * std_tpr),1), alpha=0.5, label=\"95% Confidence Interval\");\n",
    "plt.plot([0, 1], [0, 1], 'k--', label=\"Chance Level\") # dashed diagonal\n",
    "plt.xlabel(\"False Positive Rate\")\n",
    "plt.ylabel(\"True Positive Rate\")\n",
    "plt.title(\"MFCC Receiver Operating Characteristic (ROC) Curve\")\n",
    "plt.legend(loc=\"lower right\")\n",
    "plt.grid()\n",
    "plt.show();\n",
    "\n",
    "tprs = [];\n",
    "for i in range(averages):\n",
    "    print(f\"LFCC Loop {i}\");\n",
    "    torch.cuda.empty_cache()\n",
    "    avg_model = Test_CNN(n_filters1=4, n_filters2=8, num_of_cols=463).to(device)\n",
    "    avg_loss_fn = nn.CrossEntropyLoss()\n",
    "    avg_optimizer = torch.optim.SGD(avg_model.parameters(), lr=1e-3)\n",
    "    train(LFCC_train_dataloader, avg_model, avg_loss_fn, avg_optimizer, 100);\n",
    "    acc, loss = test(LFCC_test_dataloader, avg_model, avg_loss_fn)\n",
    "    LFCC_avg_acc += acc;\n",
    "    LFCC_avg_loss += loss;\n",
    "    fpr, tpr, thres = calcROCAvg(avg_model, LFCC_test_data, device);\n",
    "    tprs.append(tpr);\n",
    "    tprs[-1][0] = 0.0;\n",
    "mean_tpr = np.mean(tprs, axis=0);\n",
    "mean_tpr[-1] = 1.0;\n",
    "std_tpr = np.std(tprs, axis=0);\n",
    "LFCC_avg_acc /= averages;\n",
    "LFCC_avg_loss /= averages;\n",
    "print(f\"MFCC Average Test Error: \\n Accuracy: {(100*LFCC_avg_acc):>0.1f}%, Avg loss: {LFCC_avg_loss:>8f} \\n\")\n",
    "plt.figure();\n",
    "plt.plot(fpr, mean_tpr, label=\"Mean Macro-Avg ROC\");\n",
    "plt.fill_between(fpr, np.maximum(mean_tpr - (1.96 * std_tpr), 0), np.minimum(mean_tpr + (1.96 * std_tpr),1), alpha=0.5, label=\"95% Confidence Interval\");\n",
    "plt.plot([0, 1], [0, 1], 'k--', label=\"Chance Level\") # dashed diagonal\n",
    "plt.xlabel(\"False Positive Rate\")\n",
    "plt.ylabel(\"True Positive Rate\")\n",
    "plt.title(\"LFCC Receiver Operating Characteristic (ROC) Curve\")\n",
    "plt.legend(loc=\"lower right\")\n",
    "plt.grid()\n",
    "plt.show();"
   ]
  },
  {
   "cell_type": "code",
   "execution_count": null,
   "id": "f7f9afc3-6fd8-4024-831e-181a90c18f27",
   "metadata": {},
   "outputs": [],
   "source": []
  }
 ],
 "metadata": {
  "kernelspec": {
   "display_name": "Python 3 (ipykernel)",
   "language": "python",
   "name": "python3"
  },
  "language_info": {
   "codemirror_mode": {
    "name": "ipython",
    "version": 3
   },
   "file_extension": ".py",
   "mimetype": "text/x-python",
   "name": "python",
   "nbconvert_exporter": "python",
   "pygments_lexer": "ipython3",
   "version": "3.12.11"
  }
 },
 "nbformat": 4,
 "nbformat_minor": 5
}
=======
    },
    {
      "cell_type": "code",
      "source": [
        "%cd /content/\n",
        "!git clone https://github.com/bman222112/ECE551.git\n",
        "%cd /content/ECE551/"
      ],
      "metadata": {
        "id": "9o0Pib-TKIXF",
        "outputId": "90770b6a-0b61-4c34-ba06-97dba8633a61",
        "colab": {
          "base_uri": "https://localhost:8080/"
        }
      },
      "id": "9o0Pib-TKIXF",
      "execution_count": 3,
      "outputs": [
        {
          "output_type": "stream",
          "name": "stdout",
          "text": [
            "/content\n",
            "Cloning into 'ECE551'...\n",
            "remote: Enumerating objects: 987, done.\u001b[K\n",
            "remote: Total 987 (delta 0), reused 0 (delta 0), pack-reused 987 (from 2)\u001b[K\n",
            "Receiving objects: 100% (987/987), 697.93 MiB | 25.98 MiB/s, done.\n",
            "Resolving deltas: 100% (6/6), done.\n",
            "Updating files: 100% (938/938), done.\n",
            "/content/ECE551\n"
          ]
        }
      ]
    },
    {
      "cell_type": "code",
      "execution_count": 4,
      "id": "a2b789ff-1794-43e6-b57f-99872ec8805c",
      "metadata": {
        "id": "a2b789ff-1794-43e6-b57f-99872ec8805c"
      },
      "outputs": [],
      "source": [
        "import os\n",
        "import pandas as pd\n",
        "import numpy as np\n",
        "from torch.utils.data import Dataset\n",
        "import torch\n",
        "\n",
        "class CCDataset(Dataset):\n",
        "    def __init__(self, labels, datafile, inds, transform=None, target_transform=None):\n",
        "        self.labels = np.load(labels).astype(\"int\");\n",
        "        self.data = np.load(datafile).astype(np.float32);\n",
        "        self.transform = transform\n",
        "        self.target_transform = target_transform\n",
        "        self.indices = inds;\n",
        "\n",
        "    def __len__(self):\n",
        "        return len(self.indices);\n",
        "\n",
        "    def __getitem__(self, idx):\n",
        "        dat = self.data[self.indices[idx]][:][:];\n",
        "        if self.transform:\n",
        "            dat = self.transform(dat);\n",
        "        if self.target_transform:\n",
        "            dat = self.target_transform(dat);\n",
        "        return dat, self.labels[self.indices[idx]];"
      ]
    },
    {
      "cell_type": "markdown",
      "id": "8ebb5594-8ecd-46b9-be34-8e3b5b359be1",
      "metadata": {
        "id": "8ebb5594-8ecd-46b9-be34-8e3b5b359be1"
      },
      "source": [
        "Because we don't know how many total samples there are yet, to generate the random indicies, we can read in the labels definition and use it's length to generate the ranges"
      ]
    },
    {
      "cell_type": "code",
      "execution_count": 5,
      "id": "4fad871f-e82e-4f4d-b642-843e01dead26",
      "metadata": {
        "id": "4fad871f-e82e-4f4d-b642-843e01dead26",
        "outputId": "15aca646-6e79-4996-e9fb-cff288b02307",
        "colab": {
          "base_uri": "https://localhost:8080/",
          "height": 269
        }
      },
      "outputs": [
        {
          "output_type": "error",
          "ename": "FileNotFoundError",
          "evalue": "[Errno 2] No such file or directory: 'Labels_aug.npy'",
          "traceback": [
            "\u001b[0;31m---------------------------------------------------------------------------\u001b[0m",
            "\u001b[0;31mFileNotFoundError\u001b[0m                         Traceback (most recent call last)",
            "\u001b[0;32m/tmp/ipython-input-5-4131975114.py\u001b[0m in \u001b[0;36m<cell line: 0>\u001b[0;34m()\u001b[0m\n\u001b[0;32m----> 1\u001b[0;31m \u001b[0mlabels\u001b[0m \u001b[0;34m=\u001b[0m \u001b[0mnp\u001b[0m\u001b[0;34m.\u001b[0m\u001b[0mload\u001b[0m\u001b[0;34m(\u001b[0m\u001b[0;34m\"Labels_aug.npy\"\u001b[0m\u001b[0;34m)\u001b[0m\u001b[0;34m;\u001b[0m\u001b[0;34m\u001b[0m\u001b[0;34m\u001b[0m\u001b[0m\n\u001b[0m",
            "\u001b[0;32m/usr/local/lib/python3.11/dist-packages/numpy/lib/_npyio_impl.py\u001b[0m in \u001b[0;36mload\u001b[0;34m(file, mmap_mode, allow_pickle, fix_imports, encoding, max_header_size)\u001b[0m\n\u001b[1;32m    453\u001b[0m             \u001b[0mown_fid\u001b[0m \u001b[0;34m=\u001b[0m \u001b[0;32mFalse\u001b[0m\u001b[0;34m\u001b[0m\u001b[0;34m\u001b[0m\u001b[0m\n\u001b[1;32m    454\u001b[0m         \u001b[0;32melse\u001b[0m\u001b[0;34m:\u001b[0m\u001b[0;34m\u001b[0m\u001b[0;34m\u001b[0m\u001b[0m\n\u001b[0;32m--> 455\u001b[0;31m             \u001b[0mfid\u001b[0m \u001b[0;34m=\u001b[0m \u001b[0mstack\u001b[0m\u001b[0;34m.\u001b[0m\u001b[0menter_context\u001b[0m\u001b[0;34m(\u001b[0m\u001b[0mopen\u001b[0m\u001b[0;34m(\u001b[0m\u001b[0mos\u001b[0m\u001b[0;34m.\u001b[0m\u001b[0mfspath\u001b[0m\u001b[0;34m(\u001b[0m\u001b[0mfile\u001b[0m\u001b[0;34m)\u001b[0m\u001b[0;34m,\u001b[0m \u001b[0;34m\"rb\"\u001b[0m\u001b[0;34m)\u001b[0m\u001b[0;34m)\u001b[0m\u001b[0;34m\u001b[0m\u001b[0;34m\u001b[0m\u001b[0m\n\u001b[0m\u001b[1;32m    456\u001b[0m             \u001b[0mown_fid\u001b[0m \u001b[0;34m=\u001b[0m \u001b[0;32mTrue\u001b[0m\u001b[0;34m\u001b[0m\u001b[0;34m\u001b[0m\u001b[0m\n\u001b[1;32m    457\u001b[0m \u001b[0;34m\u001b[0m\u001b[0m\n",
            "\u001b[0;31mFileNotFoundError\u001b[0m: [Errno 2] No such file or directory: 'Labels_aug.npy'"
          ]
        }
      ],
      "source": [
        "labels = np.load(\"Labels_aug.npy\");"
      ]
    },
    {
      "cell_type": "code",
      "execution_count": null,
      "id": "bb101dfc-82c9-421d-8de9-cccc37098953",
      "metadata": {
        "id": "bb101dfc-82c9-421d-8de9-cccc37098953"
      },
      "outputs": [],
      "source": [
        "import random\n",
        "random.seed(10)\n",
        "trainInds = random.sample(range(len(labels)),round(len(labels)*0.9));\n",
        "testInds = [item for item in random.sample(range(len(labels)),round(len(labels))) if item not in trainInds];\n"
      ]
    },
    {
      "cell_type": "markdown",
      "id": "70479191-535a-4c16-85c5-7cca3be1333a",
      "metadata": {
        "id": "70479191-535a-4c16-85c5-7cca3be1333a"
      },
      "source": [
        "With the ranges for training and test specified, we can read in the data using our <span style=\"color:blue;font-weight:bold;\">CCDataset</span> class. Notice we are only reading in the MFCC and LFCC data. Because the LPC dataset is not 2-Dimensional, the same Neural Network model cannot be used with LPC data. Module 7 will provide the same basic model modified for 2D data."
      ]
    },
    {
      "cell_type": "code",
      "execution_count": null,
      "id": "c9c22089-a930-4812-98c6-8d1982150768",
      "metadata": {
        "id": "c9c22089-a930-4812-98c6-8d1982150768"
      },
      "outputs": [],
      "source": [
        "from torchvision.transforms import ToTensor\n",
        "MFCC_train_data = CCDataset(\"Labels_aug.npy\",\"3D_MFCC_aug.npy\",trainInds, transform=ToTensor());\n",
        "MFCC_test_data = CCDataset(\"Labels_aug.npy\",\"3D_MFCC_aug.npy\",testInds, transform=ToTensor());\n",
        "LFCC_train_data = CCDataset(\"Labels_aug.npy\",\"3D_LFCC_aug.npy\",trainInds, transform=ToTensor());\n",
        "LFCC_test_data = CCDataset(\"Labels_aug.npy\",\"3D_LFCC_aug.npy\",testInds, transform=ToTensor());"
      ]
    },
    {
      "cell_type": "markdown",
      "id": "aa60414d-7fa6-423c-a902-61fd0a584ecb",
      "metadata": {
        "id": "aa60414d-7fa6-423c-a902-61fd0a584ecb"
      },
      "source": [
        "Now that we have read in our data, we need a DataLoader object to use with training. Based on empirical testing, a batch size of 3 appeared to work the best for this dataset. Increasing the batch size will dramatically reduce model training times, but may negatively impact performance."
      ]
    },
    {
      "cell_type": "code",
      "execution_count": null,
      "id": "20183bab-5051-4568-a073-fe5720ba51f2",
      "metadata": {
        "id": "20183bab-5051-4568-a073-fe5720ba51f2"
      },
      "outputs": [],
      "source": [
        "from torch.utils.data import DataLoader\n",
        "batch_size = 3\n",
        "\n",
        "# Create data loaders.\n",
        "MFCC_train_dataloader = DataLoader(MFCC_train_data, batch_size=batch_size)\n",
        "MFCC_test_dataloader = DataLoader(MFCC_test_data, batch_size=batch_size)\n",
        "LFCC_train_dataloader = DataLoader(LFCC_train_data, batch_size=batch_size)\n",
        "LFCC_test_dataloader = DataLoader(LFCC_test_data, batch_size=batch_size)\n",
        "\n",
        "for X, y in MFCC_train_dataloader:\n",
        "    print(f\"Shape of X [N, C, M, T]: {X.shape} {X.dtype}\")\n",
        "    print(\"N = batch size. This is the number of images to process at a time.\")\n",
        "    print(\"C = number of channels. Only 1 for Cepstrum Coefficient Data\")\n",
        "    print(\"M = number of Cepstrum Coefficients\")\n",
        "    print(\"T = time in blocks\")\n",
        "    print(\" \")\n",
        "    print(f\"Shape of y: {y.shape} {y.dtype}\")\n",
        "    print(\"y is of size N, the ground truth labels\")\n",
        "    print(y)\n",
        "    break\n",
        "\n",
        "train_size = len(MFCC_train_dataloader.dataset)\n",
        "test_size  = len(MFCC_test_dataloader.dataset)\n",
        "train_pct  = 100*train_size/(train_size+test_size)\n",
        "test_pct   = 100*test_size/(train_size+test_size)\n",
        "print(f\"Percentage of training dataset = {train_pct:.2f} percent with {train_size} samples.\")\n",
        "print(f\"Percentage of test dataset     = {test_pct:.2f} percent with {test_size} samples.\")"
      ]
    },
    {
      "cell_type": "markdown",
      "id": "652e4b39-09ee-4807-b72c-65523123be86",
      "metadata": {
        "id": "652e4b39-09ee-4807-b72c-65523123be86"
      },
      "source": [
        "As can be seen, the resulting output for the MFCC_train_dataloader shows an output for training of <b>[batch, 1, MFCCs, Time]</b>, matching our MFCC data and the batch size.</br></br>\n",
        "Next, we'll define our class names, along with a quick test to see what the first item out of our dataset is, and verify it is labeled correctly"
      ]
    },
    {
      "cell_type": "code",
      "execution_count": null,
      "id": "79c5d6ca-c188-49f8-80d1-0fa7bda97f63",
      "metadata": {
        "id": "79c5d6ca-c188-49f8-80d1-0fa7bda97f63"
      },
      "outputs": [],
      "source": [
        "classes = [\"Pump 1 Start\", \"Pump 1 Run\", \"Pump 1 Stop\", \"Pump 2 Start\", \"Pump 2 Run\", \"Pump 2 Stop\", \"Pump 3 Start\", \"Pump 3 Run\", \"Pump 3 Stop\", \"Pump 4 Start\", \"Pump 4 Run\", \"Pump 4 Stop\"];"
      ]
    },
    {
      "cell_type": "code",
      "execution_count": null,
      "id": "7c600f9e-9200-47b6-98c0-156c7bf4a280",
      "metadata": {
        "id": "7c600f9e-9200-47b6-98c0-156c7bf4a280"
      },
      "outputs": [],
      "source": [
        "print(f\"Expected: \\t{classes[labels[trainInds[1]].astype('int')]}\\nFrom Dataset: \\t{classes[MFCC_train_data.__getitem__(1)[1]]}\");"
      ]
    },
    {
      "cell_type": "markdown",
      "id": "e8b2b9b1-2915-4d94-bae9-b5d5e456dd9e",
      "metadata": {
        "id": "e8b2b9b1-2915-4d94-bae9-b5d5e456dd9e"
      },
      "source": [
        "<p>Next, let's plot the data from the last batch determined from the dataloader above. This will show what the data looks like, and verify the labels for the samples in the batch</p>"
      ]
    },
    {
      "cell_type": "code",
      "execution_count": null,
      "id": "187d7904-bc48-4346-88ae-a256c4432d22",
      "metadata": {
        "id": "187d7904-bc48-4346-88ae-a256c4432d22"
      },
      "outputs": [],
      "source": [
        "import matplotlib.pyplot as plt\n",
        "import math\n",
        "def show_images(batch_tensor, n=3, titles=None):\n",
        "    \"\"\"\n",
        "    Display all Cepstrum Coefficients from a batch [B, 1, H, W]\n",
        "\n",
        "    Parameters:\n",
        "    - batch_tensor: torch.Tensor of shape [B, 1, H, W]\n",
        "    - n: number of plots to show\n",
        "    - titles: list of titles or labels for each image (length n)\n",
        "    \"\"\"\n",
        "    n = min(n, batch_tensor.size(0))\n",
        "    if titles is None:\n",
        "        titles = [f\"Image {i}\" for i in range(n)]\n",
        "    else:\n",
        "        assert len(titles) >= n, \"Not enough titles for the number of images.\"\n",
        "\n",
        "    # Determine grid size\n",
        "    cols = n\n",
        "    rows = 1;\n",
        "\n",
        "    plt.figure(figsize=(cols * 2, rows * 2))\n",
        "    for i in range(n):\n",
        "        img = batch_tensor[i, 0].cpu().numpy()\n",
        "        plt.subplot(rows, cols, i + 1)\n",
        "        plt.imshow(img, cmap='coolwarm', aspect=\"auto\", interpolation=\"none\")\n",
        "        plt.gca().invert_yaxis();\n",
        "        plt.title(classes[y[i]], fontsize=10)\n",
        "        plt.axis('off')\n",
        "    plt.tight_layout()\n",
        "    plt.show()\n",
        "\n",
        "show_images(batch_tensor=X, n=3, titles=y)"
      ]
    },
    {
      "cell_type": "markdown",
      "id": "9e8d8688-466d-4b8b-a0e6-69c50e228e08",
      "metadata": {
        "id": "9e8d8688-466d-4b8b-a0e6-69c50e228e08"
      },
      "source": [
        "<p>Next, we are ready for our CNN Model. This model is built up of:\n",
        "    <ul>\n",
        "        <li>2 convolutional layers</li>\n",
        "        <li>A 2x2 pooling layer applied multiple times</li>\n",
        "        <li>A dropout layer with 25% probability applied multiple times</li>\n",
        "        <li>A linear stack comprised of\n",
        "        <ul style=\"list-style-type:square;\">\n",
        "            <li>A linear layer outputting 512 elements</li>\n",
        "            <li>A second linear layer with the same number of inputs and outputs</li>\n",
        "        </ul>\n",
        "    </ul>  "
      ]
    },
    {
      "cell_type": "code",
      "execution_count": null,
      "id": "ccd37174-b646-4bbf-81a7-8e83b45db21f",
      "metadata": {
        "id": "ccd37174-b646-4bbf-81a7-8e83b45db21f"
      },
      "outputs": [],
      "source": [
        "from torch import nn\n",
        "import torch.nn.functional as F\n",
        "class Test_CNN(nn.Module):\n",
        "    def __init__(self, num_of_rows = 13, num_of_cols = 181,\n",
        "                 n_filters1=4, n_filters2=8, out_categories=12):\n",
        "        super().__init__()\n",
        "\n",
        "        self.conv1 = nn.Conv2d(\n",
        "                in_channels=1,            # 1 for grayscale\n",
        "                out_channels=n_filters1,   # Number of filters\n",
        "                kernel_size=3,            # 3x3 convolution\n",
        "                stride=1,\n",
        "                padding=1          # Keep output size same as input\n",
        "                )\n",
        "        self.pool = nn.MaxPool2d(2, 2)  # halves size\n",
        "\n",
        "        self.conv2 = nn.Conv2d(\n",
        "                in_channels=n_filters1,    # NOTE: Use n_filters1 from conv1\n",
        "                out_channels=n_filters2,   # New number of filters\n",
        "                kernel_size=3,            # 3x3 convolution\n",
        "                stride=1,\n",
        "                padding=1          # Keep output size same as input\n",
        "                )\n",
        "\n",
        "        self.drop = nn.Dropout2d(p=0.25); # Drops samples to 0 with a 25% probability\n",
        "\n",
        "        # out_categories should match the number of output categories.\n",
        "        # Match the dimensions to the input.\n",
        "        # Divide by 2 for each maxpooling (carefull for non-even numbers ...)\n",
        "        num_of_points = math.floor(num_of_rows/(2*2)) * math.floor(num_of_cols/(2*2))\n",
        "\n",
        "        # Linear layer stack\n",
        "        # Accepts the outputs from previous layer, outputs 512\n",
        "        self.linear_relu_stack = nn.Sequential(\n",
        "            nn.Linear(num_of_points*n_filters2, 512),\n",
        "            nn.ReLU(),\n",
        "            nn.Linear(512, 512)\n",
        "        )\n",
        "\n",
        "        # Final layer collects the pixels from all of the inputs:\n",
        "        self.fc1 = nn.Linear(512, out_categories)\n",
        "\n",
        "\n",
        "    def forward(self, x):\n",
        "        x = self.pool(F.relu(self.conv1(x)))  # -> [batch, 4, rows/2, cols/2]\n",
        "        x = self.drop(x);                     # -> Apply dropout\n",
        "        x = self.pool(F.relu(self.conv2(x)))  # -> [batch, 8, rows/4, cols/4]\n",
        "        x = self.drop(x);                     # -> Apply dropout a second time\n",
        "        x = x.view(x.size(0), -1)             # -> flatten to [batch, 8*(rows/4)*(cols/4)]\n",
        "        x = self.linear_relu_stack(x);        # -> Pass through linear stack\n",
        "        logits = F.relu(self.fc1(x))          # -> Determine logits\n",
        "        return logits # Note: SoftMax is applied to logits by cross-entropy loss function.\n",
        "\n",
        "device = torch.accelerator.current_accelerator().type if torch.accelerator.is_available() else \"cpu\"\n",
        "torch.cuda.empty_cache()\n",
        "model = Test_CNN(n_filters1=4, n_filters2=8).to(device)"
      ]
    },
    {
      "cell_type": "markdown",
      "id": "a108d730-9520-4462-86c4-b731092253cd",
      "metadata": {
        "id": "a108d730-9520-4462-86c4-b731092253cd"
      },
      "source": [
        "<p>Looking at the full model, we can print the model and the full list of parameters for each layer</p>"
      ]
    },
    {
      "cell_type": "code",
      "execution_count": null,
      "id": "b5190ece-2d20-411c-a67f-a4abd2d40d68",
      "metadata": {
        "id": "b5190ece-2d20-411c-a67f-a4abd2d40d68"
      },
      "outputs": [],
      "source": [
        "def parameter_report(model):\n",
        "    print(f\"{'Layer':<40} {'# Params':>12} {'Trainable':>10}\")\n",
        "    print(\"-\" * 65)\n",
        "    total, trainable = 0, 0\n",
        "    for name, param in model.named_parameters():\n",
        "        num_params = param.numel()\n",
        "        is_trainable = param.requires_grad\n",
        "        print(f\"{name:<40} {num_params:>12,} {str(is_trainable):>10}\")\n",
        "        total += num_params\n",
        "        if is_trainable:\n",
        "            trainable += num_params\n",
        "    print(\"-\" * 65)\n",
        "    print(f\"{'Total':<40} {total:>12,} {'':>10}\")\n",
        "    print(f\"{'Trainable':<40} {trainable:>12,}\")\n",
        "\n",
        "\n",
        "print(model)\n",
        "print(\" \")\n",
        "\n",
        "parameter_report(model)"
      ]
    },
    {
      "cell_type": "markdown",
      "id": "f5130a09-a6aa-469e-968f-932a5ea69887",
      "metadata": {
        "id": "f5130a09-a6aa-469e-968f-932a5ea69887"
      },
      "source": [
        "<p>To train the model, we need to specify a loss function and an optimizer. Based on our output of raw, un-normalized logits in the model, we are limited to CrossEntropyLoss or BCEWithLogitsLoss from the PyTorch library. Here we will select CrossEntropy, and use Stochastic Gradient Decent as the optimizer.</p>"
      ]
    },
    {
      "cell_type": "code",
      "execution_count": null,
      "id": "352ab89a-6447-4628-8ac9-8660237679ec",
      "metadata": {
        "id": "352ab89a-6447-4628-8ac9-8660237679ec"
      },
      "outputs": [],
      "source": [
        "loss_fn = nn.CrossEntropyLoss()\n",
        "optimizer = torch.optim.SGD(model.parameters(), lr=1e-3)"
      ]
    },
    {
      "cell_type": "markdown",
      "id": "4fb21658-3c8c-4d73-ace7-d8de45c33824",
      "metadata": {
        "id": "4fb21658-3c8c-4d73-ace7-d8de45c33824"
      },
      "source": [
        "<p>The training function, defined below, runs through a given number of epochs, or until the model demonstrates small enough changes to the average training loss. For each epoch, the function runs through all of the batches within the dataloader and tests the model accuracy. After each epoch, a learning rate scheduler is update, with the goal of tailoring the learning rate to the current optimization state. Both an Exponential learning rate and a MultiStep learning rate scheduler are used to try and improve the speed at which the average loss converges.</p>\n",
        "\n",
        "<p>In addition, a progress bar is printed to monitor training progress. If interested in the progression of the training, there is a commented print statement that will produce the average loss rate for each epoch</p>"
      ]
    },
    {
      "cell_type": "code",
      "execution_count": null,
      "id": "99a9fb57-bc1d-46f4-840b-5689c0cd50fc",
      "metadata": {
        "id": "99a9fb57-bc1d-46f4-840b-5689c0cd50fc"
      },
      "outputs": [],
      "source": [
        "from torch.optim.lr_scheduler import LRScheduler\n",
        "from torch.optim.lr_scheduler import MultiStepLR\n",
        "from torch.optim.lr_scheduler import ExponentialLR\n",
        "import gc\n",
        "\n",
        "def train(dataloader, model, loss_fn, optimizer, epochs):\n",
        "    size = len(dataloader.dataset)\n",
        "    model.train() # Put the model in training mode.\n",
        "    scheduler1 = ExponentialLR(optimizer, gamma=0.9)\n",
        "    scheduler2 = MultiStepLR(optimizer, milestones=[30,80], gamma=0.1)\n",
        "    print(f\"  0%[{20*\" \"}]\\r\",end=\"\");\n",
        "    loss_last = 0;\n",
        "    twice = False;\n",
        "    for ep in range(epochs):\n",
        "        test_loss, num = 0, 0\n",
        "        for batch, (X, y) in enumerate(dataloader):\n",
        "            # Place the model and predictions on the same device.\n",
        "            X, y = X.to(device), y.to(device)\n",
        "            # Compute prediction error\n",
        "            pred = model(X)\n",
        "            loss = loss_fn(pred, y)\n",
        "            test_loss += loss.item();\n",
        "            num+=1;\n",
        "\n",
        "            # Backpropagation\n",
        "            # This step updates the parameter values inside your network.\n",
        "            loss.backward()\n",
        "            optimizer.step()\n",
        "            optimizer.zero_grad()\n",
        "            del X, y, pred;\n",
        "            torch.cuda.empty_cache()\n",
        "        if (loss_last - (test_loss/num)  < 0.005 and loss_last - (test_loss/num) > 0):\n",
        "            if twice:\n",
        "                break;\n",
        "            else:\n",
        "                twice = True;\n",
        "        else:\n",
        "            loss_last = test_loss/num;\n",
        "\n",
        "        #print(f\"loss: {test_loss/num:>7f}\")\n",
        "        print(f\"{100*(ep/epochs):3.0f}%[{int(20 * ep/epochs)*\"■\"}{(20-int(20 * ep/epochs))*\" \"}]\\r\",end=\"\");   # Print a progress bar. A number of blocks are printed based on the percentage through the count of epochs\n",
        "        # Step the learning rate schedulers based on the current status\n",
        "        scheduler1.step();\n",
        "        scheduler2.step();\n",
        "    print(f\"100%[{20*\"■\"}]\\r\");        # We need to make sure to jump the progress bar to 100% at the end, especially if we broke early due to small enough change in loss"
      ]
    },
    {
      "cell_type": "markdown",
      "id": "92accbb7-34c9-4322-96fe-18cd8832d81c",
      "metadata": {
        "id": "92accbb7-34c9-4322-96fe-18cd8832d81c"
      },
      "source": [
        "<p>To test the model, we have the following function, which will calculate the accuracy of the model on another (the test) dataloader</p>"
      ]
    },
    {
      "cell_type": "code",
      "execution_count": null,
      "id": "57b1f8f6-40a7-4da2-860b-65cac275f795",
      "metadata": {
        "id": "57b1f8f6-40a7-4da2-860b-65cac275f795"
      },
      "outputs": [],
      "source": [
        "def test(dataloader, model, loss_fn):\n",
        "    size = len(dataloader.dataset)\n",
        "    num_batches = len(dataloader)\n",
        "    model.eval() # Put the model in testing mode.\n",
        "    test_loss, correct = 0, 0\n",
        "    with torch.no_grad():\n",
        "        for X, y in dataloader:\n",
        "            X, y = X.to(device), y.to(device)\n",
        "            pred = model(X)\n",
        "            test_loss += loss_fn(pred, y).item()\n",
        "            correct += (pred.argmax(1) == y).type(torch.float).sum().item()\n",
        "    test_loss /= num_batches\n",
        "    correct /= size\n",
        "    #print(f\"Test Error: \\n Accuracy: {(100*correct):>0.1f}%, Avg loss: {test_loss:>8f} \\n\")\n",
        "    return correct, test_loss;"
      ]
    },
    {
      "cell_type": "markdown",
      "id": "66491e71-7004-4a4b-ba75-bc991c475a9c",
      "metadata": {
        "id": "66491e71-7004-4a4b-ba75-bc991c475a9c"
      },
      "source": [
        "<p>Finally it is time to train the model. The following two functions will run through the training, and then print the accuracy and average loss for the test dataset. Be aware, even when run on a CUDA accelerated GPU for processing, this step can be slow. The small batch size forces many steps to push the data to the GPU, and takes time to process.</p>\n",
        "\n",
        "<p>It has been observed through testing that when using CUDA, occasionally the model training will fail and loss will remain in excess of 2. If this happens, generally, running all cells again should fix the issue.</p>"
      ]
    },
    {
      "cell_type": "code",
      "execution_count": null,
      "id": "2fe99e3e-a4e5-4fcd-a979-b27233cfe26f",
      "metadata": {
        "id": "2fe99e3e-a4e5-4fcd-a979-b27233cfe26f"
      },
      "outputs": [],
      "source": [
        "train(MFCC_train_dataloader, model, loss_fn, optimizer, 100);\n",
        "acc, loss = test(MFCC_test_dataloader, model, loss_fn)\n",
        "print(f\"Test Error: \\n Accuracy: {(100*acc):>0.1f}%, Avg loss: {loss:>8f} \\n\")"
      ]
    },
    {
      "cell_type": "code",
      "execution_count": null,
      "id": "d85c62af-cdfc-464a-b26e-686200e9b794",
      "metadata": {
        "id": "d85c62af-cdfc-464a-b26e-686200e9b794"
      },
      "outputs": [],
      "source": [
        "acc, loss = test(MFCC_train_dataloader,model,loss_fn)\n",
        "print(f\"Train Error: \\n Accuracy: {(100*acc):>0.1f}%, Avg loss: {loss:>8f} \\n\")"
      ]
    },
    {
      "cell_type": "markdown",
      "id": "0838384b-11f9-454f-b15a-ebaa3ba6de5f",
      "metadata": {
        "id": "0838384b-11f9-454f-b15a-ebaa3ba6de5f"
      },
      "source": [
        "<p>We can save the model weights to use later if desired.</p>"
      ]
    },
    {
      "cell_type": "code",
      "execution_count": null,
      "id": "fc325547-26f3-403c-81c3-74cca8c14546",
      "metadata": {
        "id": "fc325547-26f3-403c-81c3-74cca8c14546"
      },
      "outputs": [],
      "source": [
        "torch.save(model.state_dict(), \"MFCC.pth\")"
      ]
    },
    {
      "cell_type": "markdown",
      "id": "a7dc0441-de88-4fbf-93f5-1cf46c4b50dd",
      "metadata": {
        "id": "a7dc0441-de88-4fbf-93f5-1cf46c4b50dd"
      },
      "source": [
        "<p>We can also quickly grab a random test index and plot it to see if the predicted and actual labels match</p>"
      ]
    },
    {
      "cell_type": "code",
      "execution_count": null,
      "id": "f4262916-4878-4645-8450-de2b8d7b41a0",
      "metadata": {
        "id": "f4262916-4878-4645-8450-de2b8d7b41a0"
      },
      "outputs": [],
      "source": [
        "# Put the model in evaluation mode.\n",
        "model.eval()\n",
        "\n",
        "# Grab a test index\n",
        "test_index = 105\n",
        "x, y = MFCC_test_data[test_index][0], MFCC_test_data[test_index][1]\n",
        "\n",
        "img  = x.squeeze()\n",
        "\n",
        "with torch.no_grad():\n",
        "    x = x.to(device)\n",
        "\n",
        "    pred = model(x.unsqueeze(0)) # Create a batch size = 1 using unsqueeze()\n",
        "\n",
        "    print(\"Outputs for all categories:\")\n",
        "    print(pred)\n",
        "    predicted, actual = classes[pred[0].argmax(0)], classes[y]\n",
        "    print(f'Predicted: \"{predicted}\", Actual: \"{actual}\"')\n",
        "\n",
        "    plt.imshow(img, cmap='gray')\n",
        "    plt.title(f'Predicted: \"{predicted}\", Actual: \"{actual}\"', fontsize=10)\n",
        "    plt.axis('off')\n",
        "    plt.show()"
      ]
    },
    {
      "cell_type": "markdown",
      "id": "14ebd510-4e8d-4914-adac-d20fdb9a979b",
      "metadata": {
        "id": "14ebd510-4e8d-4914-adac-d20fdb9a979b"
      },
      "source": [
        "<p>Finally, we can generate ROC curves and AUC scores for each of the One-vs-Rest cases</p>"
      ]
    },
    {
      "cell_type": "code",
      "execution_count": null,
      "id": "1596b5a2-dbbc-4bea-982b-d22bed28150c",
      "metadata": {
        "id": "1596b5a2-dbbc-4bea-982b-d22bed28150c"
      },
      "outputs": [],
      "source": [
        "from torchmetrics.classification import ROC\n",
        "from torchmetrics.classification import AUROC\n",
        "import matplotlib.pyplot as plt\n",
        "\n",
        "model.eval()\n",
        "pred = 0;\n",
        "for i in range(len(testInds)):\n",
        "    # Grab a test index\n",
        "    x, y_inst = MFCC_test_data[i]\n",
        "    with torch.no_grad():\n",
        "        x = x.to(device)\n",
        "        if type(pred)==int:\n",
        "            pred = model(x.unsqueeze(0))\n",
        "            y = y_inst;\n",
        "        else:\n",
        "            pred = torch.cat((pred,model(x.unsqueeze(0))),dim=0);\n",
        "            y = np.append(y, y_inst);\n",
        "y = torch.as_tensor(y).to(device);\n",
        "\n",
        "roc_metric = ROC(task=\"multiclass\", num_classes=12)\n",
        "roc_metric.update(pred, y)\n",
        "fpr, tpr, thresholds = roc_metric.compute()\n",
        "\n",
        "AUC = AUROC(task=\"multiclass\", num_classes=12, average=None)\n",
        "AUC.update(pred, y)\n",
        "AUCs = AUC.compute()\n",
        "#print(f\"Aggregate ROC AUC: {AUCs[0].cpu().numpy():.4f}\")\n",
        "\n",
        "\n",
        "plt.figure()\n",
        "for i in range(12):\n",
        "    plt.plot(fpr[i].cpu(), tpr[i].cpu(), label=f\"{classes[i]} (AUC={AUCs[i].cpu().numpy():.2f})\")\n",
        "plt.plot([0, 1], [0, 1], 'k--', label=\"Chance Level\") # dashed diagonal\n",
        "plt.xlabel(\"False Positive Rate\")\n",
        "plt.ylabel(\"True Positive Rate\")\n",
        "plt.title(\"MFCC Receiver Operating Characteristic (ROC) Curves\")\n",
        "plt.legend(loc=\"lower right\")\n",
        "plt.grid()\n",
        "plt.show()"
      ]
    },
    {
      "cell_type": "markdown",
      "id": "f1f96baa-6a1b-4ca8-98e4-1270c8cc4ff8",
      "metadata": {
        "id": "f1f96baa-6a1b-4ca8-98e4-1270c8cc4ff8"
      },
      "source": [
        "<p style=\"font-size:28px;font-weight:bold;\">CNN Testing with LFCC Dataset</p>\n",
        "Next, let's repeat the above process with our LFCC dataset. This dataset appears to struggle more than the MFCC dataset in training succesfully. If the test loss remains above 1, try running the training multiple times to see if you can get the results to perform better."
      ]
    },
    {
      "cell_type": "code",
      "execution_count": null,
      "id": "3fa32dd5-bcde-48b3-80d4-b60075a9b9b2",
      "metadata": {
        "id": "3fa32dd5-bcde-48b3-80d4-b60075a9b9b2"
      },
      "outputs": [],
      "source": [
        "torch.cuda.empty_cache()\n",
        "model2 = Test_CNN(n_filters1=4, n_filters2=8, num_of_cols=463).to(device)\n",
        "loss_fn2 = nn.CrossEntropyLoss()\n",
        "optimizer2 = torch.optim.SGD(model2.parameters(), lr=1e-3)\n",
        "train(LFCC_train_dataloader, model2, loss_fn2, optimizer2, 100);\n",
        "acc, loss = test(LFCC_test_dataloader, model2, loss_fn2)\n",
        "print(f\"Test Error: \\n Accuracy: {(100*acc):>0.1f}%, Avg loss: {loss:>8f} \\n\")"
      ]
    },
    {
      "cell_type": "code",
      "execution_count": null,
      "id": "62d9e8d2-2a82-42fd-810a-3a9a758e3d16",
      "metadata": {
        "id": "62d9e8d2-2a82-42fd-810a-3a9a758e3d16"
      },
      "outputs": [],
      "source": [
        "torch.save(model2.state_dict(), \"LFCC.pth\")"
      ]
    },
    {
      "cell_type": "code",
      "execution_count": null,
      "id": "52a4637b-5145-4bd2-91c1-eb9da6ed1df9",
      "metadata": {
        "id": "52a4637b-5145-4bd2-91c1-eb9da6ed1df9"
      },
      "outputs": [],
      "source": [
        "model2.eval()\n",
        "pred = 0;\n",
        "for i in range(len(testInds)):\n",
        "    # Grab a test index\n",
        "    x, y_inst = LFCC_test_data[i]\n",
        "    with torch.no_grad():\n",
        "        x = x.to(device)\n",
        "        if type(pred)==int:\n",
        "            pred = model2(x.unsqueeze(0))\n",
        "            y = y_inst;\n",
        "        else:\n",
        "            pred = torch.cat((pred,model2(x.unsqueeze(0))),dim=0);\n",
        "            y = np.append(y, y_inst);\n",
        "y = torch.as_tensor(y).to(device);\n",
        "\n",
        "roc_metric = ROC(task=\"multiclass\", num_classes=12)\n",
        "roc_metric.update(pred, y)\n",
        "fpr, tpr, thresholds = roc_metric.compute()\n",
        "\n",
        "AUC = AUROC(task=\"multiclass\", num_classes=12, average=None)\n",
        "AUC.update(pred, y)\n",
        "AUCs = AUC.compute()\n",
        "#print(f\"Aggregate ROC AUC: {AUCs[0].cpu().numpy():.4f}\")\n",
        "\n",
        "\n",
        "plt.figure()\n",
        "for i in range(12):\n",
        "    plt.plot(fpr[i].cpu(), tpr[i].cpu(), label=f\"{classes[i]} (AUC={AUCs[i].cpu().numpy():.2f})\")\n",
        "plt.plot([0, 1], [0, 1], 'k--', label=\"Chance Level\") # dashed diagonal\n",
        "plt.xlabel(\"False Positive Rate\")\n",
        "plt.ylabel(\"True Positive Rate\")\n",
        "plt.title(\"LFCC Receiver Operating Characteristic (ROC) Curves\")\n",
        "plt.legend(loc=\"lower right\")\n",
        "plt.grid()\n",
        "plt.show()"
      ]
    },
    {
      "cell_type": "markdown",
      "id": "a16d887c-7c2e-4114-9233-5e1609001e7d",
      "metadata": {
        "id": "a16d887c-7c2e-4114-9233-5e1609001e7d"
      },
      "source": [
        "<p style=\"font-size:20px;font-weight:bold;\">Repeat Testing</p>\n",
        "<p>Due to the unpredictability of the training success, we can run the training many times to see what the average performance is. The below code will train a separate model a given number of times and calculate the average accuracy across all sets.</p>\n",
        "<p>Please be aware, this can potentially take a <b>long</b> time</p>"
      ]
    },
    {
      "cell_type": "code",
      "execution_count": null,
      "id": "445a997f-5fc7-4595-bcfd-ae25d6910c48",
      "metadata": {
        "id": "445a997f-5fc7-4595-bcfd-ae25d6910c48"
      },
      "outputs": [],
      "source": [
        "averages = 10;\n",
        "MFCC_avg_acc = 0;\n",
        "MFCC_avg_loss = 0;\n",
        "LFCC_avg_acc = 0;\n",
        "LFCC_avg_loss = 0;\n",
        "\n",
        "for i in range(averages):\n",
        "    print(f\"MFCC Loop {i}\");\n",
        "    torch.cuda.empty_cache()\n",
        "    avg_model = Test_CNN(n_filters1=4, n_filters2=8).to(device)\n",
        "    avg_loss_fn = nn.CrossEntropyLoss()\n",
        "    avg_optimizer = torch.optim.SGD(avg_model.parameters(), lr=1e-3)\n",
        "    train(MFCC_train_dataloader, avg_model, avg_loss_fn, avg_optimizer, 100);\n",
        "    acc, loss = test(MFCC_test_dataloader, avg_model, avg_loss_fn)\n",
        "    MFCC_avg_acc += acc;\n",
        "    MFCC_avg_loss += loss;\n",
        "MFCC_avg_acc /= averages;\n",
        "MFCC_avg_loss /= averages;\n",
        "print(f\"MFCC Average Test Error: \\n Accuracy: {(100*MFCC_avg_acc):>0.1f}%, Avg loss: {MFCC_avg_loss:>8f} \\n\")\n",
        "\n",
        "for i in range(averages):\n",
        "    print(f\"LFCC Loop {i}\");\n",
        "    torch.cuda.empty_cache()\n",
        "    avg_model = Test_CNN(n_filters1=4, n_filters2=8, num_of_cols=463).to(device)\n",
        "    avg_loss_fn = nn.CrossEntropyLoss()\n",
        "    avg_optimizer = torch.optim.SGD(avg_model.parameters(), lr=1e-3)\n",
        "    train(LFCC_train_dataloader, avg_model, avg_loss_fn, avg_optimizer, 100);\n",
        "    acc, loss = test(LFCC_test_dataloader, avg_model, avg_loss_fn)\n",
        "    LFCC_avg_acc += acc;\n",
        "    LFCC_avg_loss += loss;\n",
        "LFCC_avg_acc /= averages;\n",
        "LFCC_avg_loss /= averages;\n",
        "print(f\"MFCC Average Test Error: \\n Accuracy: {(100*LFCC_avg_acc):>0.1f}%, Avg loss: {LFCC_avg_loss:>8f} \\n\")\n"
      ]
    },
    {
      "cell_type": "code",
      "execution_count": null,
      "id": "108619cf-4851-4757-83fc-ceda8c37c0e7",
      "metadata": {
        "id": "108619cf-4851-4757-83fc-ceda8c37c0e7"
      },
      "outputs": [],
      "source": []
    }
  ],
  "metadata": {
    "kernelspec": {
      "display_name": "Python 3 (ipykernel)",
      "language": "python",
      "name": "python3"
    },
    "language_info": {
      "codemirror_mode": {
        "name": "ipython",
        "version": 3
      },
      "file_extension": ".py",
      "mimetype": "text/x-python",
      "name": "python",
      "nbconvert_exporter": "python",
      "pygments_lexer": "ipython3",
      "version": "3.12.11"
    },
    "colab": {
      "provenance": [],
      "include_colab_link": true
    }
  },
  "nbformat": 4,
  "nbformat_minor": 5
}
>>>>>>> 07871b15282f56ed2932612bdb57415ae608e491
