{
 "cells": [
  {
   "cell_type": "markdown",
   "id": "790d2795-e967-4ca4-9a4c-caa8940ea329",
   "metadata": {},
   "source": [
    "<p style=\"font-size:28px;font-weight:bold;\">Module 6.2 - Convolutional Neural Networks for LPC Data</p>\n",
    "This module applies the concept of Convolutional Neural Networks as discussed in Module 6 to LPC data</br></br>\n",
    "The first thing, below, is a class, <span style=\"color:green;font-weight:bold;\">class</span> <span style=\"color:blue;font-weight:bold\">LPCDataset</span>, that mimics the <span style=\"color:blue;font-weight:bold\">CCDataset</span> class from Module 6, but is modified to load the 2D dataset."
   ]
  },
  {
   "cell_type": "code",
   "execution_count": 1,
   "id": "a2b789ff-1794-43e6-b57f-99872ec8805c",
   "metadata": {},
   "outputs": [],
   "source": [
    "import os\n",
    "import pandas as pd\n",
    "import numpy as np\n",
    "from torch.utils.data import Dataset\n",
    "import torch\n",
    "\n",
    "class LPCDataset(Dataset):\n",
    "    def __init__(self, labels, datafile, inds, transform=None, target_transform=None):\n",
    "        self.labels = np.asarray([item if item<3 else item-1 for item in np.load(labels)], dtype=\"int\")\n",
    "        self.data = np.load(datafile).astype(np.float32);\n",
    "        self.transform = transform\n",
    "        self.target_transform = target_transform\n",
    "        self.indices = inds;\n",
    "\n",
    "    def __len__(self):\n",
    "        return len(self.indices);\n",
    "\n",
    "    def __getitem__(self, idx):\n",
    "        dat = self.data[self.indices[idx]][:];\n",
    "        if self.transform:\n",
    "            dat = self.transform(dat);\n",
    "        else:\n",
    "            dat = torch.as_tensor(dat).unsqueeze(0);\n",
    "        if self.target_transform:\n",
    "            dat = self.target_transform(dat);\n",
    "        return dat, self.labels[self.indices[idx]];"
   ]
  },
  {
   "cell_type": "code",
   "execution_count": 2,
   "id": "4fad871f-e82e-4f4d-b642-843e01dead26",
   "metadata": {},
   "outputs": [],
   "source": [
    "labels = np.load(\"Labels_aug.npy\");"
   ]
  },
  {
   "cell_type": "code",
   "execution_count": 3,
   "id": "bb101dfc-82c9-421d-8de9-cccc37098953",
   "metadata": {},
   "outputs": [],
   "source": [
    "import random\n",
    "trainInds = random.sample(range(len(labels)),round(len(labels)*0.9));\n",
    "testInds = [item for item in random.sample(range(len(labels)),round(len(labels))) if item not in trainInds];"
   ]
  },
  {
   "cell_type": "code",
   "execution_count": 4,
   "id": "c9c22089-a930-4812-98c6-8d1982150768",
   "metadata": {},
   "outputs": [],
   "source": [
    "from torchvision.transforms import ToTensor\n",
    "LPC_train_data = LPCDataset(\"Labels_aug.npy\",\"2D_LPC_aug.npy\", trainInds);\n",
    "LPC_test_data = LPCDataset(\"Labels_aug.npy\",\"2D_LPC_aug.npy\", testInds);"
   ]
  },
  {
   "cell_type": "markdown",
   "id": "88954580-fd35-4172-8cc7-c33485ab38f0",
   "metadata": {},
   "source": [
    "<p>As seen below, the batch size was increased from 3 to 6 to try and maximize performance</p>"
   ]
  },
  {
   "cell_type": "code",
   "execution_count": 5,
   "id": "20183bab-5051-4568-a073-fe5720ba51f2",
   "metadata": {},
   "outputs": [
    {
     "name": "stdout",
     "output_type": "stream",
     "text": [
      "Shape of X [N, C, H, W]: torch.Size([6, 1, 14]) torch.float32\n",
      "N = batch size. This is the number of images to process at a time.\n",
      "C = number of channels. C=1 for grayscale. C=3 for RGB.\n",
      "H = height is the number of rows in the image.\n",
      "W = width is the number of columns in the image.\n",
      " \n",
      "Shape of y: torch.Size([6]) torch.int64\n",
      "y is of size N, the ground truth labels required for each image in the batch.\n",
      "tensor([1, 1, 4, 7, 5, 2])\n",
      "Percentage of training dataset = 90.01 percent with 2479 samples.\n",
      "Percentage of test dataset     = 9.99 percent with 275 samples.\n"
     ]
    }
   ],
   "source": [
    "from torch.utils.data import DataLoader\n",
    "batch_size = 6\n",
    "\n",
    "# Create data loaders.\n",
    "LPC_train_dataloader = DataLoader(LPC_train_data, batch_size=batch_size)\n",
    "LPC_test_dataloader = DataLoader(LPC_test_data, batch_size=batch_size)\n",
    "\n",
    "for X, y in LPC_train_dataloader:\n",
    "    print(f\"Shape of X [N, C, H, W]: {X.shape} {X.dtype}\")\n",
    "    print(\"N = batch size. This is the number of images to process at a time.\")\n",
    "    print(\"C = number of channels. C=1 for grayscale. C=3 for RGB.\")\n",
    "    print(\"H = height is the number of rows in the image.\")\n",
    "    print(\"W = width is the number of columns in the image.\")\n",
    "    print(\" \")\n",
    "    print(f\"Shape of y: {y.shape} {y.dtype}\")\n",
    "    print(\"y is of size N, the ground truth labels required for each image in the batch.\")\n",
    "    print(y)\n",
    "    break\n",
    "\n",
    "train_size = len(LPC_train_dataloader.dataset)\n",
    "test_size  = len(LPC_test_dataloader.dataset)\n",
    "train_pct  = 100*train_size/(train_size+test_size)\n",
    "test_pct   = 100*test_size/(train_size+test_size)\n",
    "print(f\"Percentage of training dataset = {train_pct:.2f} percent with {train_size} samples.\")\n",
    "print(f\"Percentage of test dataset     = {test_pct:.2f} percent with {test_size} samples.\")"
   ]
  },
  {
   "cell_type": "code",
   "execution_count": 18,
   "id": "7c600f9e-9200-47b6-98c0-156c7bf4a280",
   "metadata": {},
   "outputs": [
    {
     "name": "stdout",
     "output_type": "stream",
     "text": [
      "Expected: \tPump 1 Run\n",
      "From Dataset: \tPump 1 Run\n"
     ]
    }
   ],
   "source": [
    "print(f\"Expected: \\t{classes[labels[trainInds[1]].astype('int')]}\\nFrom Dataset: \\t{classes[LPC_train_data.__getitem__(1)[1]]}\");"
   ]
  },
  {
   "cell_type": "code",
   "execution_count": 7,
   "id": "79c5d6ca-c188-49f8-80d1-0fa7bda97f63",
   "metadata": {},
   "outputs": [],
   "source": [
    "classes = [\"Pump 1 Start\", \"Pump 1 Run\", \"Pump 1 Stop\", \"Pump 2 Start\", \"Pump 2 Run\", \"Pump 2 Stop\", \"Pump 3 Start\", \"Pump 3 Run\", \"Pump 3 Stop\", \"Pump 4 Start\", \"Pump 4 Run\", \"Pump 4 Stop\"];"
   ]
  },
  {
   "cell_type": "markdown",
   "id": "58bad98f-1324-4c67-8a96-c4372984354f",
   "metadata": {},
   "source": [
    "<p>The following model is a moderate departure from the model seen in Module 6. As will be seen later, the extremely small number of observations for each sample in the Order 13 LPC dataset drastically limited performance of the CNN training. By attempting to reduce the number of weights through trimming the model, the hope was to improve the accuracy of the fit</p>"
   ]
  },
  {
   "cell_type": "code",
   "execution_count": 8,
   "id": "ccd37174-b646-4bbf-81a7-8e83b45db21f",
   "metadata": {},
   "outputs": [],
   "source": [
    "from torch import nn\n",
    "import math\n",
    "import torch.nn.functional as F\n",
    "class Test_LPC_CNN(nn.Module):\n",
    "    def __init__(self, num_of_rows = 1, num_of_cols = 14,\n",
    "                 n_filters1=4, n_filters2=8, out_categories=12):\n",
    "        super().__init__()\n",
    "\n",
    "        self.conv1 = nn.Conv1d(\n",
    "                in_channels=1,            # 1 for grayscale\n",
    "                out_channels=n_filters1,   # Number of filters\n",
    "                kernel_size=2,            # 3 convolution\n",
    "                stride=1,\n",
    "                padding=1          # Keep output size same as input\n",
    "                )\n",
    "        self.pool = nn.MaxPool1d(2)  # halves size to 14x14\n",
    "        \n",
    "        self.drop = nn.Dropout1d(p=0.25);\n",
    "\n",
    "        # out_categories should match the number of output categories.\n",
    "        # Match the dimensions to the input.\n",
    "        # Divide by 2 for each maxpooling (carefull for non-even numbers ...)\n",
    "        num_of_pixels = math.floor(num_of_cols/(2*2))\n",
    "\n",
    "        self.linear_relu_stack = nn.Sequential(\n",
    "            nn.Linear(num_of_cols*2, 32),\n",
    "            nn.ReLU(),\n",
    "            nn.Linear(32, 32),\n",
    "        )\n",
    "\n",
    "        # Final layer collects the pixels from all of the inputs:\n",
    "        self.fc1 = nn.Linear(32, out_categories)\n",
    "        \n",
    "\n",
    "    def forward(self, x):\n",
    "        x = self.pool(F.relu(self.conv1(x)))  # -> \n",
    "        x = self.drop(x);                     # -> \n",
    "        x = x.view(x.size(0), -1)             # flatten\n",
    "        x = self.linear_relu_stack(x);\n",
    "        logits = F.relu(self.fc1(x))\n",
    "        return logits # Note: SoftMax is applied to logits by cross-entropy loss function.\n",
    "\n",
    "device = torch.accelerator.current_accelerator().type if torch.accelerator.is_available() else \"cpu\"\n",
    "#device = \"cpu\"\n",
    "torch.cuda.empty_cache()\n",
    "model = Test_LPC_CNN(n_filters1=4, n_filters2=8).to(device)"
   ]
  },
  {
   "cell_type": "code",
   "execution_count": 9,
   "id": "b5190ece-2d20-411c-a67f-a4abd2d40d68",
   "metadata": {},
   "outputs": [
    {
     "name": "stdout",
     "output_type": "stream",
     "text": [
      "Test_LPC_CNN(\n",
      "  (conv1): Conv1d(1, 4, kernel_size=(2,), stride=(1,), padding=(1,))\n",
      "  (pool): MaxPool1d(kernel_size=2, stride=2, padding=0, dilation=1, ceil_mode=False)\n",
      "  (drop): Dropout1d(p=0.25, inplace=False)\n",
      "  (linear_relu_stack): Sequential(\n",
      "    (0): Linear(in_features=28, out_features=32, bias=True)\n",
      "    (1): ReLU()\n",
      "    (2): Linear(in_features=32, out_features=32, bias=True)\n",
      "  )\n",
      "  (fc1): Linear(in_features=32, out_features=12, bias=True)\n",
      ")\n",
      " \n",
      "Layer                                        # Params  Trainable\n",
      "-----------------------------------------------------------------\n",
      "conv1.weight                                        8       True\n",
      "conv1.bias                                          4       True\n",
      "linear_relu_stack.0.weight                        896       True\n",
      "linear_relu_stack.0.bias                           32       True\n",
      "linear_relu_stack.2.weight                      1,024       True\n",
      "linear_relu_stack.2.bias                           32       True\n",
      "fc1.weight                                        384       True\n",
      "fc1.bias                                           12       True\n",
      "-----------------------------------------------------------------\n",
      "Total                                           2,392           \n",
      "Trainable                                       2,392\n"
     ]
    }
   ],
   "source": [
    "def parameter_report(model):\n",
    "    print(f\"{'Layer':<40} {'# Params':>12} {'Trainable':>10}\")\n",
    "    print(\"-\" * 65)\n",
    "    total, trainable = 0, 0\n",
    "    for name, param in model.named_parameters():\n",
    "        num_params = param.numel()\n",
    "        is_trainable = param.requires_grad\n",
    "        print(f\"{name:<40} {num_params:>12,} {str(is_trainable):>10}\")\n",
    "        total += num_params\n",
    "        if is_trainable:\n",
    "            trainable += num_params\n",
    "    print(\"-\" * 65)\n",
    "    print(f\"{'Total':<40} {total:>12,} {'':>10}\")\n",
    "    print(f\"{'Trainable':<40} {trainable:>12,}\")\n",
    "\n",
    "\n",
    "print(model)\n",
    "print(\" \")\n",
    "\n",
    "parameter_report(model)"
   ]
  },
  {
   "cell_type": "markdown",
   "id": "3e85b0f2-5e68-489a-9836-4c70b47fff28",
   "metadata": {},
   "source": [
    "<p>The number of trainable parameters seen above is substantially fewer than that of the MFCC or LFCC focused models.</p>\n",
    "<p>The following training and test functions are mostly identical to that of the Module 6 code</p>"
   ]
  },
  {
   "cell_type": "code",
   "execution_count": 10,
   "id": "352ab89a-6447-4628-8ac9-8660237679ec",
   "metadata": {},
   "outputs": [],
   "source": [
    "loss_fn = nn.CrossEntropyLoss()\n",
    "optimizer = torch.optim.SGD(model.parameters(), lr=1e-3)"
   ]
  },
  {
   "cell_type": "code",
   "execution_count": 11,
   "id": "99a9fb57-bc1d-46f4-840b-5689c0cd50fc",
   "metadata": {},
   "outputs": [],
   "source": [
    "from torch.optim.lr_scheduler import LRScheduler\n",
    "from torch.optim.lr_scheduler import MultiStepLR\n",
    "from torch.optim.lr_scheduler import ExponentialLR\n",
    "import gc\n",
    "\n",
    "def train(dataloader, model, loss_fn, optimizer, epochs):\n",
    "    size = len(dataloader.dataset)\n",
    "    model.train() # Put the model in training mode.\n",
    "    scheduler1 = ExponentialLR(optimizer, gamma=0.9)\n",
    "    scheduler2 = MultiStepLR(optimizer, milestones=[30,80], gamma=0.1)\n",
    "    print(f\"  0%[{20*\" \"}]\\r\",end=\"\");\n",
    "    loss_last = 0;\n",
    "    twice = False;\n",
    "    for ep in range(epochs):\n",
    "        test_loss, num = 0, 0\n",
    "        for batch, (X, y) in enumerate(dataloader):\n",
    "            # Place the model and predictions on the same device.\n",
    "            X, y = X.to(device), y.to(device)\n",
    "            # Compute prediction error\n",
    "            pred = model(X)\n",
    "            loss = loss_fn(pred, y)\n",
    "            test_loss += loss.item();\n",
    "            num+=1;\n",
    "    \n",
    "            # Backpropagation\n",
    "            # This step updates the parameter values inside your network.\n",
    "            loss.backward()\n",
    "            optimizer.step()\n",
    "            optimizer.zero_grad()\n",
    "            del X, y, pred;\n",
    "            torch.cuda.empty_cache()\n",
    "        if (loss_last - (test_loss/num)  < 0.005 and loss_last - (test_loss/num) > 0):\n",
    "            if twice:\n",
    "                break;\n",
    "            else:\n",
    "                twice = True;\n",
    "        else:\n",
    "            loss_last = test_loss/num;\n",
    "        \n",
    "        #print(f\"loss: {test_loss/num:>7f}\")\n",
    "        print(f\"{100*(ep/epochs):3.0f}%[{int(20 * ep/epochs)*\"■\"}{(20-int(20 * ep/epochs))*\" \"}]\\r\",end=\"\");   # Print a progress bar. A number of blocks are printed based on the percentage through the count of epochs\n",
    "        # Step the learning rate schedulers based on the current status\n",
    "        scheduler1.step();\n",
    "        scheduler2.step();\n",
    "    print(f\"100%[{20*\"■\"}]\\r\");        # We need to make sure to jump the progress bar to 100% at the end, especially if we broke early due to small enough change in loss"
   ]
  },
  {
   "cell_type": "code",
   "execution_count": 12,
   "id": "57b1f8f6-40a7-4da2-860b-65cac275f795",
   "metadata": {},
   "outputs": [],
   "source": [
    "def test(dataloader, model, loss_fn):\n",
    "    size = len(dataloader.dataset)\n",
    "    num_batches = len(dataloader)\n",
    "    model.eval() # Put the model in testing mode.\n",
    "    test_loss, correct = 0, 0\n",
    "    with torch.no_grad():\n",
    "        for X, y in dataloader:\n",
    "            X, y = X.to(device), y.to(device)\n",
    "            pred = model(X)\n",
    "            test_loss += loss_fn(pred, y).item()\n",
    "            correct += (pred.argmax(1) == y).type(torch.float).sum().item()\n",
    "    test_loss /= num_batches\n",
    "    correct /= size\n",
    "    print(f\"Test Error: \\n Accuracy: {(100*correct):>0.1f}%, Avg loss: {test_loss:>8f} \\n\")"
   ]
  },
  {
   "cell_type": "markdown",
   "id": "85231ad7-35a9-4812-a012-9f882482968c",
   "metadata": {},
   "source": [
    "<p>The performance expected below is poor. This model is not a good fit for this dataset, and does not perform satisfactorily</p>"
   ]
  },
  {
   "cell_type": "code",
   "execution_count": 13,
   "id": "2fe99e3e-a4e5-4fcd-a979-b27233cfe26f",
   "metadata": {},
   "outputs": [
    {
     "name": "stdout",
     "output_type": "stream",
     "text": [
      "100%[■■■■■■■■■■■■■■■■■■■■]\n",
      "Test Error: \n",
      " Accuracy: 16.4%, Avg loss: 2.386956 \n",
      "\n"
     ]
    }
   ],
   "source": [
    "train(LPC_train_dataloader, model, loss_fn, optimizer, 100);\n",
    "test(LPC_test_dataloader, model, loss_fn)"
   ]
  },
  {
   "cell_type": "code",
   "execution_count": 14,
   "id": "d85c62af-cdfc-464a-b26e-686200e9b794",
   "metadata": {},
   "outputs": [
    {
     "name": "stdout",
     "output_type": "stream",
     "text": [
      "Test Error: \n",
      " Accuracy: 17.3%, Avg loss: 2.393930 \n",
      "\n"
     ]
    }
   ],
   "source": [
    "test(LPC_train_dataloader,model,loss_fn)"
   ]
  },
  {
   "cell_type": "code",
   "execution_count": 15,
   "id": "fc325547-26f3-403c-81c3-74cca8c14546",
   "metadata": {},
   "outputs": [],
   "source": [
    "torch.save(model.state_dict(), \"LPC.pth\")"
   ]
  },
  {
   "cell_type": "markdown",
   "id": "5f62941e-493b-4183-9545-bd3265d076c0",
   "metadata": {},
   "source": [
    "<p>We can do some quick checking of the performance with the a random sample followed by ROC curves</p>"
   ]
  },
  {
   "cell_type": "code",
   "execution_count": 16,
   "id": "f4262916-4878-4645-8450-de2b8d7b41a0",
   "metadata": {},
   "outputs": [
    {
     "name": "stdout",
     "output_type": "stream",
     "text": [
      "Outputs for all categories:\n",
      "tensor([[0.0407, 0.0000, 0.0000, 0.0000, 0.0000, 0.9902, 0.8140, 0.0000, 0.0000,\n",
      "         0.0000, 0.0000, 0.0000]], device='cuda:0')\n",
      "Predicted: \"Pump 2 Stop\", Actual: \"Pump 3 Run\"\n"
     ]
    }
   ],
   "source": [
    "# Put the model in evaluation mode.\n",
    "model.eval()\n",
    "\n",
    "# Grab a test index\n",
    "test_index = 105\n",
    "x, y = LPC_test_data[test_index]\n",
    "\n",
    "img  = x.squeeze()\n",
    "\n",
    "with torch.no_grad():\n",
    "    x = x.to(device)\n",
    "\n",
    "    pred = model(x.unsqueeze(0)) # Create a batch size = 1 using unsqueeze()\n",
    "\n",
    "    print(\"Outputs for all categories:\")\n",
    "    print(pred)\n",
    "    predicted, actual = classes[pred[0].argmax(0)], classes[y]\n",
    "    print(f'Predicted: \"{predicted}\", Actual: \"{actual}\"')"
   ]
  },
  {
   "cell_type": "code",
   "execution_count": 17,
   "id": "1596b5a2-dbbc-4bea-982b-d22bed28150c",
   "metadata": {},
   "outputs": [
    {
     "name": "stderr",
     "output_type": "stream",
     "text": [
      "C:\\Users\\374177\\AppData\\Local\\anaconda3\\envs\\project-env\\Lib\\site-packages\\torchmetrics\\utilities\\prints.py:43: UserWarning: No positive samples in targets, true positive value should be meaningless. Returning zero tensor in true positive score\n",
      "  warnings.warn(*args, **kwargs)\n"
     ]
    },
    {
     "data": {
      "image/png": "[encoded data removed]",
      "text/plain": [
       "<Figure size 640x480 with 1 Axes>"
      ]
     },
     "metadata": {},
     "output_type": "display_data"
    }
   ],
   "source": [
    "from torchmetrics.classification import ROC\n",
    "from torchmetrics.classification import AUROC\n",
    "import matplotlib.pyplot as plt\n",
    "\n",
    "model.eval()\n",
    "pred = 0;\n",
    "for i in range(len(testInds)):\n",
    "    # Grab a test index\n",
    "    x, y_inst = LPC_test_data[i]\n",
    "    with torch.no_grad():\n",
    "        x = x.to(device)\n",
    "        if type(pred)==int:\n",
    "            pred = model(x.unsqueeze(0))\n",
    "            y = y_inst;\n",
    "        else:\n",
    "            pred = torch.cat((pred,model(x.unsqueeze(0))),dim=0);\n",
    "            y = np.append(y, y_inst);\n",
    "y = torch.as_tensor(y).to(device);\n",
    "\n",
    "roc_metric = ROC(task=\"multiclass\", num_classes=12)\n",
    "roc_metric.update(pred, y)\n",
    "fpr, tpr, thresholds = roc_metric.compute()\n",
    "\n",
    "AUC = AUROC(task=\"multiclass\", num_classes=12, average=None)\n",
    "AUC.update(pred, y)\n",
    "AUCs = AUC.compute()\n",
    "#print(f\"Aggregate ROC AUC: {AUCs[0].cpu().numpy():.4f}\")\n",
    "\n",
    "\n",
    "plt.figure()\n",
    "for i in range(12):\n",
    "    plt.plot(fpr[i].cpu(), tpr[i].cpu(), label=f\"{classes[i]} (AUC={AUCs[i].cpu().numpy():.2f})\")\n",
    "plt.plot([0, 1], [0, 1], 'k--', label=\"Chance Level\") # dashed diagonal\n",
    "plt.xlabel(\"False Positive Rate\")\n",
    "plt.ylabel(\"True Positive Rate\")\n",
    "plt.title(\"Receiver Operating Characteristic (ROC) Curve\")\n",
    "plt.legend(loc=\"lower right\")\n",
    "plt.grid()\n",
    "plt.show()"
   ]
  },
  {
   "cell_type": "markdown",
   "id": "52018cb3-d502-46db-b722-940d5aa6c29e",
   "metadata": {},
   "source": [
    "<p>As seen above, this model performs quite poorly. Some classes perform ok, occasionally getting AUC scores in excess of 0.7, but others can do as poorly as 0.00</p>"
   ]
  },
  {
   "cell_type": "code",
   "execution_count": null,
   "id": "b3e06d6c-12ab-4005-a608-7ed1a880ea96",
   "metadata": {},
   "outputs": [],
   "source": []
  }
 ],
 "metadata": {
  "kernelspec": {
   "display_name": "Python 3 (ipykernel)",
   "language": "python",
   "name": "python3"
  },
  "language_info": {
   "codemirror_mode": {
    "name": "ipython",
    "version": 3
   },
   "file_extension": ".py",
   "mimetype": "text/x-python",
   "name": "python",
   "nbconvert_exporter": "python",
   "pygments_lexer": "ipython3",
   "version": "3.12.11"
  }
 },
 "nbformat": 4,
 "nbformat_minor": 5
}
