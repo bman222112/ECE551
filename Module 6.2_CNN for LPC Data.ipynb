{
  "cells": [
    {
      "cell_type": "markdown",
      "metadata": {
        "id": "view-in-github",
        "colab_type": "text"
      },
      "source": [
        "<a href=\"https://colab.research.google.com/github/bman222112/ECE551/blob/main/Module%206.2_CNN%20for%20LPC%20Data.ipynb\" target=\"_parent\"><img src=\"https://colab.research.google.com/assets/colab-badge.svg\" alt=\"Open In Colab\"/></a>"
      ]
    },
    {
      "cell_type": "markdown",
      "id": "790d2795-e967-4ca4-9a4c-caa8940ea329",
      "metadata": {
        "id": "790d2795-e967-4ca4-9a4c-caa8940ea329"
      },
      "source": [
        "<p style=\"font-size:28px;font-weight:bold;\">Module 6.2 - Convolutional Neural Networks for LPC Data</p>\n",
        "This module applies the concept of Convolutional Neural Networks as discussed in Module 6 to LPC data</br></br>\n",
        "The first thing, below, is a class, <span style=\"color:blue;font-weight:bold\">LPCDataset</span>, that mimics the <span style=\"color:blue;font-weight:bold\">CCDataset</span> class from Module 6, but is modified to load the 2D dataset."
      ]
    },
    {
      "cell_type": "code",
      "source": [
        "!curl -s https://packagecloud.io/install/repositories/github/git-lfs/script.deb.sh | sudo bash"
      ],
      "metadata": {
        "collapsed": true,
        "colab": {
          "base_uri": "https://localhost:8080/"
        },
        "id": "CCdFUJG0WXz9",
        "outputId": "0dc9d88e-3343-46f9-da85-4b2a09d5b7fa"
      },
      "execution_count": 1,
      "outputs": [
        {
          "output_type": "stream",
          "name": "stdout",
          "text": [
            "Detected operating system as Ubuntu/jammy.\n",
            "Checking for curl...\n",
            "Detected curl...\n",
            "Checking for gpg...\n",
            "Detected gpg...\n",
            "Detected apt version as 2.4.14\n",
            "Running apt-get update... done.\n",
            "Installing apt-transport-https... done.\n",
            "Installing /etc/apt/sources.list.d/github_git-lfs.list...done.\n",
            "Importing packagecloud gpg key... Packagecloud gpg key imported to /etc/apt/keyrings/github_git-lfs-archive-keyring.gpg\n",
            "done.\n",
            "Running apt-get update... done.\n",
            "\n",
            "The repository is setup! You can now install packages.\n"
          ]
        }
      ],
      "id": "CCdFUJG0WXz9"
    },
    {
      "cell_type": "code",
      "source": [
        "!sudo apt-get install git-lfs"
      ],
      "metadata": {
        "collapsed": true,
        "colab": {
          "base_uri": "https://localhost:8080/"
        },
        "id": "OOq0R5iGWZ4N",
        "outputId": "9b7f83fa-b65d-4d10-e2b4-ca82807b34ac"
      },
      "execution_count": 2,
      "outputs": [
        {
          "output_type": "stream",
          "name": "stdout",
          "text": [
            "Reading package lists... Done\n",
            "Building dependency tree... Done\n",
            "Reading state information... Done\n",
            "The following packages will be upgraded:\n",
            "  git-lfs\n",
            "1 upgraded, 0 newly installed, 0 to remove and 35 not upgraded.\n",
            "Need to get 8,917 kB of archives.\n",
            "After this operation, 8,712 kB of additional disk space will be used.\n",
            "Get:1 https://packagecloud.io/github/git-lfs/ubuntu jammy/main amd64 git-lfs amd64 3.7.0 [8,917 kB]\n",
            "Fetched 8,917 kB in 1s (17.6 MB/s)\n",
            "debconf: unable to initialize frontend: Dialog\n",
            "debconf: (No usable dialog-like program is installed, so the dialog based frontend cannot be used. at /usr/share/perl5/Debconf/FrontEnd/Dialog.pm line 78, <> line 1.)\n",
            "debconf: falling back to frontend: Readline\n",
            "debconf: unable to initialize frontend: Readline\n",
            "debconf: (This frontend requires a controlling tty.)\n",
            "debconf: falling back to frontend: Teletype\n",
            "dpkg-preconfigure: unable to re-open stdin: \n",
            "(Reading database ... 126288 files and directories currently installed.)\n",
            "Preparing to unpack .../git-lfs_3.7.0_amd64.deb ...\n",
            "Unpacking git-lfs (3.7.0) over (3.0.2-1ubuntu0.3) ...\n",
            "Setting up git-lfs (3.7.0) ...\n",
            "Git LFS initialized.\n",
            "Processing triggers for man-db (2.10.2-1) ...\n"
          ]
        }
      ],
      "id": "OOq0R5iGWZ4N"
    },
    {
      "cell_type": "code",
      "source": [
        "%cd /content\n",
        "!git clone https://www.github.com/bman222112/ECE551.git\n",
        "%cd /content/ECE551"
      ],
      "metadata": {
        "collapsed": true,
        "colab": {
          "base_uri": "https://localhost:8080/"
        },
        "id": "1v0rK_iyWcCi",
        "outputId": "824cc85a-07d7-4ae3-ab51-d7d6ee722b9f"
      },
      "execution_count": 3,
      "outputs": [
        {
          "output_type": "stream",
          "name": "stdout",
          "text": [
            "/content\n",
            "Cloning into 'ECE551'...\n",
            "warning: redirecting to https://github.com/bman222112/ECE551.git/\n",
            "remote: Enumerating objects: 1012, done.\u001b[K\n",
            "remote: Counting objects: 100% (3/3), done.\u001b[K\n",
            "remote: Compressing objects: 100% (3/3), done.\u001b[K\n",
            "remote: Total 1012 (delta 0), reused 0 (delta 0), pack-reused 1009 (from 2)\u001b[K\n",
            "Receiving objects: 100% (1012/1012), 747.38 MiB | 26.53 MiB/s, done.\n",
            "Resolving deltas: 100% (17/17), done.\n",
            "Updating files: 100% (953/953), done.\n",
            "Filtering content: 100% (2/2), 252.93 MiB | 52.69 MiB/s, done.\n",
            "/content/ECE551\n"
          ]
        }
      ],
      "id": "1v0rK_iyWcCi"
    },
    {
      "cell_type": "code",
      "source": [
        "!pip install torchmetrics"
      ],
      "metadata": {
        "collapsed": true,
        "colab": {
          "base_uri": "https://localhost:8080/"
        },
        "id": "oSUn-hAYZSQA",
        "outputId": "4f2954d5-b59c-4819-9010-05d6363bb278"
      },
      "execution_count": 4,
      "outputs": [
        {
          "output_type": "stream",
          "name": "stdout",
          "text": [
            "Collecting torchmetrics\n",
            "  Downloading torchmetrics-1.8.0-py3-none-any.whl.metadata (21 kB)\n",
            "Requirement already satisfied: numpy>1.20.0 in /usr/local/lib/python3.11/dist-packages (from torchmetrics) (2.0.2)\n",
            "Requirement already satisfied: packaging>17.1 in /usr/local/lib/python3.11/dist-packages (from torchmetrics) (25.0)\n",
            "Requirement already satisfied: torch>=2.0.0 in /usr/local/lib/python3.11/dist-packages (from torchmetrics) (2.6.0+cu124)\n",
            "Collecting lightning-utilities>=0.8.0 (from torchmetrics)\n",
            "  Downloading lightning_utilities-0.15.0-py3-none-any.whl.metadata (5.7 kB)\n",
            "Requirement already satisfied: setuptools in /usr/local/lib/python3.11/dist-packages (from lightning-utilities>=0.8.0->torchmetrics) (75.2.0)\n",
            "Requirement already satisfied: typing_extensions in /usr/local/lib/python3.11/dist-packages (from lightning-utilities>=0.8.0->torchmetrics) (4.14.1)\n",
            "Requirement already satisfied: filelock in /usr/local/lib/python3.11/dist-packages (from torch>=2.0.0->torchmetrics) (3.18.0)\n",
            "Requirement already satisfied: networkx in /usr/local/lib/python3.11/dist-packages (from torch>=2.0.0->torchmetrics) (3.5)\n",
            "Requirement already satisfied: jinja2 in /usr/local/lib/python3.11/dist-packages (from torch>=2.0.0->torchmetrics) (3.1.6)\n",
            "Requirement already satisfied: fsspec in /usr/local/lib/python3.11/dist-packages (from torch>=2.0.0->torchmetrics) (2025.3.0)\n",
            "Collecting nvidia-cuda-nvrtc-cu12==12.4.127 (from torch>=2.0.0->torchmetrics)\n",
            "  Downloading nvidia_cuda_nvrtc_cu12-12.4.127-py3-none-manylinux2014_x86_64.whl.metadata (1.5 kB)\n",
            "Collecting nvidia-cuda-runtime-cu12==12.4.127 (from torch>=2.0.0->torchmetrics)\n",
            "  Downloading nvidia_cuda_runtime_cu12-12.4.127-py3-none-manylinux2014_x86_64.whl.metadata (1.5 kB)\n",
            "Collecting nvidia-cuda-cupti-cu12==12.4.127 (from torch>=2.0.0->torchmetrics)\n",
            "  Downloading nvidia_cuda_cupti_cu12-12.4.127-py3-none-manylinux2014_x86_64.whl.metadata (1.6 kB)\n",
            "Collecting nvidia-cudnn-cu12==9.1.0.70 (from torch>=2.0.0->torchmetrics)\n",
            "  Downloading nvidia_cudnn_cu12-9.1.0.70-py3-none-manylinux2014_x86_64.whl.metadata (1.6 kB)\n",
            "Collecting nvidia-cublas-cu12==12.4.5.8 (from torch>=2.0.0->torchmetrics)\n",
            "  Downloading nvidia_cublas_cu12-12.4.5.8-py3-none-manylinux2014_x86_64.whl.metadata (1.5 kB)\n",
            "Collecting nvidia-cufft-cu12==11.2.1.3 (from torch>=2.0.0->torchmetrics)\n",
            "  Downloading nvidia_cufft_cu12-11.2.1.3-py3-none-manylinux2014_x86_64.whl.metadata (1.5 kB)\n",
            "Collecting nvidia-curand-cu12==10.3.5.147 (from torch>=2.0.0->torchmetrics)\n",
            "  Downloading nvidia_curand_cu12-10.3.5.147-py3-none-manylinux2014_x86_64.whl.metadata (1.5 kB)\n",
            "Collecting nvidia-cusolver-cu12==11.6.1.9 (from torch>=2.0.0->torchmetrics)\n",
            "  Downloading nvidia_cusolver_cu12-11.6.1.9-py3-none-manylinux2014_x86_64.whl.metadata (1.6 kB)\n",
            "Collecting nvidia-cusparse-cu12==12.3.1.170 (from torch>=2.0.0->torchmetrics)\n",
            "  Downloading nvidia_cusparse_cu12-12.3.1.170-py3-none-manylinux2014_x86_64.whl.metadata (1.6 kB)\n",
            "Requirement already satisfied: nvidia-cusparselt-cu12==0.6.2 in /usr/local/lib/python3.11/dist-packages (from torch>=2.0.0->torchmetrics) (0.6.2)\n",
            "Requirement already satisfied: nvidia-nccl-cu12==2.21.5 in /usr/local/lib/python3.11/dist-packages (from torch>=2.0.0->torchmetrics) (2.21.5)\n",
            "Requirement already satisfied: nvidia-nvtx-cu12==12.4.127 in /usr/local/lib/python3.11/dist-packages (from torch>=2.0.0->torchmetrics) (12.4.127)\n",
            "Collecting nvidia-nvjitlink-cu12==12.4.127 (from torch>=2.0.0->torchmetrics)\n",
            "  Downloading nvidia_nvjitlink_cu12-12.4.127-py3-none-manylinux2014_x86_64.whl.metadata (1.5 kB)\n",
            "Requirement already satisfied: triton==3.2.0 in /usr/local/lib/python3.11/dist-packages (from torch>=2.0.0->torchmetrics) (3.2.0)\n",
            "Requirement already satisfied: sympy==1.13.1 in /usr/local/lib/python3.11/dist-packages (from torch>=2.0.0->torchmetrics) (1.13.1)\n",
            "Requirement already satisfied: mpmath<1.4,>=1.1.0 in /usr/local/lib/python3.11/dist-packages (from sympy==1.13.1->torch>=2.0.0->torchmetrics) (1.3.0)\n",
            "Requirement already satisfied: MarkupSafe>=2.0 in /usr/local/lib/python3.11/dist-packages (from jinja2->torch>=2.0.0->torchmetrics) (3.0.2)\n",
            "Downloading torchmetrics-1.8.0-py3-none-any.whl (981 kB)\n",
            "\u001b[2K   \u001b[90m━━━━━━━━━━━━━━━━━━━━━━━━━━━━━━━━━━━━━━━━\u001b[0m \u001b[32m981.9/981.9 kB\u001b[0m \u001b[31m23.2 MB/s\u001b[0m eta \u001b[36m0:00:00\u001b[0m\n",
            "\u001b[?25hDownloading lightning_utilities-0.15.0-py3-none-any.whl (29 kB)\n",
            "Downloading nvidia_cublas_cu12-12.4.5.8-py3-none-manylinux2014_x86_64.whl (363.4 MB)\n",
            "\u001b[2K   \u001b[90m━━━━━━━━━━━━━━━━━━━━━━━━━━━━━━━━━━━━━━━━\u001b[0m \u001b[32m363.4/363.4 MB\u001b[0m \u001b[31m4.1 MB/s\u001b[0m eta \u001b[36m0:00:00\u001b[0m\n",
            "\u001b[?25hDownloading nvidia_cuda_cupti_cu12-12.4.127-py3-none-manylinux2014_x86_64.whl (13.8 MB)\n",
            "\u001b[2K   \u001b[90m━━━━━━━━━━━━━━━━━━━━━━━━━━━━━━━━━━━━━━━━\u001b[0m \u001b[32m13.8/13.8 MB\u001b[0m \u001b[31m69.3 MB/s\u001b[0m eta \u001b[36m0:00:00\u001b[0m\n",
            "\u001b[?25hDownloading nvidia_cuda_nvrtc_cu12-12.4.127-py3-none-manylinux2014_x86_64.whl (24.6 MB)\n",
            "\u001b[2K   \u001b[90m━━━━━━━━━━━━━━━━━━━━━━━━━━━━━━━━━━━━━━━━\u001b[0m \u001b[32m24.6/24.6 MB\u001b[0m \u001b[31m36.8 MB/s\u001b[0m eta \u001b[36m0:00:00\u001b[0m\n",
            "\u001b[?25hDownloading nvidia_cuda_runtime_cu12-12.4.127-py3-none-manylinux2014_x86_64.whl (883 kB)\n",
            "\u001b[2K   \u001b[90m━━━━━━━━━━━━━━━━━━━━━━━━━━━━━━━━━━━━━━━━\u001b[0m \u001b[32m883.7/883.7 kB\u001b[0m \u001b[31m45.1 MB/s\u001b[0m eta \u001b[36m0:00:00\u001b[0m\n",
            "\u001b[?25hDownloading nvidia_cudnn_cu12-9.1.0.70-py3-none-manylinux2014_x86_64.whl (664.8 MB)\n",
            "\u001b[2K   \u001b[90m━━━━━━━━━━━━━━━━━━━━━━━━━━━━━━━━━━━━━━━━\u001b[0m \u001b[32m664.8/664.8 MB\u001b[0m \u001b[31m2.0 MB/s\u001b[0m eta \u001b[36m0:00:00\u001b[0m\n",
            "\u001b[?25hDownloading nvidia_cufft_cu12-11.2.1.3-py3-none-manylinux2014_x86_64.whl (211.5 MB)\n",
            "\u001b[2K   \u001b[90m━━━━━━━━━━━━━━━━━━━━━━━━━━━━━━━━━━━━━━━━\u001b[0m \u001b[32m211.5/211.5 MB\u001b[0m \u001b[31m6.3 MB/s\u001b[0m eta \u001b[36m0:00:00\u001b[0m\n",
            "\u001b[?25hDownloading nvidia_curand_cu12-10.3.5.147-py3-none-manylinux2014_x86_64.whl (56.3 MB)\n",
            "\u001b[2K   \u001b[90m━━━━━━━━━━━━━━━━━━━━━━━━━━━━━━━━━━━━━━━━\u001b[0m \u001b[32m56.3/56.3 MB\u001b[0m \u001b[31m12.5 MB/s\u001b[0m eta \u001b[36m0:00:00\u001b[0m\n",
            "\u001b[?25hDownloading nvidia_cusolver_cu12-11.6.1.9-py3-none-manylinux2014_x86_64.whl (127.9 MB)\n",
            "\u001b[2K   \u001b[90m━━━━━━━━━━━━━━━━━━━━━━━━━━━━━━━━━━━━━━━━\u001b[0m \u001b[32m127.9/127.9 MB\u001b[0m \u001b[31m7.7 MB/s\u001b[0m eta \u001b[36m0:00:00\u001b[0m\n",
            "\u001b[?25hDownloading nvidia_cusparse_cu12-12.3.1.170-py3-none-manylinux2014_x86_64.whl (207.5 MB)\n",
            "\u001b[2K   \u001b[90m━━━━━━━━━━━━━━━━━━━━━━━━━━━━━━━━━━━━━━━━\u001b[0m \u001b[32m207.5/207.5 MB\u001b[0m \u001b[31m5.6 MB/s\u001b[0m eta \u001b[36m0:00:00\u001b[0m\n",
            "\u001b[?25hDownloading nvidia_nvjitlink_cu12-12.4.127-py3-none-manylinux2014_x86_64.whl (21.1 MB)\n",
            "\u001b[2K   \u001b[90m━━━━━━━━━━━━━━━━━━━━━━━━━━━━━━━━━━━━━━━━\u001b[0m \u001b[32m21.1/21.1 MB\u001b[0m \u001b[31m51.8 MB/s\u001b[0m eta \u001b[36m0:00:00\u001b[0m\n",
            "\u001b[?25hInstalling collected packages: nvidia-nvjitlink-cu12, nvidia-curand-cu12, nvidia-cufft-cu12, nvidia-cuda-runtime-cu12, nvidia-cuda-nvrtc-cu12, nvidia-cuda-cupti-cu12, nvidia-cublas-cu12, lightning-utilities, nvidia-cusparse-cu12, nvidia-cudnn-cu12, nvidia-cusolver-cu12, torchmetrics\n",
            "  Attempting uninstall: nvidia-nvjitlink-cu12\n",
            "    Found existing installation: nvidia-nvjitlink-cu12 12.5.82\n",
            "    Uninstalling nvidia-nvjitlink-cu12-12.5.82:\n",
            "      Successfully uninstalled nvidia-nvjitlink-cu12-12.5.82\n",
            "  Attempting uninstall: nvidia-curand-cu12\n",
            "    Found existing installation: nvidia-curand-cu12 10.3.6.82\n",
            "    Uninstalling nvidia-curand-cu12-10.3.6.82:\n",
            "      Successfully uninstalled nvidia-curand-cu12-10.3.6.82\n",
            "  Attempting uninstall: nvidia-cufft-cu12\n",
            "    Found existing installation: nvidia-cufft-cu12 11.2.3.61\n",
            "    Uninstalling nvidia-cufft-cu12-11.2.3.61:\n",
            "      Successfully uninstalled nvidia-cufft-cu12-11.2.3.61\n",
            "  Attempting uninstall: nvidia-cuda-runtime-cu12\n",
            "    Found existing installation: nvidia-cuda-runtime-cu12 12.5.82\n",
            "    Uninstalling nvidia-cuda-runtime-cu12-12.5.82:\n",
            "      Successfully uninstalled nvidia-cuda-runtime-cu12-12.5.82\n",
            "  Attempting uninstall: nvidia-cuda-nvrtc-cu12\n",
            "    Found existing installation: nvidia-cuda-nvrtc-cu12 12.5.82\n",
            "    Uninstalling nvidia-cuda-nvrtc-cu12-12.5.82:\n",
            "      Successfully uninstalled nvidia-cuda-nvrtc-cu12-12.5.82\n",
            "  Attempting uninstall: nvidia-cuda-cupti-cu12\n",
            "    Found existing installation: nvidia-cuda-cupti-cu12 12.5.82\n",
            "    Uninstalling nvidia-cuda-cupti-cu12-12.5.82:\n",
            "      Successfully uninstalled nvidia-cuda-cupti-cu12-12.5.82\n",
            "  Attempting uninstall: nvidia-cublas-cu12\n",
            "    Found existing installation: nvidia-cublas-cu12 12.5.3.2\n",
            "    Uninstalling nvidia-cublas-cu12-12.5.3.2:\n",
            "      Successfully uninstalled nvidia-cublas-cu12-12.5.3.2\n",
            "  Attempting uninstall: nvidia-cusparse-cu12\n",
            "    Found existing installation: nvidia-cusparse-cu12 12.5.1.3\n",
            "    Uninstalling nvidia-cusparse-cu12-12.5.1.3:\n",
            "      Successfully uninstalled nvidia-cusparse-cu12-12.5.1.3\n",
            "  Attempting uninstall: nvidia-cudnn-cu12\n",
            "    Found existing installation: nvidia-cudnn-cu12 9.3.0.75\n",
            "    Uninstalling nvidia-cudnn-cu12-9.3.0.75:\n",
            "      Successfully uninstalled nvidia-cudnn-cu12-9.3.0.75\n",
            "  Attempting uninstall: nvidia-cusolver-cu12\n",
            "    Found existing installation: nvidia-cusolver-cu12 11.6.3.83\n",
            "    Uninstalling nvidia-cusolver-cu12-11.6.3.83:\n",
            "      Successfully uninstalled nvidia-cusolver-cu12-11.6.3.83\n",
            "Successfully installed lightning-utilities-0.15.0 nvidia-cublas-cu12-12.4.5.8 nvidia-cuda-cupti-cu12-12.4.127 nvidia-cuda-nvrtc-cu12-12.4.127 nvidia-cuda-runtime-cu12-12.4.127 nvidia-cudnn-cu12-9.1.0.70 nvidia-cufft-cu12-11.2.1.3 nvidia-curand-cu12-10.3.5.147 nvidia-cusolver-cu12-11.6.1.9 nvidia-cusparse-cu12-12.3.1.170 nvidia-nvjitlink-cu12-12.4.127 torchmetrics-1.8.0\n"
          ]
        }
      ],
      "id": "oSUn-hAYZSQA"
    },
    {
      "cell_type": "code",
      "execution_count": 5,
      "id": "a2b789ff-1794-43e6-b57f-99872ec8805c",
      "metadata": {
        "id": "a2b789ff-1794-43e6-b57f-99872ec8805c"
      },
      "outputs": [],
      "source": [
        "import os\n",
        "import pandas as pd\n",
        "import numpy as np\n",
        "from torch.utils.data import Dataset\n",
        "import torch\n",
        "\n",
        "class LPCDataset(Dataset):\n",
        "    def __init__(self, labels, datafile, inds, transform=None, target_transform=None):\n",
        "        self.labels = np.asarray([item if item<3 else item-1 for item in np.load(labels)], dtype=\"int\")\n",
        "        self.data = np.load(datafile).astype(np.float32);\n",
        "        self.transform = transform\n",
        "        self.target_transform = target_transform\n",
        "        self.indices = inds;\n",
        "\n",
        "    def __len__(self):\n",
        "        return len(self.indices);\n",
        "\n",
        "    def __getitem__(self, idx):\n",
        "        dat = self.data[self.indices[idx]][:];\n",
        "        if self.transform:\n",
        "            dat = self.transform(dat);\n",
        "        else:\n",
        "            dat = torch.as_tensor(dat).unsqueeze(0);\n",
        "        if self.target_transform:\n",
        "            dat = self.target_transform(dat);\n",
        "        return dat, self.labels[self.indices[idx]];"
      ]
    },
    {
      "cell_type": "code",
      "execution_count": 6,
      "id": "4fad871f-e82e-4f4d-b642-843e01dead26",
      "metadata": {
        "id": "4fad871f-e82e-4f4d-b642-843e01dead26"
      },
      "outputs": [],
      "source": [
        "labels = np.load(\"Labels_aug.npy\");"
      ]
    },
    {
      "cell_type": "code",
      "execution_count": 7,
      "id": "bb101dfc-82c9-421d-8de9-cccc37098953",
      "metadata": {
        "id": "bb101dfc-82c9-421d-8de9-cccc37098953"
      },
      "outputs": [],
      "source": [
        "import random\n",
        "trainInds = random.sample(range(len(labels)),round(len(labels)*0.9));\n",
        "testInds = [item for item in random.sample(range(len(labels)),round(len(labels))) if item not in trainInds];"
      ]
    },
    {
      "cell_type": "code",
      "execution_count": 8,
      "id": "c9c22089-a930-4812-98c6-8d1982150768",
      "metadata": {
        "id": "c9c22089-a930-4812-98c6-8d1982150768"
      },
      "outputs": [],
      "source": [
        "from torchvision.transforms import ToTensor\n",
        "LPC_train_data = LPCDataset(\"Labels_aug.npy\",\"2D_LPC_aug.npy\", trainInds);\n",
        "LPC_test_data = LPCDataset(\"Labels_aug.npy\",\"2D_LPC_aug.npy\", testInds);"
      ]
    },
    {
      "cell_type": "markdown",
      "id": "88954580-fd35-4172-8cc7-c33485ab38f0",
      "metadata": {
        "id": "88954580-fd35-4172-8cc7-c33485ab38f0"
      },
      "source": [
        "<p>As seen below, the batch size was increased from 3 to 6 to try and maximize performance</p>"
      ]
    },
    {
      "cell_type": "code",
      "execution_count": 9,
      "id": "20183bab-5051-4568-a073-fe5720ba51f2",
      "metadata": {
        "id": "20183bab-5051-4568-a073-fe5720ba51f2",
        "outputId": "f3f48c18-35d3-4646-dd58-4844a0ecb032",
        "colab": {
          "base_uri": "https://localhost:8080/"
        }
      },
      "outputs": [
        {
          "output_type": "stream",
          "name": "stdout",
          "text": [
            "Shape of X [N, C, H, W]: torch.Size([6, 1, 14]) torch.float32\n",
            "N = batch size. This is the number of images to process at a time.\n",
            "C = number of channels. C=1 for grayscale. C=3 for RGB.\n",
            "H = height is the number of rows in the image.\n",
            "W = width is the number of columns in the image.\n",
            " \n",
            "Shape of y: torch.Size([6]) torch.int64\n",
            "y is of size N, the ground truth labels required for each image in the batch.\n",
            "tensor([ 7,  6, 10,  8,  6,  6])\n",
            "Percentage of training dataset = 90.01 percent with 2479 samples.\n",
            "Percentage of test dataset     = 9.99 percent with 275 samples.\n"
          ]
        }
      ],
      "source": [
        "from torch.utils.data import DataLoader\n",
        "batch_size = 6\n",
        "\n",
        "# Create data loaders.\n",
        "LPC_train_dataloader = DataLoader(LPC_train_data, batch_size=batch_size)\n",
        "LPC_test_dataloader = DataLoader(LPC_test_data, batch_size=batch_size)\n",
        "\n",
        "for X, y in LPC_train_dataloader:\n",
        "    print(f\"Shape of X [N, C, H, W]: {X.shape} {X.dtype}\")\n",
        "    print(\"N = batch size. This is the number of images to process at a time.\")\n",
        "    print(\"C = number of channels. C=1 for grayscale. C=3 for RGB.\")\n",
        "    print(\"H = height is the number of rows in the image.\")\n",
        "    print(\"W = width is the number of columns in the image.\")\n",
        "    print(\" \")\n",
        "    print(f\"Shape of y: {y.shape} {y.dtype}\")\n",
        "    print(\"y is of size N, the ground truth labels required for each image in the batch.\")\n",
        "    print(y)\n",
        "    break\n",
        "\n",
        "train_size = len(LPC_train_dataloader.dataset)\n",
        "test_size  = len(LPC_test_dataloader.dataset)\n",
        "train_pct  = 100*train_size/(train_size+test_size)\n",
        "test_pct   = 100*test_size/(train_size+test_size)\n",
        "print(f\"Percentage of training dataset = {train_pct:.2f} percent with {train_size} samples.\")\n",
        "print(f\"Percentage of test dataset     = {test_pct:.2f} percent with {test_size} samples.\")"
      ]
    },
    {
      "cell_type": "code",
      "execution_count": 11,
      "id": "79c5d6ca-c188-49f8-80d1-0fa7bda97f63",
      "metadata": {
        "id": "79c5d6ca-c188-49f8-80d1-0fa7bda97f63"
      },
      "outputs": [],
      "source": [
        "classes = [\"Pump 1 Start\", \"Pump 1 Run\", \"Pump 1 Stop\", \"Pump 2 Start\", \"Pump 2 Run\", \"Pump 2 Stop\", \"Pump 3 Start\", \"Pump 3 Run\", \"Pump 3 Stop\", \"Pump 4 Start\", \"Pump 4 Run\", \"Pump 4 Stop\"];"
      ]
    },
    {
      "cell_type": "code",
      "execution_count": 12,
      "id": "7c600f9e-9200-47b6-98c0-156c7bf4a280",
      "metadata": {
        "id": "7c600f9e-9200-47b6-98c0-156c7bf4a280",
        "outputId": "64038675-c782-4d4e-b4e2-8825b4b22a68",
        "colab": {
          "base_uri": "https://localhost:8080/"
        }
      },
      "outputs": [
        {
          "output_type": "stream",
          "name": "stdout",
          "text": [
            "Expected: \tPump 3 Run\n",
            "From Dataset: \tPump 3 Start\n"
          ]
        }
      ],
      "source": [
        "print(f\"Expected: \\t{classes[labels[trainInds[1]].astype('int')]}\\nFrom Dataset: \\t{classes[LPC_train_data.__getitem__(1)[1]]}\");"
      ]
    },
    {
      "cell_type": "markdown",
      "id": "58bad98f-1324-4c67-8a96-c4372984354f",
      "metadata": {
        "id": "58bad98f-1324-4c67-8a96-c4372984354f"
      },
      "source": [
        "<p>The following model is a moderate departure from the model seen in Module 6. As will be seen later, the extremely small number of observations for each sample in the Order 13 LPC dataset drastically limited performance of the CNN training. By attempting to reduce the number of weights through trimming the model, the hope was to improve the accuracy of the fit</p>"
      ]
    },
    {
      "cell_type": "code",
      "execution_count": 13,
      "id": "ccd37174-b646-4bbf-81a7-8e83b45db21f",
      "metadata": {
        "id": "ccd37174-b646-4bbf-81a7-8e83b45db21f"
      },
      "outputs": [],
      "source": [
        "from torch import nn\n",
        "import math\n",
        "import torch.nn.functional as F\n",
        "class Test_LPC_CNN(nn.Module):\n",
        "    def __init__(self, num_of_rows = 1, num_of_cols = 14,\n",
        "                 n_filters1=4, n_filters2=8, out_categories=12):\n",
        "        super().__init__()\n",
        "\n",
        "        self.conv1 = nn.Conv1d(\n",
        "                in_channels=1,            # 1 for grayscale\n",
        "                out_channels=n_filters1,   # Number of filters\n",
        "                kernel_size=2,            # 3 convolution\n",
        "                stride=1,\n",
        "                padding=1          # Keep output size same as input\n",
        "                )\n",
        "        self.pool = nn.MaxPool1d(2)  # halves size to 14x14\n",
        "\n",
        "        self.drop = nn.Dropout1d(p=0.25);\n",
        "\n",
        "        # out_categories should match the number of output categories.\n",
        "        # Match the dimensions to the input.\n",
        "        # Divide by 2 for each maxpooling (carefull for non-even numbers ...)\n",
        "        num_of_pixels = math.floor(num_of_cols/(2*2))\n",
        "\n",
        "        self.linear_relu_stack = nn.Sequential(\n",
        "            nn.Linear(num_of_cols*2, 32),\n",
        "            nn.ReLU(),\n",
        "            nn.Linear(32, 32),\n",
        "        )\n",
        "\n",
        "        # Final layer collects the pixels from all of the inputs:\n",
        "        self.fc1 = nn.Linear(32, out_categories)\n",
        "\n",
        "\n",
        "    def forward(self, x):\n",
        "        x = self.pool(F.relu(self.conv1(x)))  # ->\n",
        "        x = self.drop(x);                     # ->\n",
        "        x = x.view(x.size(0), -1)             # flatten\n",
        "        x = self.linear_relu_stack(x);\n",
        "        logits = F.relu(self.fc1(x))\n",
        "        return logits # Note: SoftMax is applied to logits by cross-entropy loss function.\n",
        "\n",
        "device = torch.accelerator.current_accelerator().type if torch.accelerator.is_available() else \"cpu\"\n",
        "#device = \"cpu\"\n",
        "torch.cuda.empty_cache()\n",
        "model = Test_LPC_CNN(n_filters1=4, n_filters2=8).to(device)"
      ]
    },
    {
      "cell_type": "code",
      "execution_count": 14,
      "id": "b5190ece-2d20-411c-a67f-a4abd2d40d68",
      "metadata": {
        "id": "b5190ece-2d20-411c-a67f-a4abd2d40d68",
        "outputId": "00f22980-44b1-4ad6-aaeb-31eb610efe5e",
        "colab": {
          "base_uri": "https://localhost:8080/"
        }
      },
      "outputs": [
        {
          "output_type": "stream",
          "name": "stdout",
          "text": [
            "Test_LPC_CNN(\n",
            "  (conv1): Conv1d(1, 4, kernel_size=(2,), stride=(1,), padding=(1,))\n",
            "  (pool): MaxPool1d(kernel_size=2, stride=2, padding=0, dilation=1, ceil_mode=False)\n",
            "  (drop): Dropout1d(p=0.25, inplace=False)\n",
            "  (linear_relu_stack): Sequential(\n",
            "    (0): Linear(in_features=28, out_features=32, bias=True)\n",
            "    (1): ReLU()\n",
            "    (2): Linear(in_features=32, out_features=32, bias=True)\n",
            "  )\n",
            "  (fc1): Linear(in_features=32, out_features=12, bias=True)\n",
            ")\n",
            " \n",
            "Layer                                        # Params  Trainable\n",
            "-----------------------------------------------------------------\n",
            "conv1.weight                                        8       True\n",
            "conv1.bias                                          4       True\n",
            "linear_relu_stack.0.weight                        896       True\n",
            "linear_relu_stack.0.bias                           32       True\n",
            "linear_relu_stack.2.weight                      1,024       True\n",
            "linear_relu_stack.2.bias                           32       True\n",
            "fc1.weight                                        384       True\n",
            "fc1.bias                                           12       True\n",
            "-----------------------------------------------------------------\n",
            "Total                                           2,392           \n",
            "Trainable                                       2,392\n"
          ]
        }
      ],
      "source": [
        "def parameter_report(model):\n",
        "    print(f\"{'Layer':<40} {'# Params':>12} {'Trainable':>10}\")\n",
        "    print(\"-\" * 65)\n",
        "    total, trainable = 0, 0\n",
        "    for name, param in model.named_parameters():\n",
        "        num_params = param.numel()\n",
        "        is_trainable = param.requires_grad\n",
        "        print(f\"{name:<40} {num_params:>12,} {str(is_trainable):>10}\")\n",
        "        total += num_params\n",
        "        if is_trainable:\n",
        "            trainable += num_params\n",
        "    print(\"-\" * 65)\n",
        "    print(f\"{'Total':<40} {total:>12,} {'':>10}\")\n",
        "    print(f\"{'Trainable':<40} {trainable:>12,}\")\n",
        "\n",
        "\n",
        "print(model)\n",
        "print(\" \")\n",
        "\n",
        "parameter_report(model)"
      ]
    },
    {
      "cell_type": "markdown",
      "id": "3e85b0f2-5e68-489a-9836-4c70b47fff28",
      "metadata": {
        "id": "3e85b0f2-5e68-489a-9836-4c70b47fff28"
      },
      "source": [
        "<p>The number of trainable parameters seen above is substantially fewer than that of the MFCC or LFCC focused models.</p>\n",
        "<p>The following training and test functions are mostly identical to that of the Module 6 code</p>"
      ]
    },
    {
      "cell_type": "code",
      "execution_count": 15,
      "id": "352ab89a-6447-4628-8ac9-8660237679ec",
      "metadata": {
        "id": "352ab89a-6447-4628-8ac9-8660237679ec"
      },
      "outputs": [],
      "source": [
        "loss_fn = nn.CrossEntropyLoss()\n",
        "optimizer = torch.optim.SGD(model.parameters(), lr=1e-3)"
      ]
    },
    {
      "cell_type": "code",
      "execution_count": 20,
      "id": "99a9fb57-bc1d-46f4-840b-5689c0cd50fc",
      "metadata": {
        "id": "99a9fb57-bc1d-46f4-840b-5689c0cd50fc"
      },
      "outputs": [],
      "source": [
        "from torch.optim.lr_scheduler import LRScheduler\n",
        "from torch.optim.lr_scheduler import MultiStepLR\n",
        "from torch.optim.lr_scheduler import ExponentialLR\n",
        "import gc\n",
        "\n",
        "def train(dataloader, model, loss_fn, optimizer, epochs):\n",
        "    size = len(dataloader.dataset)\n",
        "    model.train() # Put the model in training mode.\n",
        "    scheduler1 = ExponentialLR(optimizer, gamma=0.9)\n",
        "    scheduler2 = MultiStepLR(optimizer, milestones=[30,80], gamma=0.1)\n",
        "    print(f\"  0%[{20*' '}]\\r\",end=\"\");\n",
        "    loss_last = 0;\n",
        "    twice = False;\n",
        "    for ep in range(epochs):\n",
        "        test_loss, num = 0, 0\n",
        "        for batch, (X, y) in enumerate(dataloader):\n",
        "            # Place the model and predictions on the same device.\n",
        "            X, y = X.to(device), y.to(device)\n",
        "            # Compute prediction error\n",
        "            pred = model(X)\n",
        "            loss = loss_fn(pred, y)\n",
        "            test_loss += loss.item();\n",
        "            num+=1;\n",
        "\n",
        "            # Backpropagation\n",
        "            # This step updates the parameter values inside your network.\n",
        "            loss.backward()\n",
        "            optimizer.step()\n",
        "            optimizer.zero_grad()\n",
        "            del X, y, pred;\n",
        "            torch.cuda.empty_cache()\n",
        "        if (loss_last - (test_loss/num)  < 0.005 and loss_last - (test_loss/num) > 0):\n",
        "            if twice:\n",
        "                break;\n",
        "            else:\n",
        "                twice = True;\n",
        "        else:\n",
        "            loss_last = test_loss/num;\n",
        "\n",
        "        #print(f\"loss: {test_loss/num:>7f}\")\n",
        "        print(f\"{100*(ep/epochs):3.0f}%[{int(20 * ep/epochs)*'■'}{(20-int(20 * ep/epochs))*' '}]\\r\",end=\"\");   # Print a progress bar. A number of blocks are printed based on the percentage through the count of epochs\n",
        "        # Step the learning rate schedulers based on the current status\n",
        "        scheduler1.step();\n",
        "        scheduler2.step();\n",
        "    print(f\"100%[{20*'■'}]\\r\");        # We need to make sure to jump the progress bar to 100% at the end, especially if we broke early due to small enough change in loss"
      ]
    },
    {
      "cell_type": "code",
      "execution_count": 21,
      "id": "57b1f8f6-40a7-4da2-860b-65cac275f795",
      "metadata": {
        "id": "57b1f8f6-40a7-4da2-860b-65cac275f795"
      },
      "outputs": [],
      "source": [
        "def test(dataloader, model, loss_fn):\n",
        "    size = len(dataloader.dataset)\n",
        "    num_batches = len(dataloader)\n",
        "    model.eval() # Put the model in testing mode.\n",
        "    test_loss, correct = 0, 0\n",
        "    with torch.no_grad():\n",
        "        for X, y in dataloader:\n",
        "            X, y = X.to(device), y.to(device)\n",
        "            pred = model(X)\n",
        "            test_loss += loss_fn(pred, y).item()\n",
        "            correct += (pred.argmax(1) == y).type(torch.float).sum().item()\n",
        "    test_loss /= num_batches\n",
        "    correct /= size\n",
        "    print(f\"Test Error: \\n Accuracy: {(100*correct):>0.1f}%, Avg loss: {test_loss:>8f} \\n\")"
      ]
    },
    {
      "cell_type": "markdown",
      "id": "85231ad7-35a9-4812-a012-9f882482968c",
      "metadata": {
        "id": "85231ad7-35a9-4812-a012-9f882482968c"
      },
      "source": [
        "<p>The performance expected below is poor. This model is not a good fit for this dataset, and does not perform satisfactorily</p>"
      ]
    },
    {
      "cell_type": "code",
      "execution_count": 22,
      "id": "2fe99e3e-a4e5-4fcd-a979-b27233cfe26f",
      "metadata": {
        "id": "2fe99e3e-a4e5-4fcd-a979-b27233cfe26f",
        "outputId": "72e6df11-c80c-4e0e-f322-5b680792e04a",
        "colab": {
          "base_uri": "https://localhost:8080/"
        }
      },
      "outputs": [
        {
          "output_type": "stream",
          "name": "stdout",
          "text": [
            "100%[■■■■■■■■■■■■■■■■■■■■]\n",
            "Test Error: \n",
            " Accuracy: 14.9%, Avg loss: 2.300931 \n",
            "\n"
          ]
        }
      ],
      "source": [
        "train(LPC_train_dataloader, model, loss_fn, optimizer, 100);\n",
        "test(LPC_test_dataloader, model, loss_fn)"
      ]
    },
    {
      "cell_type": "code",
      "execution_count": 23,
      "id": "d85c62af-cdfc-464a-b26e-686200e9b794",
      "metadata": {
        "id": "d85c62af-cdfc-464a-b26e-686200e9b794",
        "outputId": "7ec2e40d-4f49-4631-833a-dbf8b2afd12d",
        "colab": {
          "base_uri": "https://localhost:8080/"
        }
      },
      "outputs": [
        {
          "output_type": "stream",
          "name": "stdout",
          "text": [
            "Test Error: \n",
            " Accuracy: 17.4%, Avg loss: 2.309053 \n",
            "\n"
          ]
        }
      ],
      "source": [
        "test(LPC_train_dataloader,model,loss_fn)"
      ]
    },
    {
      "cell_type": "code",
      "execution_count": 24,
      "id": "fc325547-26f3-403c-81c3-74cca8c14546",
      "metadata": {
        "id": "fc325547-26f3-403c-81c3-74cca8c14546"
      },
      "outputs": [],
      "source": [
        "torch.save(model.state_dict(), \"LPC.pth\")"
      ]
    },
    {
      "cell_type": "markdown",
      "id": "5f62941e-493b-4183-9545-bd3265d076c0",
      "metadata": {
        "id": "5f62941e-493b-4183-9545-bd3265d076c0"
      },
      "source": [
        "<p>We can do some quick checking of the performance with the a random sample followed by ROC curves</p>"
      ]
    },
    {
      "cell_type": "code",
      "execution_count": 25,
      "id": "f4262916-4878-4645-8450-de2b8d7b41a0",
      "metadata": {
        "id": "f4262916-4878-4645-8450-de2b8d7b41a0",
        "outputId": "c4dff404-74ab-4c05-f7bd-17293300d28e",
        "colab": {
          "base_uri": "https://localhost:8080/"
        }
      },
      "outputs": [
        {
          "output_type": "stream",
          "name": "stdout",
          "text": [
            "Outputs for all categories:\n",
            "tensor([[0.0738, 0.0000, 0.5881, 0.0000, 0.0000, 0.9746, 0.9228, 0.8188, 0.0894,\n",
            "         0.0000, 0.0000, 0.0000]], device='cuda:0')\n",
            "Predicted: \"Pump 2 Stop\", Actual: \"Pump 1 Run\"\n"
          ]
        }
      ],
      "source": [
        "# Put the model in evaluation mode.\n",
        "model.eval()\n",
        "\n",
        "# Grab a test index\n",
        "test_index = 105\n",
        "x, y = LPC_test_data[test_index]\n",
        "\n",
        "img  = x.squeeze()\n",
        "\n",
        "with torch.no_grad():\n",
        "    x = x.to(device)\n",
        "\n",
        "    pred = model(x.unsqueeze(0)) # Create a batch size = 1 using unsqueeze()\n",
        "\n",
        "    print(\"Outputs for all categories:\")\n",
        "    print(pred)\n",
        "    predicted, actual = classes[pred[0].argmax(0)], classes[y]\n",
        "    print(f'Predicted: \"{predicted}\", Actual: \"{actual}\"')"
      ]
    },
    {
      "cell_type": "code",
      "execution_count": 26,
      "id": "1596b5a2-dbbc-4bea-982b-d22bed28150c",
      "metadata": {
        "id": "1596b5a2-dbbc-4bea-982b-d22bed28150c",
        "outputId": "a0cd4807-4b51-45fc-8b6a-a2a06aabd36e",
        "colab": {
          "base_uri": "https://localhost:8080/",
          "height": 528
        }
      },
      "outputs": [
        {
          "output_type": "stream",
          "name": "stderr",
          "text": [
            "/usr/local/lib/python3.11/dist-packages/torchmetrics/utilities/prints.py:43: UserWarning: No positive samples in targets, true positive value should be meaningless. Returning zero tensor in true positive score\n",
            "  warnings.warn(*args, **kwargs)\n"
          ]
        },
        {
          "output_type": "display_data",
          "data": {
            "text/plain": [
              "<Figure size 640x480 with 1 Axes>"
            ],
            "image/png": "[encoded data removed]"
          },
          "metadata": {}
        }
      ],
      "source": [
        "from torchmetrics.classification import ROC\n",
        "from torchmetrics.classification import AUROC\n",
        "import matplotlib.pyplot as plt\n",
        "\n",
        "model.eval()\n",
        "pred = 0;\n",
        "for i in range(len(testInds)):\n",
        "    # Grab a test index\n",
        "    x, y_inst = LPC_test_data[i]\n",
        "    with torch.no_grad():\n",
        "        x = x.to(device)\n",
        "        if type(pred)==int:\n",
        "            pred = model(x.unsqueeze(0))\n",
        "            y = y_inst;\n",
        "        else:\n",
        "            pred = torch.cat((pred,model(x.unsqueeze(0))),dim=0);\n",
        "            y = np.append(y, y_inst);\n",
        "y = torch.as_tensor(y).to(device);\n",
        "\n",
        "roc_metric = ROC(task=\"multiclass\", num_classes=12)\n",
        "roc_metric.update(pred, y)\n",
        "fpr, tpr, thresholds = roc_metric.compute()\n",
        "\n",
        "AUC = AUROC(task=\"multiclass\", num_classes=12, average=None)\n",
        "AUC.update(pred, y)\n",
        "AUCs = AUC.compute()\n",
        "#print(f\"Aggregate ROC AUC: {AUCs[0].cpu().numpy():.4f}\")\n",
        "\n",
        "\n",
        "plt.figure()\n",
        "for i in range(12):\n",
        "    plt.plot(fpr[i].cpu(), tpr[i].cpu(), label=f\"{classes[i]} (AUC={AUCs[i].cpu().numpy():.2f})\")\n",
        "plt.plot([0, 1], [0, 1], 'k--', label=\"Chance Level\") # dashed diagonal\n",
        "plt.xlabel(\"False Positive Rate\")\n",
        "plt.ylabel(\"True Positive Rate\")\n",
        "plt.title(\"Receiver Operating Characteristic (ROC) Curve\")\n",
        "plt.legend(loc=\"lower right\")\n",
        "plt.grid()\n",
        "plt.show()"
      ]
    },
    {
      "cell_type": "markdown",
      "id": "52018cb3-d502-46db-b722-940d5aa6c29e",
      "metadata": {
        "id": "52018cb3-d502-46db-b722-940d5aa6c29e"
      },
      "source": [
        "<p>As seen above, this model performs quite poorly. Some classes perform ok, occasionally getting AUC scores in excess of 0.7, but others can do as poorly as 0.00</p>"
      ]
    }
  ],
  "metadata": {
    "kernelspec": {
      "display_name": "Python 3",
      "name": "python3"
    },
    "language_info": {
      "codemirror_mode": {
        "name": "ipython",
        "version": 3
      },
      "file_extension": ".py",
      "mimetype": "text/x-python",
      "name": "python",
      "nbconvert_exporter": "python",
      "pygments_lexer": "ipython3",
      "version": "3.12.11"
    },
    "colab": {
      "provenance": [],
      "gpuType": "T4",
      "include_colab_link": true
    },
    "accelerator": "GPU"
  },
  "nbformat": 4,
  "nbformat_minor": 5
}