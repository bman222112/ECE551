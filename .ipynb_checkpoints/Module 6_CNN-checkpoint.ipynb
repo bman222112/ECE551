{
 "cells": [
  {
   "cell_type": "markdown",
   "id": "644b437e-ea2d-4fae-abf9-be74c5a4add3",
   "metadata": {},
   "source": [
    "<p style=\"font-size:28px;font-weight:bold;\">Module 6 - Convolutional Neural Networks</p>\n",
    "This module introduces the concept of Convolutional Neural Networks, and how to handle processing the feature extracted audio dataset.</br></br>\n",
    "The first thing, below, is a class, <span style=\"color:green;font-weight:bold;\">class</span> <span style=\"color:blue;font-weight:bold\">CCDataset</span>, that defines how one of the previously feature extracted datasets will be read in. This class loads the Numpy file and labels, along with the ordered indicies from which to return the data. This allows us to create separate datasets for both the training and the test from the same parent data."
   ]
  },
  {
   "cell_type": "code",
   "execution_count": 28,
   "id": "a2b789ff-1794-43e6-b57f-99872ec8805c",
   "metadata": {},
   "outputs": [],
   "source": [
    "import os\n",
    "import pandas as pd\n",
    "import numpy as np\n",
    "from torch.utils.data import Dataset\n",
    "import torch\n",
    "\n",
    "class CCDataset(Dataset):\n",
    "    def __init__(self, labels, datafile, inds, transform=None, target_transform=None):\n",
    "        self.labels = np.load(labels).astype(\"int\");\n",
    "        self.data = np.load(datafile).astype(np.float32);\n",
    "        self.transform = transform\n",
    "        self.target_transform = target_transform\n",
    "        self.indices = inds;\n",
    "\n",
    "    def __len__(self):\n",
    "        return len(self.indices);\n",
    "\n",
    "    def __getitem__(self, idx):\n",
    "        dat = self.data[self.indices[idx]][:][:];\n",
    "        if self.transform:\n",
    "            dat = self.transform(dat);\n",
    "        if self.target_transform:\n",
    "            dat = self.target_transform(dat);\n",
    "        return dat, self.labels[self.indices[idx]];"
   ]
  },
  {
   "cell_type": "markdown",
   "id": "8ebb5594-8ecd-46b9-be34-8e3b5b359be1",
   "metadata": {},
   "source": [
    "Because we don't know how many total samples there are yet, to generate the random indicies, we can read in the labels definition and use it's length to generate the ranges"
   ]
  },
  {
   "cell_type": "code",
   "execution_count": 29,
   "id": "4fad871f-e82e-4f4d-b642-843e01dead26",
   "metadata": {},
   "outputs": [],
   "source": [
    "labels = np.load(\"Labels_aug.npy\");"
   ]
  },
  {
   "cell_type": "code",
   "execution_count": 30,
   "id": "bb101dfc-82c9-421d-8de9-cccc37098953",
   "metadata": {},
   "outputs": [],
   "source": [
    "import random\n",
    "random.seed(10)\n",
    "trainInds = random.sample(range(len(labels)),round(len(labels)*0.9));\n",
    "testInds = [item for item in random.sample(range(len(labels)),round(len(labels))) if item not in trainInds];\n"
   ]
  },
  {
   "cell_type": "markdown",
   "id": "70479191-535a-4c16-85c5-7cca3be1333a",
   "metadata": {},
   "source": [
    "With the ranges for training and test specified, we can read in the data using our <span style=\"color:blue;font-weight:bold;\">CCDataset</span> class. Notice we are only reading in the MFCC and LFCC data. Because the LPC dataset is not 2-Dimensional, the same Neural Network model cannot be used with LPC data. Module 7 will provide the same basic model modified for 2D data."
   ]
  },
  {
   "cell_type": "code",
   "execution_count": 31,
   "id": "c9c22089-a930-4812-98c6-8d1982150768",
   "metadata": {},
   "outputs": [],
   "source": [
    "from torchvision.transforms import ToTensor\n",
    "MFCC_train_data = CCDataset(\"Labels_aug.npy\",\"3D_MFCC_aug.npy\",trainInds, transform=ToTensor());\n",
    "MFCC_test_data = CCDataset(\"Labels_aug.npy\",\"3D_MFCC_aug.npy\",testInds, transform=ToTensor());\n",
    "LFCC_train_data = CCDataset(\"Labels_aug.npy\",\"3D_LFCC_aug.npy\",trainInds, transform=ToTensor());\n",
    "LFCC_test_data = CCDataset(\"Labels_aug.npy\",\"3D_LFCC_aug.npy\",testInds, transform=ToTensor());"
   ]
  },
  {
   "cell_type": "markdown",
   "id": "aa60414d-7fa6-423c-a902-61fd0a584ecb",
   "metadata": {},
   "source": [
    "Now that we have read in our data, we need a DataLoader object to use with training. Based on empirical testing, a batch size of 3 appeared to work the best for this dataset. Increasing the batch size will dramatically reduce model training times, but may negatively impact performance."
   ]
  },
  {
   "cell_type": "code",
   "execution_count": 32,
   "id": "20183bab-5051-4568-a073-fe5720ba51f2",
   "metadata": {},
   "outputs": [
    {
     "name": "stdout",
     "output_type": "stream",
     "text": [
      "Shape of X [N, C, M, T]: torch.Size([3, 1, 13, 181]) torch.float32\n",
      "N = batch size. This is the number of images to process at a time.\n",
      "C = number of channels. Only 1 for Cepstrum Coefficient Data\n",
      "M = number of Cepstrum Coefficients\n",
      "T = time in blocks\n",
      " \n",
      "Shape of y: torch.Size([3]) torch.int64\n",
      "y is of size N, the ground truth labels\n",
      "tensor([10,  1,  8])\n",
      "Percentage of training dataset = 90.01 percent with 2479 samples.\n",
      "Percentage of test dataset     = 9.99 percent with 275 samples.\n"
     ]
    }
   ],
   "source": [
    "from torch.utils.data import DataLoader\n",
    "batch_size = 3\n",
    "\n",
    "# Create data loaders.\n",
    "MFCC_train_dataloader = DataLoader(MFCC_train_data, batch_size=batch_size)\n",
    "MFCC_test_dataloader = DataLoader(MFCC_test_data, batch_size=batch_size)\n",
    "\n",
    "for X, y in MFCC_train_dataloader:\n",
    "    print(f\"Shape of X [N, C, M, T]: {X.shape} {X.dtype}\")\n",
    "    print(\"N = batch size. This is the number of images to process at a time.\")\n",
    "    print(\"C = number of channels. Only 1 for Cepstrum Coefficient Data\")\n",
    "    print(\"M = number of Cepstrum Coefficients\")\n",
    "    print(\"T = time in blocks\")\n",
    "    print(\" \")\n",
    "    print(f\"Shape of y: {y.shape} {y.dtype}\")\n",
    "    print(\"y is of size N, the ground truth labels\")\n",
    "    print(y)\n",
    "    break\n",
    "\n",
    "train_size = len(MFCC_train_dataloader.dataset)\n",
    "test_size  = len(MFCC_test_dataloader.dataset)\n",
    "train_pct  = 100*train_size/(train_size+test_size)\n",
    "test_pct   = 100*test_size/(train_size+test_size)\n",
    "print(f\"Percentage of training dataset = {train_pct:.2f} percent with {train_size} samples.\")\n",
    "print(f\"Percentage of test dataset     = {test_pct:.2f} percent with {test_size} samples.\")"
   ]
  },
  {
   "cell_type": "markdown",
   "id": "652e4b39-09ee-4807-b72c-65523123be86",
   "metadata": {},
   "source": [
    "As can be seen, the resulting output for the MFCC_train_dataloader shows an output for training of <b>[batch, 1, MFCCs, Time]</b>, matching our MFCC data and the batch size.</br></br>\n",
    "Next, we'll define our class names, along with a quick test to see what the first item out of our dataset is, and verify it is labeled correctly"
   ]
  },
  {
   "cell_type": "code",
   "execution_count": 33,
   "id": "79c5d6ca-c188-49f8-80d1-0fa7bda97f63",
   "metadata": {},
   "outputs": [],
   "source": [
    "classes = [\"Pump 1 Start\", \"Pump 1 Run\", \"Pump 1 Stop\", \"Pump 2 Start\", \"Pump 2 Run\", \"Pump 2 Stop\", \"Pump 3 Start\", \"Pump 3 Run\", \"Pump 3 Stop\", \"Pump 4 Start\", \"Pump 4 Run\", \"Pump 4 Stop\"];"
   ]
  },
  {
   "cell_type": "code",
   "execution_count": 34,
   "id": "7c600f9e-9200-47b6-98c0-156c7bf4a280",
   "metadata": {},
   "outputs": [
    {
     "name": "stdout",
     "output_type": "stream",
     "text": [
      "Expected: \tPump 1 Run\n",
      "From Dataset: \tPump 1 Run\n"
     ]
    }
   ],
   "source": [
    "print(f\"Expected: \\t{classes[labels[trainInds[1]].astype('int')]}\\nFrom Dataset: \\t{classes[MFCC_train_data.__getitem__(1)[1]]}\");"
   ]
  },
  {
   "cell_type": "markdown",
   "id": "e8b2b9b1-2915-4d94-bae9-b5d5e456dd9e",
   "metadata": {},
   "source": [
    "<p>Next, let's plot the data from the last batch determined from the dataloader above. This will show what the data looks like, and verify the labels for the samples in the batch</p>"
   ]
  },
  {
   "cell_type": "code",
   "execution_count": 35,
   "id": "187d7904-bc48-4346-88ae-a256c4432d22",
   "metadata": {},
   "outputs": [
    {
     "data": {
      "image/png": "[encoded data removed]",
      "text/plain": [
       "<Figure size 600x200 with 3 Axes>"
      ]
     },
     "metadata": {},
     "output_type": "display_data"
    }
   ],
   "source": [
    "import matplotlib.pyplot as plt\n",
    "import math\n",
    "def show_images(batch_tensor, n=3, titles=None):\n",
    "    \"\"\"\n",
    "    Display all Cepstrum Coefficients from a batch [B, 1, H, W]\n",
    "\n",
    "    Parameters:\n",
    "    - batch_tensor: torch.Tensor of shape [B, 1, H, W]\n",
    "    - n: number of plots to show\n",
    "    - titles: list of titles or labels for each image (length n)\n",
    "    \"\"\"\n",
    "    n = min(n, batch_tensor.size(0))\n",
    "    if titles is None:\n",
    "        titles = [f\"Image {i}\" for i in range(n)]\n",
    "    else:\n",
    "        assert len(titles) >= n, \"Not enough titles for the number of images.\"\n",
    "\n",
    "    # Determine grid size\n",
    "    cols = n\n",
    "    rows = 1;\n",
    "\n",
    "    plt.figure(figsize=(cols * 2, rows * 2))\n",
    "    for i in range(n):\n",
    "        img = batch_tensor[i, 0].cpu().numpy()\n",
    "        plt.subplot(rows, cols, i + 1)\n",
    "        plt.imshow(img, cmap='coolwarm', aspect=\"auto\", interpolation=\"none\")\n",
    "        plt.gca().invert_yaxis();\n",
    "        plt.title(classes[y[i]], fontsize=10)\n",
    "        plt.axis('off')\n",
    "    plt.tight_layout()\n",
    "    plt.show()\n",
    "\n",
    "show_images(batch_tensor=X, n=3, titles=y)"
   ]
  },
  {
   "cell_type": "markdown",
   "id": "9e8d8688-466d-4b8b-a0e6-69c50e228e08",
   "metadata": {},
   "source": [
    "<p>Next, we are ready for our CNN Model. This model is built up of:\n",
    "    <ul>\n",
    "        <li>2 convolutional layers</li>\n",
    "        <li>A 2x2 pooling layer applied multiple times</li>\n",
    "        <li>A dropout layer with 25% probability applied multiple times</li>\n",
    "        <li>A linear stack comprised of\n",
    "        <ul style=\"list-style-type:square;\">\n",
    "            <li>A linear layer outputting 512 elements</li>\n",
    "            <li>A second linear layer with the same number of inputs and outputs</li>\n",
    "        </ul>\n",
    "    </ul>  "
   ]
  },
  {
   "cell_type": "code",
   "execution_count": 36,
   "id": "ccd37174-b646-4bbf-81a7-8e83b45db21f",
   "metadata": {},
   "outputs": [],
   "source": [
    "from torch import nn\n",
    "import torch.nn.functional as F\n",
    "class Test_CNN(nn.Module):\n",
    "    def __init__(self, num_of_rows = 13, num_of_cols = 181,\n",
    "                 n_filters1=4, n_filters2=8, out_categories=12):\n",
    "        super().__init__()\n",
    "\n",
    "        self.conv1 = nn.Conv2d(\n",
    "                in_channels=1,            # 1 for grayscale\n",
    "                out_channels=n_filters1,   # Number of filters\n",
    "                kernel_size=3,            # 3x3 convolution\n",
    "                stride=1,\n",
    "                padding=1          # Keep output size same as input\n",
    "                )\n",
    "        self.pool = nn.MaxPool2d(2, 2)  # halves size\n",
    "\n",
    "        self.conv2 = nn.Conv2d(\n",
    "                in_channels=n_filters1,    # NOTE: Use n_filters1 from conv1\n",
    "                out_channels=n_filters2,   # New number of filters\n",
    "                kernel_size=3,            # 3x3 convolution\n",
    "                stride=1,\n",
    "                padding=1          # Keep output size same as input\n",
    "                )\n",
    "\n",
    "        self.drop = nn.Dropout2d(p=0.25); # Drops samples to 0 with a 25% probability\n",
    "\n",
    "        # out_categories should match the number of output categories.\n",
    "        # Match the dimensions to the input.\n",
    "        # Divide by 2 for each maxpooling (carefull for non-even numbers ...)\n",
    "        num_of_points = math.floor(num_of_rows/(2*2)) * math.floor(num_of_cols/(2*2))\n",
    "\n",
    "        # Linear layer stack\n",
    "        # Accepts the outputs from previous layer, outputs 512\n",
    "        self.linear_relu_stack = nn.Sequential(\n",
    "            nn.Linear(num_of_points*n_filters2, 512),\n",
    "            nn.ReLU(),\n",
    "            nn.Linear(512, 512)\n",
    "        )\n",
    "\n",
    "        # Final layer collects the pixels from all of the inputs:\n",
    "        self.fc1 = nn.Linear(512, out_categories)\n",
    "        \n",
    "\n",
    "    def forward(self, x):\n",
    "        x = self.pool(F.relu(self.conv1(x)))  # -> [batch, 4, rows/2, cols/2]\n",
    "        x = self.drop(x);                     # -> Apply dropout\n",
    "        x = self.pool(F.relu(self.conv2(x)))  # -> [batch, 8, rows/4, cols/4]\n",
    "        x = self.drop(x);                     # -> Apply dropout a second time\n",
    "        x = x.view(x.size(0), -1)             # -> flatten to [batch, 8*(rows/4)*(cols/4)]\n",
    "        x = self.linear_relu_stack(x);        # -> Pass through linear stack\n",
    "        logits = F.relu(self.fc1(x))          # -> Determine logits\n",
    "        return logits # Note: SoftMax is applied to logits by cross-entropy loss function.\n",
    "\n",
    "device = torch.accelerator.current_accelerator().type if torch.accelerator.is_available() else \"cpu\"\n",
    "torch.cuda.empty_cache()\n",
    "model = Test_CNN(n_filters1=4, n_filters2=8).to(device)"
   ]
  },
  {
   "cell_type": "markdown",
   "id": "a108d730-9520-4462-86c4-b731092253cd",
   "metadata": {},
   "source": [
    "<p>Looking at the full model, we can print the model and the full list of parameters for each layer</p>"
   ]
  },
  {
   "cell_type": "code",
   "execution_count": 37,
   "id": "b5190ece-2d20-411c-a67f-a4abd2d40d68",
   "metadata": {},
   "outputs": [
    {
     "name": "stdout",
     "output_type": "stream",
     "text": [
      "Test_CNN(\n",
      "  (conv1): Conv2d(1, 4, kernel_size=(3, 3), stride=(1, 1), padding=(1, 1))\n",
      "  (pool): MaxPool2d(kernel_size=2, stride=2, padding=0, dilation=1, ceil_mode=False)\n",
      "  (conv2): Conv2d(4, 8, kernel_size=(3, 3), stride=(1, 1), padding=(1, 1))\n",
      "  (drop): Dropout2d(p=0.25, inplace=False)\n",
      "  (linear_relu_stack): Sequential(\n",
      "    (0): Linear(in_features=1080, out_features=512, bias=True)\n",
      "    (1): ReLU()\n",
      "    (2): Linear(in_features=512, out_features=512, bias=True)\n",
      "  )\n",
      "  (fc1): Linear(in_features=512, out_features=12, bias=True)\n",
      ")\n",
      " \n",
      "Layer                                        # Params  Trainable\n",
      "-----------------------------------------------------------------\n",
      "conv1.weight                                       36       True\n",
      "conv1.bias                                          4       True\n",
      "conv2.weight                                      288       True\n",
      "conv2.bias                                          8       True\n",
      "linear_relu_stack.0.weight                    552,960       True\n",
      "linear_relu_stack.0.bias                          512       True\n",
      "linear_relu_stack.2.weight                    262,144       True\n",
      "linear_relu_stack.2.bias                          512       True\n",
      "fc1.weight                                      6,144       True\n",
      "fc1.bias                                           12       True\n",
      "-----------------------------------------------------------------\n",
      "Total                                         822,620           \n",
      "Trainable                                     822,620\n"
     ]
    }
   ],
   "source": [
    "def parameter_report(model):\n",
    "    print(f\"{'Layer':<40} {'# Params':>12} {'Trainable':>10}\")\n",
    "    print(\"-\" * 65)\n",
    "    total, trainable = 0, 0\n",
    "    for name, param in model.named_parameters():\n",
    "        num_params = param.numel()\n",
    "        is_trainable = param.requires_grad\n",
    "        print(f\"{name:<40} {num_params:>12,} {str(is_trainable):>10}\")\n",
    "        total += num_params\n",
    "        if is_trainable:\n",
    "            trainable += num_params\n",
    "    print(\"-\" * 65)\n",
    "    print(f\"{'Total':<40} {total:>12,} {'':>10}\")\n",
    "    print(f\"{'Trainable':<40} {trainable:>12,}\")\n",
    "\n",
    "\n",
    "print(model)\n",
    "print(\" \")\n",
    "\n",
    "parameter_report(model)"
   ]
  },
  {
   "cell_type": "markdown",
   "id": "f5130a09-a6aa-469e-968f-932a5ea69887",
   "metadata": {},
   "source": [
    "<p>To train the model, we need to specify a loss function and an optimizer. Based on our output of raw, un-normalized logits in the model, we are limited to CrossEntropyLoss or BCEWithLogitsLoss from the PyTorch library. Here we will select CrossEntropy, and use Stochastic Gradient Decent as the optimizer.</p>"
   ]
  },
  {
   "cell_type": "code",
   "execution_count": 38,
   "id": "352ab89a-6447-4628-8ac9-8660237679ec",
   "metadata": {},
   "outputs": [],
   "source": [
    "loss_fn = nn.CrossEntropyLoss()\n",
    "optimizer = torch.optim.SGD(model.parameters(), lr=1e-3)"
   ]
  },
  {
   "cell_type": "markdown",
   "id": "4fb21658-3c8c-4d73-ace7-d8de45c33824",
   "metadata": {},
   "source": [
    "<p>The training function, defined below, runs through a given number of epochs, or until the model demonstrates small enough changes to the average training loss. For each epoch, the function runs through all of the batches within the dataloader and tests the model accuracy. After each epoch, a learning rate scheduler is update, with the goal of tailoring the learning rate to the current optimization state. Both an Exponential learning rate and a MultiStep learning rate scheduler are used to try and improve the speed at which the average loss converges.</p>\n",
    "\n",
    "<p>In addition, a progress bar is printed to monitor training progress. If interested in the progression of the training, there is a commented print statement that will produce the average loss rate for each epoch</p>"
   ]
  },
  {
   "cell_type": "code",
   "execution_count": 39,
   "id": "99a9fb57-bc1d-46f4-840b-5689c0cd50fc",
   "metadata": {},
   "outputs": [],
   "source": [
    "from torch.optim.lr_scheduler import LRScheduler\n",
    "from torch.optim.lr_scheduler import MultiStepLR\n",
    "from torch.optim.lr_scheduler import ExponentialLR\n",
    "def train(dataloader, model, loss_fn, optimizer, epochs):\n",
    "    size = len(dataloader.dataset)\n",
    "    model.train() # Put the model in training mode.\n",
    "    scheduler1 = ExponentialLR(optimizer, gamma=0.9)\n",
    "    scheduler2 = MultiStepLR(optimizer, milestones=[30,80], gamma=0.1)\n",
    "    print(f\"  0%[{20*\" \"}]\\r\",end=\"\");\n",
    "    for ep in range(epochs):\n",
    "        test_loss, num, loss_last = 0, 0, 0\n",
    "        for batch, (X, y) in enumerate(dataloader):\n",
    "            # Place the model and predictions on the same device.\n",
    "            X, y = X.to(device), y.to(device)\n",
    "            # Compute prediction error\n",
    "            pred = model(X)\n",
    "            loss = loss_fn(pred, y)\n",
    "            test_loss += loss.item();\n",
    "            num+=1;\n",
    "    \n",
    "            # Backpropagation\n",
    "            # This step updates the parameter values inside your network.\n",
    "            loss.backward()\n",
    "            optimizer.step()\n",
    "            optimizer.zero_grad()\n",
    "    \n",
    "        if (loss_last - (test_loss/num)  < 0.005 and loss_last - (test_loss/num) > 0):\n",
    "            break;\n",
    "        else:\n",
    "            loss_last = test_loss/num;\n",
    "        \n",
    "        #print(f\"loss: {test_loss/num:>7f}\")\n",
    "        print(f\"{100*(ep/epochs):3.0f}%[{int(20 * ep/epochs)*\"■\"}{(20-int(20 * ep/epochs))*\" \"}]\\r\",end=\"\");\n",
    "        # Step the learning rate schedulers based on the current status\n",
    "        scheduler1.step();\n",
    "        scheduler2.step();\n",
    "    print(f\"100%[{20*\"■\"}]\\r\");"
   ]
  },
  {
   "cell_type": "markdown",
   "id": "92accbb7-34c9-4322-96fe-18cd8832d81c",
   "metadata": {},
   "source": [
    "<p>To test the model, we have the following function, which will calculate the accuracy of the model on another (the test) dataloader</p>"
   ]
  },
  {
   "cell_type": "code",
   "execution_count": 40,
   "id": "57b1f8f6-40a7-4da2-860b-65cac275f795",
   "metadata": {},
   "outputs": [],
   "source": [
    "def test(dataloader, model, loss_fn):\n",
    "    size = len(dataloader.dataset)\n",
    "    num_batches = len(dataloader)\n",
    "    model.eval() # Put the model in testing mode.\n",
    "    test_loss, correct = 0, 0\n",
    "    with torch.no_grad():\n",
    "        for X, y in dataloader:\n",
    "            X, y = X.to(device), y.to(device)\n",
    "            pred = model(X)\n",
    "            test_loss += loss_fn(pred, y).item()\n",
    "            correct += (pred.argmax(1) == y).type(torch.float).sum().item()\n",
    "    test_loss /= num_batches\n",
    "    correct /= size\n",
    "    print(f\"Test Error: \\n Accuracy: {(100*correct):>0.1f}%, Avg loss: {test_loss:>8f} \\n\")"
   ]
  },
  {
   "cell_type": "markdown",
   "id": "66491e71-7004-4a4b-ba75-bc991c475a9c",
   "metadata": {},
   "source": [
    "<p>Finally it is time to train the model. The following two functions will run through the training, and then print the accuracy and average loss for the test dataset. Be aware, even when run on a CUDA accelerated GPU for processing, this step can be slow. The small batch size forces many steps to push the data to the GPU, and takes time to process.</p>\n",
    "\n",
    "<p>In addition, it is not uncommon for the optimizer to fail to train the model well, likely due to the poor ratio between the number of weights and the number of samples. If you find that the average loss remains above 2, restarting the kernel and running all blocks again will likely produce different results.</p>"
   ]
  },
  {
   "cell_type": "code",
   "execution_count": 41,
   "id": "2fe99e3e-a4e5-4fcd-a979-b27233cfe26f",
   "metadata": {},
   "outputs": [
    {
     "name": "stdout",
     "output_type": "stream",
     "text": [
      "100%[■■■■■■■■■■■■■■■■■■■■]\n",
      "Test Error: \n",
      " Accuracy: 91.6%, Avg loss: 0.328587 \n",
      "\n"
     ]
    }
   ],
   "source": [
    "train(MFCC_train_dataloader, model, loss_fn, optimizer, 100);\n",
    "test(MFCC_test_dataloader, model, loss_fn)"
   ]
  },
  {
   "cell_type": "code",
   "execution_count": 42,
   "id": "d85c62af-cdfc-464a-b26e-686200e9b794",
   "metadata": {},
   "outputs": [
    {
     "name": "stdout",
     "output_type": "stream",
     "text": [
      "Test Error: \n",
      " Accuracy: 97.9%, Avg loss: 0.134230 \n",
      "\n"
     ]
    }
   ],
   "source": [
    "test(MFCC_train_dataloader,model,loss_fn)"
   ]
  },
  {
   "cell_type": "markdown",
   "id": "0838384b-11f9-454f-b15a-ebaa3ba6de5f",
   "metadata": {},
   "source": [
    "<p>We can save the model weights to use later if desired.</p>"
   ]
  },
  {
   "cell_type": "code",
   "execution_count": 43,
   "id": "fc325547-26f3-403c-81c3-74cca8c14546",
   "metadata": {},
   "outputs": [],
   "source": [
    "torch.save(model.state_dict(), \"MFCC.pth\")"
   ]
  },
  {
   "cell_type": "markdown",
   "id": "a7dc0441-de88-4fbf-93f5-1cf46c4b50dd",
   "metadata": {},
   "source": [
    "<p>We can also quickly grab a random test index and plot it to see if the predicted and actual labels match</p>"
   ]
  },
  {
   "cell_type": "code",
   "execution_count": 44,
   "id": "f4262916-4878-4645-8450-de2b8d7b41a0",
   "metadata": {},
   "outputs": [
    {
     "name": "stdout",
     "output_type": "stream",
     "text": [
      "Outputs for all categories:\n",
      "tensor([[ 7.8429,  5.1866,  0.2684, 13.3654,  0.0000,  0.0000, 34.9178,  7.5357,\n",
      "          0.0000,  3.3122,  3.8848,  0.1732]], device='cuda:0')\n",
      "Predicted: \"Pump 3 Start\", Actual: \"Pump 3 Start\"\n"
     ]
    },
    {
     "data": {
      "image/png": "[encoded data removed]",
      "text/plain": [
       "<Figure size 640x480 with 1 Axes>"
      ]
     },
     "metadata": {},
     "output_type": "display_data"
    }
   ],
   "source": [
    "# Put the model in evaluation mode.\n",
    "model.eval()\n",
    "\n",
    "# Grab a test index\n",
    "test_index = 105\n",
    "x, y = MFCC_test_data[test_index][0], MFCC_test_data[test_index][1]\n",
    "\n",
    "img  = x.squeeze()\n",
    "\n",
    "with torch.no_grad():\n",
    "    x = x.to(device)\n",
    "\n",
    "    pred = model(x.unsqueeze(0)) # Create a batch size = 1 using unsqueeze()\n",
    "\n",
    "    print(\"Outputs for all categories:\")\n",
    "    print(pred)\n",
    "    predicted, actual = classes[pred[0].argmax(0)], classes[y]\n",
    "    print(f'Predicted: \"{predicted}\", Actual: \"{actual}\"')\n",
    "\n",
    "    plt.imshow(img, cmap='gray')\n",
    "    plt.title(f'Predicted: \"{predicted}\", Actual: \"{actual}\"', fontsize=10)\n",
    "    plt.axis('off')\n",
    "    plt.show()"
   ]
  },
  {
   "cell_type": "markdown",
   "id": "14ebd510-4e8d-4914-adac-d20fdb9a979b",
   "metadata": {},
   "source": [
    "<p>Finally, we can generate ROC curves and AUC scores for each of the One-vs-Rest cases</p>"
   ]
  },
  {
   "cell_type": "code",
   "execution_count": 46,
   "id": "1596b5a2-dbbc-4bea-982b-d22bed28150c",
   "metadata": {},
   "outputs": [
    {
     "data": {
      "image/png": "[encoded data removed]",
      "text/plain": [
       "<Figure size 640x480 with 1 Axes>"
      ]
     },
     "metadata": {},
     "output_type": "display_data"
    }
   ],
   "source": [
    "from torchmetrics.classification import ROC\n",
    "from torchmetrics.classification import AUROC\n",
    "import matplotlib.pyplot as plt\n",
    "\n",
    "model.eval()\n",
    "pred = 0;\n",
    "for i in range(len(testInds)):\n",
    "    # Grab a test index\n",
    "    x, y_inst = MFCC_test_data[i]\n",
    "    with torch.no_grad():\n",
    "        x = x.to(device)\n",
    "        if type(pred)==int:\n",
    "            pred = model(x.unsqueeze(0))\n",
    "            y = y_inst;\n",
    "        else:\n",
    "            pred = torch.cat((pred,model(x.unsqueeze(0))),dim=0);\n",
    "            y = np.append(y, y_inst);\n",
    "y = torch.as_tensor(y).to(device);\n",
    "\n",
    "roc_metric = ROC(task=\"multiclass\", num_classes=12)\n",
    "roc_metric.update(pred, y)\n",
    "fpr, tpr, thresholds = roc_metric.compute()\n",
    "\n",
    "AUC = AUROC(task=\"multiclass\", num_classes=12, average=None)\n",
    "AUC.update(pred, y)\n",
    "AUCs = AUC.compute()\n",
    "#print(f\"Aggregate ROC AUC: {AUCs[0].cpu().numpy():.4f}\")\n",
    "\n",
    "\n",
    "plt.figure()\n",
    "for i in range(12):\n",
    "    plt.plot(fpr[i].cpu(), tpr[i].cpu(), label=f\"{classes[i]} (AUC={AUCs[i].cpu().numpy():.2f})\")\n",
    "plt.plot([0, 1], [0, 1], 'k--', label=\"Chance Level\") # dashed diagonal\n",
    "plt.xlabel(\"False Positive Rate\")\n",
    "plt.ylabel(\"True Positive Rate\")\n",
    "plt.title(\"Receiver Operating Characteristic (ROC) Curve\")\n",
    "plt.legend(loc=\"lower right\")\n",
    "plt.grid()\n",
    "plt.show()"
   ]
  },
  {
   "cell_type": "code",
   "execution_count": null,
   "id": "218c7986-09c0-4ae4-b8b4-1135abab0b8b",
   "metadata": {},
   "outputs": [],
   "source": []
  }
 ],
 "metadata": {
  "kernelspec": {
   "display_name": "Python 3 (ipykernel)",
   "language": "python",
   "name": "python3"
  },
  "language_info": {
   "codemirror_mode": {
    "name": "ipython",
    "version": 3
   },
   "file_extension": ".py",
   "mimetype": "text/x-python",
   "name": "python",
   "nbconvert_exporter": "python",
   "pygments_lexer": "ipython3",
   "version": "3.12.11"
  }
 },
 "nbformat": 4,
 "nbformat_minor": 5
}
