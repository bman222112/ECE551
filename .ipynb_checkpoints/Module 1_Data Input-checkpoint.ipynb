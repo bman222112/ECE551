{
 "cells": [
  {
   "cell_type": "markdown",
   "id": "4a77ba11-884f-4efd-9b12-a2c6c6a51c9f",
   "metadata": {},
   "source": [
    "<p style=\"font-size:20px;font-weight:bold;\">Module 1 - Data Input</p>\n",
    "In order to simplify the handling of data further on, this module is responsible for reading in all audio data, performing the feature extraction and labeling, and saving the result to Numpy files. </br>\n",
    "</br>\n",
    "Data will be read in from all wav files in the dataset directory, with the labels being determined by the path name. Do not place any unrelated wav files, as they will cause issues.</br>\n",
    "For example, files in : '.\\Dataset\\Pump 1\\run\\' will be labeled as Pump 1 Run"
   ]
  },
  {
   "cell_type": "code",
   "execution_count": 1,
   "id": "60ca8e92-5141-43ce-889f-58f6bd5c040d",
   "metadata": {},
   "outputs": [],
   "source": [
    "import librosa\n",
    "import numpy as np\n",
    "import os\n",
    "import torchaudio\n",
    "from torchaudio import transforms"
   ]
  },
  {
   "cell_type": "code",
   "execution_count": 2,
   "id": "ef083fde-e516-4a19-99c5-dd3d5ad5fc41",
   "metadata": {},
   "outputs": [
    {
     "name": "stdout",
     "output_type": "stream",
     "text": [
      "(2754,)\n"
     ]
    }
   ],
   "source": [
    "## For labels, pumps 1-4 = labels 0, 3, 6, and 9\n",
    "## For run state, add: start = 0, run = 1, stop = 2\n",
    "\n",
    "samples = 0;\n",
    "for root,dirs,files in os.walk(\".\\\\Dataset\", topdown=True):\n",
    "    for name in files:\n",
    "        if(\".wav\" in name):\n",
    "            samples += 1;\n",
    "paths = [];\n",
    "labels= np.zeros(samples);\n",
    "print(labels.shape);\n",
    "i=0;\n",
    "for root,dirs,files in os.walk(\".\\\\Dataset\", topdown=True):\n",
    "    for name in files:\n",
    "        if(\"Pump 1\" in root):\n",
    "            paths.append(os.path.join(root,name));\n",
    "            labels[i] = 0;\n",
    "            if(\"run\" in root):\n",
    "                labels[i] += 1;\n",
    "            elif(\"start\" in root):\n",
    "                labels[i] += 0;\n",
    "            elif(\"stop\" in root):\n",
    "                labels[i] += 2;\n",
    "        elif(\"Pump 2\" in root):\n",
    "            paths.append(os.path.join(root,name));\n",
    "            labels[i] = 3;\n",
    "            if(\"run\" in root):\n",
    "                labels[i] += 1;\n",
    "            elif(\"start\" in root):\n",
    "                labels[i] += 0;\n",
    "            elif(\"stop\" in root):\n",
    "                labels[i] += 2;\n",
    "        elif(\"Pump 3\" in root):\n",
    "            paths.append(os.path.join(root,name));\n",
    "            labels[i] = 6;\n",
    "            if(\"run\" in root):\n",
    "                labels[i] += 1;\n",
    "            elif(\"start\" in root):\n",
    "                labels[i] += 0;\n",
    "            elif(\"stop\" in root):\n",
    "                labels[i] += 2;\n",
    "        elif(\"Pump 4\" in root):\n",
    "            paths.append(os.path.join(root,name));\n",
    "            labels[i] = 9;\n",
    "            if(\"run\" in root):\n",
    "                labels[i] += 1;\n",
    "            elif(\"start\" in root):\n",
    "                labels[i] += 0;\n",
    "            elif(\"stop\" in root):\n",
    "                labels[i] += 2;\n",
    "        else:\n",
    "            print(\"Bad File \" + str(i));\n",
    "            print(os.path.join(root,name));\n",
    "            i += -1;\n",
    "        i += 1;"
   ]
  },
  {
   "cell_type": "code",
   "execution_count": 3,
   "id": "475c9c4c-d1cb-41d1-bc5f-eef440acd23a",
   "metadata": {},
   "outputs": [
    {
     "name": "stdout",
     "output_type": "stream",
     "text": [
      "(2754, 14)\n"
     ]
    }
   ],
   "source": [
    "shortestSamples = 46298*2;\n",
    "samples_LPC = np.zeros((len(paths),14));\n",
    "count = 0;\n",
    "for path in paths:\n",
    "    y,sr = librosa.load(path,sr=None);\n",
    "    samples_LPC[count] = librosa.lpc(y[:shortestSamples],order=13)\n",
    "    count += 1;\n",
    "print(samples_LPC.shape);"
   ]
  },
  {
   "cell_type": "code",
   "execution_count": 4,
   "id": "c519c9f8-1444-459c-bc14-26627c00dbb4",
   "metadata": {},
   "outputs": [],
   "source": [
    "np.save(\"2D_LPC_aug.npy\",samples_LPC);"
   ]
  },
  {
   "cell_type": "code",
   "execution_count": null,
   "id": "b8dd8a27-ecb5-42ee-9d9c-936d6d59e14c",
   "metadata": {},
   "outputs": [],
   "source": []
  }
 ],
 "metadata": {
  "kernelspec": {
   "display_name": "Python 3 (ipykernel)",
   "language": "python",
   "name": "python3"
  },
  "language_info": {
   "codemirror_mode": {
    "name": "ipython",
    "version": 3
   },
   "file_extension": ".py",
   "mimetype": "text/x-python",
   "name": "python",
   "nbconvert_exporter": "python",
   "pygments_lexer": "ipython3",
   "version": "3.12.11"
  }
 },
 "nbformat": 4,
 "nbformat_minor": 5
}
